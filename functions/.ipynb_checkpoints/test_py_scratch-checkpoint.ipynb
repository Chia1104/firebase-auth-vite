{
 "cells": [
  {
   "cell_type": "code",
   "execution_count": 1,
   "id": "0b28a93e-7eb9-4496-bb7e-9ea92d038272",
   "metadata": {},
   "outputs": [],
   "source": [
    "# %env GOOGLE_APPLICATION_CREDENTIALS"
   ]
  },
  {
   "cell_type": "code",
   "execution_count": 6,
   "id": "355dc0fe-05c0-4701-aeb4-3c58a3d9df5e",
   "metadata": {},
   "outputs": [],
   "source": [
    "import firebase_admin\n",
    "from firebase_admin import firestore\n",
    "from firebase_admin import credentials\n",
    "class Firestore:\n",
    "    def __init__(self,service_account_file=\"C:/i/auth/run-pix-092258e3cb1b.json\"):\n",
    "        cred = credentials.Certificate(service_account_file)\n",
    "        try: self.app = firebase_admin.initialize_app(cred)\n",
    "        except: self.app = firebase_admin.get_app()\n",
    "        self.fstore=firestore.client()\n",
    "    \"delete all subnodes\"\n",
    "    def delete_all_docs(self,collection):\n",
    "        for n in collection.get():\n",
    "            print(n.__dict__)\n",
    "            n._reference.delete()\n",
    "    def collection(self):\n",
    "        return self.fstore\n",
    "    \n",
    "    \n",
    "runpix=Firestore()"
   ]
  },
  {
   "cell_type": "code",
   "execution_count": 7,
   "id": "cb11869a-2325-462e-8715-bf242f369f6d",
   "metadata": {},
   "outputs": [],
   "source": [
    "runpix.delete_all_docs(runpix.fstore.collection('races').document('test').collection('readings'))"
   ]
  },
  {
   "cell_type": "code",
   "execution_count": 13,
   "id": "710892d1-9aaf-42d9-8957-1533f1847b54",
   "metadata": {},
   "outputs": [
    {
     "ename": "AttributeError",
     "evalue": "'str' object has no attribute '_document_path'",
     "output_type": "error",
     "traceback": [
      "\u001b[1;31m---------------------------------------------------------------------------\u001b[0m",
      "\u001b[1;31mAttributeError\u001b[0m                            Traceback (most recent call last)",
      "\u001b[1;32m~\\AppData\\Local\\Temp\\ipykernel_30392\\2004802939.py\u001b[0m in \u001b[0;36m<module>\u001b[1;34m\u001b[0m\n\u001b[1;32m----> 1\u001b[1;33m \u001b[1;33m[\u001b[0m\u001b[0mx\u001b[0m \u001b[1;32mfor\u001b[0m \u001b[0mx\u001b[0m \u001b[1;32min\u001b[0m \u001b[0mrunpix\u001b[0m\u001b[1;33m.\u001b[0m\u001b[0mfstore\u001b[0m\u001b[1;33m.\u001b[0m\u001b[0mget_all\u001b[0m\u001b[1;33m(\u001b[0m\u001b[1;34m'/races'\u001b[0m\u001b[1;33m)\u001b[0m\u001b[1;33m]\u001b[0m\u001b[1;33m\u001b[0m\u001b[1;33m\u001b[0m\u001b[0m\n\u001b[0m",
      "\u001b[1;32m~\\AppData\\Local\\Temp\\ipykernel_30392\\2004802939.py\u001b[0m in \u001b[0;36m<listcomp>\u001b[1;34m(.0)\u001b[0m\n\u001b[1;32m----> 1\u001b[1;33m \u001b[1;33m[\u001b[0m\u001b[0mx\u001b[0m \u001b[1;32mfor\u001b[0m \u001b[0mx\u001b[0m \u001b[1;32min\u001b[0m \u001b[0mrunpix\u001b[0m\u001b[1;33m.\u001b[0m\u001b[0mfstore\u001b[0m\u001b[1;33m.\u001b[0m\u001b[0mget_all\u001b[0m\u001b[1;33m(\u001b[0m\u001b[1;34m'/races'\u001b[0m\u001b[1;33m)\u001b[0m\u001b[1;33m]\u001b[0m\u001b[1;33m\u001b[0m\u001b[1;33m\u001b[0m\u001b[0m\n\u001b[0m",
      "\u001b[1;32mc:\\sw\\python37\\lib\\site-packages\\google\\cloud\\firestore_v1\\client.py\u001b[0m in \u001b[0;36mget_all\u001b[1;34m(self, references, field_paths, transaction, retry, timeout)\u001b[0m\n\u001b[0;32m    258\u001b[0m         \"\"\"\n\u001b[0;32m    259\u001b[0m         request, reference_map, kwargs = self._prep_get_all(\n\u001b[1;32m--> 260\u001b[1;33m             \u001b[0mreferences\u001b[0m\u001b[1;33m,\u001b[0m \u001b[0mfield_paths\u001b[0m\u001b[1;33m,\u001b[0m \u001b[0mtransaction\u001b[0m\u001b[1;33m,\u001b[0m \u001b[0mretry\u001b[0m\u001b[1;33m,\u001b[0m \u001b[0mtimeout\u001b[0m\u001b[1;33m\u001b[0m\u001b[1;33m\u001b[0m\u001b[0m\n\u001b[0m\u001b[0;32m    261\u001b[0m         )\n\u001b[0;32m    262\u001b[0m \u001b[1;33m\u001b[0m\u001b[0m\n",
      "\u001b[1;32mc:\\sw\\python37\\lib\\site-packages\\google\\cloud\\firestore_v1\\base_client.py\u001b[0m in \u001b[0;36m_prep_get_all\u001b[1;34m(self, references, field_paths, transaction, retry, timeout)\u001b[0m\n\u001b[0;32m    412\u001b[0m     ) -> Tuple[dict, dict, dict]:\n\u001b[0;32m    413\u001b[0m         \u001b[1;34m\"\"\"Shared setup for async/sync :meth:`get_all`.\"\"\"\u001b[0m\u001b[1;33m\u001b[0m\u001b[1;33m\u001b[0m\u001b[0m\n\u001b[1;32m--> 414\u001b[1;33m         \u001b[0mdocument_paths\u001b[0m\u001b[1;33m,\u001b[0m \u001b[0mreference_map\u001b[0m \u001b[1;33m=\u001b[0m \u001b[0m_reference_info\u001b[0m\u001b[1;33m(\u001b[0m\u001b[0mreferences\u001b[0m\u001b[1;33m)\u001b[0m\u001b[1;33m\u001b[0m\u001b[1;33m\u001b[0m\u001b[0m\n\u001b[0m\u001b[0;32m    415\u001b[0m         \u001b[0mmask\u001b[0m \u001b[1;33m=\u001b[0m \u001b[0m_get_doc_mask\u001b[0m\u001b[1;33m(\u001b[0m\u001b[0mfield_paths\u001b[0m\u001b[1;33m)\u001b[0m\u001b[1;33m\u001b[0m\u001b[1;33m\u001b[0m\u001b[0m\n\u001b[0;32m    416\u001b[0m         request = {\n",
      "\u001b[1;32mc:\\sw\\python37\\lib\\site-packages\\google\\cloud\\firestore_v1\\base_client.py\u001b[0m in \u001b[0;36m_reference_info\u001b[1;34m(references)\u001b[0m\n\u001b[0;32m    480\u001b[0m     \u001b[0mreference_map\u001b[0m \u001b[1;33m=\u001b[0m \u001b[1;33m{\u001b[0m\u001b[1;33m}\u001b[0m\u001b[1;33m\u001b[0m\u001b[1;33m\u001b[0m\u001b[0m\n\u001b[0;32m    481\u001b[0m     \u001b[1;32mfor\u001b[0m \u001b[0mreference\u001b[0m \u001b[1;32min\u001b[0m \u001b[0mreferences\u001b[0m\u001b[1;33m:\u001b[0m\u001b[1;33m\u001b[0m\u001b[1;33m\u001b[0m\u001b[0m\n\u001b[1;32m--> 482\u001b[1;33m         \u001b[0mdoc_path\u001b[0m \u001b[1;33m=\u001b[0m \u001b[0mreference\u001b[0m\u001b[1;33m.\u001b[0m\u001b[0m_document_path\u001b[0m\u001b[1;33m\u001b[0m\u001b[1;33m\u001b[0m\u001b[0m\n\u001b[0m\u001b[0;32m    483\u001b[0m         \u001b[0mdocument_paths\u001b[0m\u001b[1;33m.\u001b[0m\u001b[0mappend\u001b[0m\u001b[1;33m(\u001b[0m\u001b[0mdoc_path\u001b[0m\u001b[1;33m)\u001b[0m\u001b[1;33m\u001b[0m\u001b[1;33m\u001b[0m\u001b[0m\n\u001b[0;32m    484\u001b[0m         \u001b[0mreference_map\u001b[0m\u001b[1;33m[\u001b[0m\u001b[0mdoc_path\u001b[0m\u001b[1;33m]\u001b[0m \u001b[1;33m=\u001b[0m \u001b[0mreference\u001b[0m\u001b[1;33m\u001b[0m\u001b[1;33m\u001b[0m\u001b[0m\n",
      "\u001b[1;31mAttributeError\u001b[0m: 'str' object has no attribute '_document_path'"
     ]
    }
   ],
   "source": [
    "[x for x in runpix.fstore.get_all('/races')]"
   ]
  },
  {
   "cell_type": "code",
   "execution_count": 9,
   "id": "8eed66f7-4161-4ddd-8113-9a35763eedbe",
   "metadata": {},
   "outputs": [
    {
     "data": {
      "text/plain": [
       "<generator object Client.collections at 0x0000026ECC56F2C8>"
      ]
     },
     "execution_count": 9,
     "metadata": {},
     "output_type": "execute_result"
    }
   ],
   "source": [
    "runpix.fstore.collections()"
   ]
  },
  {
   "cell_type": "code",
   "execution_count": null,
   "id": "98086fd2-998d-472b-ad17-da55a89164f0",
   "metadata": {},
   "outputs": [],
   "source": [
    "a."
   ]
  },
  {
   "cell_type": "code",
   "execution_count": null,
   "id": "60ac0828-4c96-420f-807d-865463655134",
   "metadata": {},
   "outputs": [],
   "source": [
    "\n",
    "for c1 in fstore.collections():\n",
    "    print (c1.id)\n",
    "    # properties\n",
    "    for c1d in c1.get():\n",
    "        print(c1d.to_dict())\n",
    "        \n",
    "        for c2 in c1d.collections():\n",
    "            print(c2.id)\n",
    "    print()"
   ]
  },
  {
   "cell_type": "code",
   "execution_count": null,
   "id": "ca20c36d-9489-48cb-bf72-0fbb1327094c",
   "metadata": {},
   "outputs": [],
   "source": [
    "b=a.get()[0]"
   ]
  },
  {
   "cell_type": "code",
   "execution_count": null,
   "id": "bb96816f-e74e-4e3b-9767-9e6f95be7b31",
   "metadata": {},
   "outputs": [],
   "source": [
    "fstore.collection('races').document('test1').get().to_dict()"
   ]
  },
  {
   "cell_type": "code",
   "execution_count": null,
   "id": "9923b15e-7bbf-43a4-81ad-9e5635a767c1",
   "metadata": {},
   "outputs": [],
   "source": []
  },
  {
   "cell_type": "code",
   "execution_count": null,
   "id": "5b89e137-1a2b-4f49-aeab-aecb4de41036",
   "metadata": {},
   "outputs": [],
   "source": []
  }
 ],
 "metadata": {
  "kernelspec": {
   "display_name": "Python 3.7.7 64-bit",
   "language": "python",
   "name": "python37764bitc5897122caa0434383891ed0ae32496e"
  },
  "language_info": {
   "codemirror_mode": {
    "name": "ipython",
    "version": 3
   },
   "file_extension": ".py",
   "mimetype": "text/x-python",
   "name": "python",
   "nbconvert_exporter": "python",
   "pygments_lexer": "ipython3",
   "version": "3.7.7"
  }
 },
 "nbformat": 4,
 "nbformat_minor": 5
}
