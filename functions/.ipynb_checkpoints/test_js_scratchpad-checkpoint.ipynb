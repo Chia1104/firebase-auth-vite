{
 "cells": [
  {
   "cell_type": "code",
   "execution_count": 45,
   "id": "07861390-6baf-4b77-97de-6dc3239706c6",
   "metadata": {},
   "outputs": [
    {
     "data": {
      "text/plain": [
       "'win32;c:\\\\m\\\\runpix\\\\functions'"
      ]
     },
     "execution_count": 45,
     "metadata": {},
     "output_type": "execute_result"
    }
   ],
   "source": [
    "'use strict';\n",
    "\n",
    "fs = require('fs');\n",
    "assert = require('assert');\n",
    "// dotenv = require('dotenv');\n",
    "`${os.platform()};${process.cwd()}`"
   ]
  },
  {
   "cell_type": "markdown",
   "id": "09dfdc6f-9ab2-4f98-9f84-770063e327f0",
   "metadata": {},
   "source": [
    "# EXIF"
   ]
  },
  {
   "cell_type": "code",
   "execution_count": 46,
   "id": "7c290668-b248-49f7-8cba-be829115a72f",
   "metadata": {},
   "outputs": [
    {
     "data": {
      "text/plain": [
       "[Function: Sharp] {\n",
       "  align: { left: 'low', center: 'centre', centre: 'centre', right: 'high' },\n",
       "  gravity: {\n",
       "    center: 0,\n",
       "    centre: 0,\n",
       "    north: 1,\n",
       "    east: 2,\n",
       "    south: 3,\n",
       "    west: 4,\n",
       "    northeast: 5,\n",
       "    southeast: 6,\n",
       "    southwest: 7,\n",
       "    northwest: 8\n",
       "  },\n",
       "  strategy: { entropy: 16, attention: 17 },\n",
       "  kernel: {\n",
       "    nearest: 'nearest',\n",
       "    cubic: 'cubic',\n",
       "    mitchell: 'mitchell',\n",
       "    lanczos2: 'lanczos2',\n",
       "    lanczos3: 'lanczos3'\n",
       "  },\n",
       "  fit: {\n",
       "    contain: 'contain',\n",
       "    cover: 'cover',\n",
       "    fill: 'fill',\n",
       "    inside: 'inside',\n",
       "    outside: 'outside'\n",
       "  },\n",
       "  position: {\n",
       "    top: 1,\n",
       "    right: 2,\n",
       "    bottom: 3,\n",
       "    left: 4,\n",
       "    'right top': 5,\n",
       "    'right bottom': 6,\n",
       "    'left bottom': 7,\n",
       "    'left top': 8\n",
       "  },\n",
       "  blend: {\n",
       "    clear: 'clear',\n",
       "    source: 'source',\n",
       "    over: 'over',\n",
       "    in: 'in',\n",
       "    out: 'out',\n",
       "    atop: 'atop',\n",
       "    dest: 'dest',\n",
       "    'dest-over': 'dest-over',\n",
       "    'dest-in': 'dest-in',\n",
       "    'dest-out': 'dest-out',\n",
       "    'dest-atop': 'dest-atop',\n",
       "    xor: 'xor',\n",
       "    add: 'add',\n",
       "    saturate: 'saturate',\n",
       "    multiply: 'multiply',\n",
       "    screen: 'screen',\n",
       "    overlay: 'overlay',\n",
       "    darken: 'darken',\n",
       "    lighten: 'lighten',\n",
       "    'colour-dodge': 'colour-dodge',\n",
       "    'color-dodge': 'colour-dodge',\n",
       "    'colour-burn': 'colour-burn',\n",
       "    'color-burn': 'colour-burn',\n",
       "    'hard-light': 'hard-light',\n",
       "    'soft-light': 'soft-light',\n",
       "    difference: 'difference',\n",
       "    exclusion: 'exclusion'\n",
       "  },\n",
       "  colourspace: {\n",
       "    multiband: 'multiband',\n",
       "    'b-w': 'b-w',\n",
       "    bw: 'b-w',\n",
       "    cmyk: 'cmyk',\n",
       "    srgb: 'srgb'\n",
       "  },\n",
       "  colorspace: {\n",
       "    multiband: 'multiband',\n",
       "    'b-w': 'b-w',\n",
       "    bw: 'b-w',\n",
       "    cmyk: 'cmyk',\n",
       "    srgb: 'srgb'\n",
       "  },\n",
       "  bool: { and: 'and', or: 'or', eor: 'eor' },\n",
       "  cache: [Function: cache],\n",
       "  concurrency: [Function: concurrency],\n",
       "  counters: [Function: counters],\n",
       "  simd: [Function: simd],\n",
       "  format: {\n",
       "    jpeg: { id: 'jpeg', input: [Object], output: [Object] },\n",
       "    png: { id: 'png', input: [Object], output: [Object] },\n",
       "    webp: { id: 'webp', input: [Object], output: [Object] },\n",
       "    tiff: { id: 'tiff', input: [Object], output: [Object] },\n",
       "    magick: { id: 'magick', input: [Object], output: [Object] },\n",
       "    openslide: { id: 'openslide', input: [Object], output: [Object] },\n",
       "    dz: { id: 'dz', input: [Object], output: [Object] },\n",
       "    ppm: { id: 'ppm', input: [Object], output: [Object] },\n",
       "    fits: { id: 'fits', input: [Object], output: [Object] },\n",
       "    gif: { id: 'gif', input: [Object], output: [Object] },\n",
       "    svg: { id: 'svg', input: [Object], output: [Object] },\n",
       "    heif: { id: 'heif', input: [Object], output: [Object] },\n",
       "    pdf: { id: 'pdf', input: [Object], output: [Object] },\n",
       "    vips: { id: 'vips', input: [Object], output: [Object] },\n",
       "    jp2k: { id: 'jp2k', input: [Object], output: [Object] },\n",
       "    jxl: { id: 'jxl', input: [Object], output: [Object] },\n",
       "    raw: { id: 'raw', input: [Object], output: [Object] }\n",
       "  },\n",
       "  interpolators: {\n",
       "    nearest: 'nearest',\n",
       "    bilinear: 'bilinear',\n",
       "    bicubic: 'bicubic',\n",
       "    locallyBoundedBicubic: 'lbb',\n",
       "    nohalo: 'nohalo',\n",
       "    vertexSplitQuadraticBasisSpline: 'vsqbs'\n",
       "  },\n",
       "  versions: {\n",
       "    aom: '3.5.0',\n",
       "    cairo: '1.17.6',\n",
       "    cgif: '0.3.0',\n",
       "    exif: '0.6.24',\n",
       "    expat: '2.5.0',\n",
       "    ffi: '3.4.4',\n",
       "    fontconfig: '2.14.1',\n",
       "    freetype: '2.12.1',\n",
       "    fribidi: '1.0.12',\n",
       "    gdkpixbuf: '2.42.10',\n",
       "    glib: '2.74.1',\n",
       "    gsf: '1.14.50',\n",
       "    harfbuzz: '5.3.1',\n",
       "    heif: '1.13.0',\n",
       "    imagequant: '2.4.1',\n",
       "    lcms: '2.13.1',\n",
       "    mozjpeg: '4.1.1',\n",
       "    orc: '0.4.33',\n",
       "    pango: '1.50.11',\n",
       "    pixman: '0.42.0',\n",
       "    png: '1.6.38',\n",
       "    'proxy-libintl': '0.4',\n",
       "    svg: '2.55.1',\n",
       "    spng: '0.7.2',\n",
       "    tiff: '4.4.0',\n",
       "    vips: '8.13.3',\n",
       "    webp: '1.2.4',\n",
       "    xml: '2.10.3',\n",
       "    'zlib-ng': '2.0.6'\n",
       "  },\n",
       "  vendor: { current: 'win32-x64', installed: [ 'win32-x64' ] },\n",
       "  queue: EventEmitter {\n",
       "    _events: [Object: null prototype] {},\n",
       "    _eventsCount: 0,\n",
       "    _maxListeners: undefined,\n",
       "    [Symbol(kCapture)]: false\n",
       "  }\n",
       "}"
      ]
     },
     "execution_count": 46,
     "metadata": {},
     "output_type": "execute_result"
    }
   ],
   "source": [
    "exifReader=require('../functions/node_modules/exif-reader');\n",
    "sharp = require('sharp');"
   ]
  },
  {
   "cell_type": "code",
   "execution_count": 47,
   "id": "5f7a100c-9525-4038-9b60-d32c3d0ad872",
   "metadata": {},
   "outputs": [
    {
     "data": {
      "text/plain": [
       "Sharp {\n",
       "  _readableState: ReadableState {\n",
       "    objectMode: false,\n",
       "    highWaterMark: 16384,\n",
       "    buffer: BufferList { head: null, tail: null, length: 0 },\n",
       "    length: 0,\n",
       "    pipes: [],\n",
       "    flowing: null,\n",
       "    ended: false,\n",
       "    endEmitted: false,\n",
       "    reading: false,\n",
       "    constructed: true,\n",
       "    sync: true,\n",
       "    needReadable: false,\n",
       "    emittedReadable: false,\n",
       "    readableListening: false,\n",
       "    resumeScheduled: false,\n",
       "    errorEmitted: false,\n",
       "    emitClose: true,\n",
       "    autoDestroy: true,\n",
       "    destroyed: false,\n",
       "    errored: null,\n",
       "    closed: false,\n",
       "    closeEmitted: false,\n",
       "    defaultEncoding: 'utf8',\n",
       "    awaitDrainWriters: null,\n",
       "    multiAwaitDrain: false,\n",
       "    readingMore: false,\n",
       "    dataEmitted: false,\n",
       "    decoder: null,\n",
       "    encoding: null,\n",
       "    [Symbol(kPaused)]: null\n",
       "  },\n",
       "  _events: [Object: null prototype] {},\n",
       "  _eventsCount: 0,\n",
       "  _maxListeners: undefined,\n",
       "  _writableState: WritableState {\n",
       "    objectMode: false,\n",
       "    highWaterMark: 16384,\n",
       "    finalCalled: false,\n",
       "    needDrain: false,\n",
       "    ending: false,\n",
       "    ended: false,\n",
       "    finished: false,\n",
       "    destroyed: false,\n",
       "    decodeStrings: true,\n",
       "    defaultEncoding: 'utf8',\n",
       "    length: 0,\n",
       "    writing: false,\n",
       "    corked: 0,\n",
       "    sync: true,\n",
       "    bufferProcessing: false,\n",
       "    onwrite: [Function: bound onwrite],\n",
       "    writecb: null,\n",
       "    writelen: 0,\n",
       "    afterWriteTickInfo: null,\n",
       "    buffered: [],\n",
       "    bufferedIndex: 0,\n",
       "    allBuffers: true,\n",
       "    allNoop: true,\n",
       "    pendingcb: 0,\n",
       "    constructed: true,\n",
       "    prefinished: false,\n",
       "    errorEmitted: false,\n",
       "    emitClose: true,\n",
       "    autoDestroy: true,\n",
       "    errored: null,\n",
       "    closed: false,\n",
       "    closeEmitted: false,\n",
       "    [Symbol(kOnFinished)]: []\n",
       "  },\n",
       "  allowHalfOpen: true,\n",
       "  options: {\n",
       "    topOffsetPre: -1,\n",
       "    leftOffsetPre: -1,\n",
       "    widthPre: -1,\n",
       "    heightPre: -1,\n",
       "    topOffsetPost: -1,\n",
       "    leftOffsetPost: -1,\n",
       "    widthPost: -1,\n",
       "    heightPost: -1,\n",
       "    width: -1,\n",
       "    height: -1,\n",
       "    canvas: 'crop',\n",
       "    position: 0,\n",
       "    resizeBackground: [ 0, 0, 0, 255 ],\n",
       "    useExifOrientation: false,\n",
       "    angle: 0,\n",
       "    rotationAngle: 0,\n",
       "    rotationBackground: [ 0, 0, 0, 255 ],\n",
       "    rotateBeforePreExtract: false,\n",
       "    flip: false,\n",
       "    flop: false,\n",
       "    extendTop: 0,\n",
       "    extendBottom: 0,\n",
       "    extendLeft: 0,\n",
       "    extendRight: 0,\n",
       "    extendBackground: [ 0, 0, 0, 255 ],\n",
       "    withoutEnlargement: false,\n",
       "    withoutReduction: false,\n",
       "    affineMatrix: [],\n",
       "    affineBackground: [ 0, 0, 0, 255 ],\n",
       "    affineIdx: 0,\n",
       "    affineIdy: 0,\n",
       "    affineOdx: 0,\n",
       "    affineOdy: 0,\n",
       "    affineInterpolator: 'bilinear',\n",
       "    kernel: 'lanczos3',\n",
       "    fastShrinkOnLoad: true,\n",
       "    tintA: 128,\n",
       "    tintB: 128,\n",
       "    flatten: false,\n",
       "    flattenBackground: [ 0, 0, 0 ],\n",
       "    negate: false,\n",
       "    negateAlpha: true,\n",
       "    medianSize: 0,\n",
       "    blurSigma: 0,\n",
       "    sharpenSigma: 0,\n",
       "    sharpenM1: 1,\n",
       "    sharpenM2: 2,\n",
       "    sharpenX1: 2,\n",
       "    sharpenY2: 10,\n",
       "    sharpenY3: 20,\n",
       "    threshold: 0,\n",
       "    thresholdGrayscale: true,\n",
       "    trimBackground: [],\n",
       "    trimThreshold: 0,\n",
       "    gamma: 0,\n",
       "    gammaOut: 0,\n",
       "    greyscale: false,\n",
       "    normalise: false,\n",
       "    claheWidth: 0,\n",
       "    claheHeight: 0,\n",
       "    claheMaxSlope: 3,\n",
       "    brightness: 1,\n",
       "    saturation: 1,\n",
       "    hue: 0,\n",
       "    lightness: 0,\n",
       "    booleanBufferIn: null,\n",
       "    booleanFileIn: '',\n",
       "    joinChannelIn: [],\n",
       "    extractChannel: -1,\n",
       "    removeAlpha: false,\n",
       "    ensureAlpha: -1,\n",
       "    colourspace: 'srgb',\n",
       "    colourspaceInput: 'last',\n",
       "    composite: [],\n",
       "    fileOut: '',\n",
       "    formatOut: 'input',\n",
       "    streamOut: false,\n",
       "    withMetadata: false,\n",
       "    withMetadataOrientation: -1,\n",
       "    withMetadataDensity: 0,\n",
       "    withMetadataIcc: '',\n",
       "    withMetadataStrs: {},\n",
       "    resolveWithObject: false,\n",
       "    jpegQuality: 80,\n",
       "    jpegProgressive: false,\n",
       "    jpegChromaSubsampling: '4:2:0',\n",
       "    jpegTrellisQuantisation: false,\n",
       "    jpegOvershootDeringing: false,\n",
       "    jpegOptimiseScans: false,\n",
       "    jpegOptimiseCoding: true,\n",
       "    jpegQuantisationTable: 0,\n",
       "    pngProgressive: false,\n",
       "    pngCompressionLevel: 6,\n",
       "    pngAdaptiveFiltering: false,\n",
       "    pngPalette: false,\n",
       "    pngQuality: 100,\n",
       "    pngEffort: 7,\n",
       "    pngBitdepth: 8,\n",
       "    pngDither: 1,\n",
       "    jp2Quality: 80,\n",
       "    jp2TileHeight: 512,\n",
       "    jp2TileWidth: 512,\n",
       "    jp2Lossless: false,\n",
       "    jp2ChromaSubsampling: '4:4:4',\n",
       "    webpQuality: 80,\n",
       "    webpAlphaQuality: 100,\n",
       "    webpLossless: false,\n",
       "    webpNearLossless: false,\n",
       "    webpSmartSubsample: false,\n",
       "    webpEffort: 4,\n",
       "    webpMinSize: false,\n",
       "    webpMixed: false,\n",
       "    gifBitdepth: 8,\n",
       "    gifEffort: 7,\n",
       "    gifDither: 1,\n",
       "    gifInterFrameMaxError: 0,\n",
       "    gifInterPaletteMaxError: 3,\n",
       "    gifReoptimise: false,\n",
       "    tiffQuality: 80,\n",
       "    tiffCompression: 'jpeg',\n",
       "    tiffPredictor: 'horizontal',\n",
       "    tiffPyramid: false,\n",
       "    tiffBitdepth: 8,\n",
       "    tiffTile: false,\n",
       "    tiffTileHeight: 256,\n",
       "    tiffTileWidth: 256,\n",
       "    tiffXres: 1,\n",
       "    tiffYres: 1,\n",
       "    tiffResolutionUnit: 'inch',\n",
       "    heifQuality: 50,\n",
       "    heifLossless: false,\n",
       "    heifCompression: 'av1',\n",
       "    heifEffort: 4,\n",
       "    heifChromaSubsampling: '4:4:4',\n",
       "    jxlDistance: 1,\n",
       "    jxlDecodingTier: 0,\n",
       "    jxlEffort: 7,\n",
       "    jxlLossless: false,\n",
       "    rawDepth: 'uchar',\n",
       "    tileSize: 256,\n",
       "    tileOverlap: 0,\n",
       "    tileContainer: 'fs',\n",
       "    tileLayout: 'dz',\n",
       "    tileFormat: 'last',\n",
       "    tileDepth: 'last',\n",
       "    tileAngle: 0,\n",
       "    tileSkipBlanks: -1,\n",
       "    tileBackground: [ 255, 255, 255, 255 ],\n",
       "    tileCentre: false,\n",
       "    tileId: 'https://example.com/iiif',\n",
       "    tileBasename: '',\n",
       "    timeoutSeconds: 0,\n",
       "    linearA: [],\n",
       "    linearB: [],\n",
       "    debuglog: [Function: debuglog],\n",
       "    queueListener: [Function: queueListener],\n",
       "    input: {\n",
       "      failOn: 'warning',\n",
       "      limitInputPixels: 268402689,\n",
       "      unlimited: false,\n",
       "      sequentialRead: false,\n",
       "      file: 'C:\\\\Users\\\\AvinashMane\\\\Downloads\\\\20221224_143343.jpg'\n",
       "    }\n",
       "  },\n",
       "  [Symbol(kCapture)]: false\n",
       "}"
      ]
     },
     "execution_count": 47,
     "metadata": {},
     "output_type": "execute_result"
    }
   ],
   "source": [
    "img=sharp(\"C:\\\\Users\\\\AvinashMane\\\\Downloads\\\\20221224_143343.jpg\")\n",
    "// icc = require('icc');"
   ]
  },
  {
   "cell_type": "code",
   "execution_count": 48,
   "id": "07574066-546e-4611-8567-010545b1be68",
   "metadata": {},
   "outputs": [
    {
     "data": {
      "text/plain": [
       "Promise { <pending> }"
      ]
     },
     "execution_count": 48,
     "metadata": {},
     "output_type": "execute_result"
    }
   ],
   "source": [
    "// let m\n",
    "img.metadata().then(x=>m=x)"
   ]
  },
  {
   "cell_type": "code",
   "execution_count": 49,
   "id": "260f2a5a-8b97-4505-9d9d-06f6ec23260b",
   "metadata": {},
   "outputs": [
    {
     "ename": "ReferenceError",
     "evalue": "m is not defined",
     "execution_count": 49,
     "output_type": "error",
     "traceback": [
      "evalmachine.<anonymous>:1",
      "m",
      "^",
      "",
      "ReferenceError: m is not defined",
      "    at evalmachine.<anonymous>:1:1",
      "    at Script.runInThisContext (node:vm:129:12)",
      "    at Object.runInThisContext (node:vm:313:38)",
      "    at run ([eval]:1020:15)",
      "    at onRunRequest ([eval]:864:18)",
      "    at onMessage ([eval]:828:13)",
      "    at process.emit (node:events:513:28)",
      "    at emit (node:internal/child_process:937:14)",
      "    at process.processTicksAndRejections (node:internal/process/task_queues:83:21)"
     ]
    }
   ],
   "source": [
    "m"
   ]
  },
  {
   "cell_type": "code",
   "execution_count": 50,
   "id": "c575f469-b86e-4a8e-ab1b-91ff863409db",
   "metadata": {},
   "outputs": [
    {
     "ename": "ReferenceError",
     "evalue": "m is not defined",
     "execution_count": 50,
     "output_type": "error",
     "traceback": [
      "evalmachine.<anonymous>:1",
      "Object.assign(m,exifReader(m.exif))",
      "              ^",
      "",
      "ReferenceError: m is not defined",
      "    at evalmachine.<anonymous>:1:15",
      "    at Script.runInThisContext (node:vm:129:12)",
      "    at Object.runInThisContext (node:vm:313:38)",
      "    at run ([eval]:1020:15)",
      "    at onRunRequest ([eval]:864:18)",
      "    at onMessage ([eval]:828:13)",
      "    at process.emit (node:events:513:28)",
      "    at emit (node:internal/child_process:937:14)",
      "    at process.processTicksAndRejections (node:internal/process/task_queues:83:21)"
     ]
    }
   ],
   "source": [
    "Object.assign(m,exifReader(m.exif))"
   ]
  },
  {
   "cell_type": "code",
   "execution_count": 51,
   "id": "ff8d98aa-1cac-42ff-b8c4-d9cec9d81472",
   "metadata": {},
   "outputs": [
    {
     "ename": "ReferenceError",
     "evalue": "exifRdr is not defined",
     "execution_count": 51,
     "output_type": "error",
     "traceback": [
      "evalmachine.<anonymous>:1",
      "exifRdr.load((img.toBuffer()))",
      "^",
      "",
      "ReferenceError: exifRdr is not defined",
      "    at evalmachine.<anonymous>:1:1",
      "    at Script.runInThisContext (node:vm:129:12)",
      "    at Object.runInThisContext (node:vm:313:38)",
      "    at run ([eval]:1020:15)",
      "    at onRunRequest ([eval]:864:18)",
      "    at onMessage ([eval]:828:13)",
      "    at process.emit (node:events:513:28)",
      "    at emit (node:internal/child_process:937:14)",
      "    at process.processTicksAndRejections (node:internal/process/task_queues:83:21)"
     ]
    }
   ],
   "source": [
    "exifRdr.load((img.toBuffer()))"
   ]
  },
  {
   "cell_type": "markdown",
   "id": "1990a0ec-a2ec-4bea-83ec-40d9feaae62d",
   "metadata": {},
   "source": [
    "# Functions"
   ]
  },
  {
   "cell_type": "markdown",
   "id": "3659cb07-376d-41cd-a4ca-bc8635cc6ae7",
   "metadata": {},
   "source": [
    "// Firebase setup\n",
    "// const functions = require('firebase-functions');\n",
    "const admin = require('firebase-admin');\n",
    "\n",
    "// admin.initializeApp();\n"
   ]
  },
  {
   "cell_type": "markdown",
   "id": "71b84c49-8348-41f4-a381-4f708f440588",
   "metadata": {},
   "source": [
    "let sa = require('/i/auth/run-pix-092258e3cb1b.json');"
   ]
  },
  {
   "cell_type": "markdown",
   "id": "f4ca6b21-242b-4554-b5b3-0708ed797e5c",
   "metadata": {},
   "source": [
    "admin.initializeApp({\n",
    "  credential: admin.credential.cert(sa)\n",
    "});"
   ]
  },
  {
   "cell_type": "code",
   "execution_count": null,
   "id": "de271764-ac45-4eac-afad-72861fe92933",
   "metadata": {},
   "outputs": [],
   "source": []
  },
  {
   "cell_type": "code",
   "execution_count": 6,
   "id": "88b571aa-42f0-410b-bc62-ffc243c2e2f9",
   "metadata": {},
   "outputs": [],
   "source": [
    "let fstore = admin.firestore();"
   ]
  },
  {
   "cell_type": "code",
   "execution_count": 12,
   "id": "1d8bb927-f97b-44cc-814a-880255980d1c",
   "metadata": {},
   "outputs": [
    {
     "data": {
      "text/plain": [
       "CollectionReference {\n",
       "  _firestore: Firestore {\n",
       "    _settings: {\n",
       "      credentials: [Object],\n",
       "      projectId: 'run-pix',\n",
       "      firebaseVersion: '11.4.1',\n",
       "      preferRest: undefined,\n",
       "      databaseId: '(default)',\n",
       "      libName: 'gccl',\n",
       "      libVersion: '6.4.2 fire/11.4.1',\n",
       "      toJson: [Function (anonymous)]\n",
       "    },\n",
       "    _settingsFrozen: true,\n",
       "    _serializer: Serializer {\n",
       "      createReference: [Function (anonymous)],\n",
       "      createInteger: [Function (anonymous)],\n",
       "      allowUndefined: false\n",
       "    },\n",
       "    _projectId: 'run-pix',\n",
       "    _databaseId: '(default)',\n",
       "    registeredListenersCount: 0,\n",
       "    bulkWritersCount: 0,\n",
       "    _backoffSettings: { initialDelayMs: 100, maxDelayMs: 60000, backoffFactor: 1.3 },\n",
       "    _clientPool: ClientPool {\n",
       "      concurrentOperationLimit: 100,\n",
       "      maxIdleClients: 1,\n",
       "      clientFactory: [Function (anonymous)],\n",
       "      clientDestructor: [Function (anonymous)],\n",
       "      grpcEnabled: false,\n",
       "      activeClients: [Map],\n",
       "      failedClients: Set(0) {},\n",
       "      terminated: false,\n",
       "      terminateDeferred: [Deferred]\n",
       "    },\n",
       "    _gax: {\n",
       "      GoogleAuth: [Getter],\n",
       "      grpc: [Object],\n",
       "      OngoingCall: [Getter],\n",
       "      createApiCall: [Getter],\n",
       "      BundleDescriptor: [Getter],\n",
       "      LongrunningDescriptor: [Getter],\n",
       "      PageDescriptor: [Getter],\n",
       "      StreamDescriptor: [Getter],\n",
       "      CallSettings: [Getter],\n",
       "      constructSettings: [Getter],\n",
       "      RetryOptions: [Getter],\n",
       "      createRetryOptions: [Getter],\n",
       "      createBundleOptions: [Getter],\n",
       "      createBackoffSettings: [Getter],\n",
       "      createDefaultBackoffSettings: [Getter],\n",
       "      createMaxRetriesBackoffSettings: [Getter],\n",
       "      GoogleError: [Getter],\n",
       "      ClientStub: [Getter],\n",
       "      GoogleProtoFilesRoot: [Getter],\n",
       "      GrpcClient: [Getter],\n",
       "      Operation: [Getter],\n",
       "      operation: [Getter],\n",
       "      PathTemplate: [Getter],\n",
       "      Status: [Getter],\n",
       "      StreamType: [Getter],\n",
       "      routingHeader: [Object],\n",
       "      lro: [Function],\n",
       "      operationsProtos: [Object],\n",
       "      IamProtos: [Object],\n",
       "      LocationProtos: [Object],\n",
       "      OperationsClient: [Getter],\n",
       "      IamClient: [Getter],\n",
       "      LocationsClient: [Getter],\n",
       "      createByteLengthFunction: [Function: createByteLengthFunction],\n",
       "      version: '3.5.2',\n",
       "      protobuf: [Object],\n",
       "      protobufMinimal: [Object],\n",
       "      fallback: [Object],\n",
       "      ChannelCredentials: [Getter],\n",
       "      warn: [Getter],\n",
       "      serializer: [Object]\n",
       "    }\n",
       "  },\n",
       "  _queryOptions: QueryOptions {\n",
       "    parentPath: ResourcePath { segments: [] },\n",
       "    collectionId: 'races',\n",
       "    converter: {\n",
       "      toFirestore: [Function: toFirestore],\n",
       "      fromFirestore: [Function: fromFirestore]\n",
       "    },\n",
       "    allDescendants: false,\n",
       "    fieldFilters: [],\n",
       "    fieldOrders: [],\n",
       "    startAt: undefined,\n",
       "    endAt: undefined,\n",
       "    limit: undefined,\n",
       "    limitType: undefined,\n",
       "    offset: undefined,\n",
       "    projection: undefined,\n",
       "    kindless: false,\n",
       "    requireConsistency: true\n",
       "  },\n",
       "  _serializer: Serializer {\n",
       "    createReference: [Function (anonymous)],\n",
       "    createInteger: [Function (anonymous)],\n",
       "    allowUndefined: false\n",
       "  },\n",
       "  _allowUndefined: false\n",
       "}"
      ]
     },
     "execution_count": 12,
     "metadata": {},
     "output_type": "execute_result"
    }
   ],
   "source": [
    "races=fstore.collection('races')"
   ]
  },
  {
   "cell_type": "code",
   "execution_count": 29,
   "id": "4f5de70f-e3e3-440a-ac65-e18e358edb67",
   "metadata": {},
   "outputs": [
    {
     "data": {
      "text/plain": [
       "Promise { <pending> }"
      ]
     },
     "execution_count": 29,
     "metadata": {},
     "output_type": "execute_result"
    }
   ],
   "source": [
    "function getData(snap) {return snap.exists? console.log(snap.data()) : 'missing'}"
   ]
  },
  {
   "cell_type": "code",
   "execution_count": 32,
   "id": "78b183f5-a4a2-47f3-8964-e3a761885e56",
   "metadata": {},
   "outputs": [
    {
     "data": {
      "text/plain": [
       "Promise { <pending> }"
      ]
     },
     "execution_count": 32,
     "metadata": {},
     "output_type": "execute_result"
    }
   ],
   "source": [
    "races.doc('test').collection('readings').get().then()"
   ]
  },
  {
   "cell_type": "code",
   "execution_count": 35,
   "id": "b7386caf-882d-4a78-abba-00beadc257ef",
   "metadata": {},
   "outputs": [
    {
     "data": {
      "text/plain": [
       "Promise { <pending> }"
      ]
     },
     "execution_count": 35,
     "metadata": {},
     "output_type": "execute_result"
    },
    {
     "name": "stdout",
     "output_type": "stream",
     "text": [
      "WriteResult {\n",
      "  _writeTime: Timestamp { _seconds: 1675780089, _nanoseconds: 894385000 }\n",
      "}\n"
     ]
    }
   ],
   "source": [
    "fstore.collection('races').doc('test').collection('readings').doc('timestamp-bib').set({a:1,b:3}).then(console.log)"
   ]
  },
  {
   "cell_type": "code",
   "execution_count": 37,
   "id": "29da4d13-42b2-4276-be6f-6ab7e3842e09",
   "metadata": {},
   "outputs": [
    {
     "data": {
      "text/plain": [
       "Promise { <pending> }"
      ]
     },
     "execution_count": 37,
     "metadata": {},
     "output_type": "execute_result"
    },
    {
     "name": "stdout",
     "output_type": "stream",
     "text": [
      "WriteResult {\n",
      "  _writeTime: Timestamp { _seconds: 1675780198, _nanoseconds: 164479000 }\n",
      "}\n"
     ]
    }
   ],
   "source": [
    "fstore.collection('races').doc('test').collection('readings').doc().set({a:1,b:3}).then(console.log)"
   ]
  },
  {
   "cell_type": "code",
   "execution_count": 38,
   "id": "9239ab02-2a25-4b1f-8f8e-80f7c16afa08",
   "metadata": {},
   "outputs": [
    {
     "data": {
      "text/plain": [
       "Promise { <pending> }"
      ]
     },
     "execution_count": 38,
     "metadata": {},
     "output_type": "execute_result"
    },
    {
     "name": "stdout",
     "output_type": "stream",
     "text": [
      "QuerySnapshot {\n",
      "  _query: CollectionReference {\n",
      "    _firestore: Firestore {\n",
      "      _settings: [Object],\n",
      "      _settingsFrozen: true,\n",
      "      _serializer: [Serializer],\n",
      "      _projectId: 'run-pix',\n",
      "      _databaseId: '(default)',\n",
      "      registeredListenersCount: 0,\n",
      "      bulkWritersCount: 0,\n",
      "      _backoffSettings: [Object],\n",
      "      _clientPool: [ClientPool],\n",
      "      _gax: [Object]\n",
      "    },\n",
      "    _queryOptions: QueryOptions {\n",
      "      parentPath: [ResourcePath],\n",
      "      collectionId: 'readings',\n",
      "      converter: [Object],\n",
      "      allDescendants: false,\n",
      "      fieldFilters: [],\n",
      "      fieldOrders: [],\n",
      "      startAt: undefined,\n",
      "      endAt: undefined,\n",
      "      limit: undefined,\n",
      "      limitType: undefined,\n",
      "      offset: undefined,\n",
      "      projection: undefined,\n",
      "      kindless: false,\n",
      "      requireConsistency: true\n",
      "    },\n",
      "    _serializer: Serializer {\n",
      "      createReference: [Function (anonymous)],\n",
      "      createInteger: [Function (anonymous)],\n",
      "      allowUndefined: false\n",
      "    },\n",
      "    _allowUndefined: false\n",
      "  },\n",
      "  _readTime: Timestamp { _seconds: 1675780291, _nanoseconds: 211669000 },\n",
      "  _size: 4,\n",
      "  _materializedDocs: null,\n",
      "  _materializedChanges: null,\n",
      "  _docs: [Function (anonymous)],\n",
      "  _changes: [Function (anonymous)]\n",
      "}\n"
     ]
    }
   ],
   "source": [
    "fstore.collection('races').doc('test').collection('readings').get().then(console.log)"
   ]
  },
  {
   "cell_type": "code",
   "execution_count": null,
   "id": "d16865ed-c864-4641-9ac4-830ea8e26831",
   "metadata": {},
   "outputs": [],
   "source": []
  }
 ],
 "metadata": {
  "kernelspec": {
   "display_name": "JavaScript (Node.js)",
   "language": "javascript",
   "name": "javascript"
  },
  "language_info": {
   "file_extension": ".js",
   "mimetype": "application/javascript",
   "name": "javascript",
   "version": "18.12.1"
  }
 },
 "nbformat": 4,
 "nbformat_minor": 5
}
