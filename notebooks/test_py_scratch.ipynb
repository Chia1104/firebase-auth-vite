{
 "cells": [
  {
   "cell_type": "markdown",
   "id": "85b70eb8-e3ee-4ee7-a2ce-0d1eb235c22f",
   "metadata": {},
   "source": [
    "# Base firestore\n",
    "\n",
    "* jump to relevant section after this"
   ]
  },
  {
   "cell_type": "code",
   "execution_count": 240,
   "id": "355dc0fe-05c0-4701-aeb4-3c58a3d9df5e",
   "metadata": {},
   "outputs": [],
   "source": [
    "import pandas as pd\n",
    "import firebase_admin\n",
    "from IPython import display\n",
    "from IPython.display import display, Markdown\n",
    "\n",
    "from firebase_admin import firestore\n",
    "from firebase_admin import credentials\n",
    "class Firestore:\n",
    "    def __init__(self,service_account_file=\"C:/i/auth/run-pix-092258e3cb1b.json\"):\n",
    "        cred = credentials.Certificate(service_account_file)\n",
    "        try: self.app = firebase_admin.initialize_app(cred)\n",
    "        except: self.app = firebase_admin.get_app()\n",
    "        self.fstore=firestore.client()\n",
    "    \"delete all subnodes\"\n",
    "    def delete_all_docs(self,collection):\n",
    "        for n in collection.get():\n",
    "            print(n.__dict__)\n",
    "            n._reference.delete()\n",
    "    def collection(self):\n",
    "        return self.fstore\n",
    "    \n",
    "    \n",
    "runpix=Firestore()"
   ]
  },
  {
   "cell_type": "code",
   "execution_count": 3,
   "id": "cb11869a-2325-462e-8715-bf242f369f6d",
   "metadata": {},
   "outputs": [],
   "source": [
    "#runpix.delete_all_docs(runpix.fstore.collection('races').document('test').collection('readings'))"
   ]
  },
  {
   "cell_type": "markdown",
   "id": "94832c61-105a-48ab-8130-1dda9c5c6f93",
   "metadata": {},
   "source": [
    "# RAces"
   ]
  },
  {
   "cell_type": "code",
   "execution_count": 159,
   "id": "4b5046e0-8563-49f0-9979-afcb92504e42",
   "metadata": {},
   "outputs": [
    {
     "data": {
      "text/html": [
       "<div>\n",
       "<style scoped>\n",
       "    .dataframe tbody tr th:only-of-type {\n",
       "        vertical-align: middle;\n",
       "    }\n",
       "\n",
       "    .dataframe tbody tr th {\n",
       "        vertical-align: top;\n",
       "    }\n",
       "\n",
       "    .dataframe thead th {\n",
       "        text-align: right;\n",
       "    }\n",
       "</style>\n",
       "<table border=\"1\" class=\"dataframe\">\n",
       "  <thead>\n",
       "    <tr style=\"text-align: right;\">\n",
       "      <th></th>\n",
       "      <th>id</th>\n",
       "      <th>ref</th>\n",
       "      <th>Date</th>\n",
       "      <th>bibPatterm</th>\n",
       "      <th>Waypoints</th>\n",
       "      <th>Name</th>\n",
       "      <th>Location</th>\n",
       "      <th>bibPattern</th>\n",
       "      <th>photoStatus</th>\n",
       "    </tr>\n",
       "  </thead>\n",
       "  <tbody>\n",
       "    <tr>\n",
       "      <th>0</th>\n",
       "      <td>default</td>\n",
       "      <td>&lt;google.cloud.firestore_v1.document.DocumentRe...</td>\n",
       "      <td>NaN</td>\n",
       "      <td>NaN</td>\n",
       "      <td>NaN</td>\n",
       "      <td>NaN</td>\n",
       "      <td>NaN</td>\n",
       "      <td>NaN</td>\n",
       "      <td>NaN</td>\n",
       "    </tr>\n",
       "    <tr>\n",
       "      <th>1</th>\n",
       "      <td>mychoice23apr</td>\n",
       "      <td>&lt;google.cloud.firestore_v1.document.DocumentRe...</td>\n",
       "      <td>YYYY-MM-DD</td>\n",
       "      <td>\\d\\d\\d\\d</td>\n",
       "      <td>[venue, start, end]</td>\n",
       "      <td>Default Race Year Month</td>\n",
       "      <td>DC</td>\n",
       "      <td>NaN</td>\n",
       "      <td>NaN</td>\n",
       "    </tr>\n",
       "    <tr>\n",
       "      <th>2</th>\n",
       "      <td>mychoice23feb</td>\n",
       "      <td>&lt;google.cloud.firestore_v1.document.DocumentRe...</td>\n",
       "      <td>2023-02-11</td>\n",
       "      <td>NaN</td>\n",
       "      <td>[venue, end]</td>\n",
       "      <td>My Choice 2023 February</td>\n",
       "      <td>GT</td>\n",
       "      <td>\\d\\d\\d\\d</td>\n",
       "      <td>[available]</td>\n",
       "    </tr>\n",
       "    <tr>\n",
       "      <th>3</th>\n",
       "      <td>mychoice23jan</td>\n",
       "      <td>&lt;google.cloud.firestore_v1.document.DocumentRe...</td>\n",
       "      <td>2023-03-12</td>\n",
       "      <td>NaN</td>\n",
       "      <td>[venue, start, end]</td>\n",
       "      <td>My Choice 2023 Januaryr</td>\n",
       "      <td>DC</td>\n",
       "      <td>NaN</td>\n",
       "      <td>NaN</td>\n",
       "    </tr>\n",
       "    <tr>\n",
       "      <th>4</th>\n",
       "      <td>mychoice23mar</td>\n",
       "      <td>&lt;google.cloud.firestore_v1.document.DocumentRe...</td>\n",
       "      <td>2023-03-12</td>\n",
       "      <td>NaN</td>\n",
       "      <td>[venue, start, end]</td>\n",
       "      <td>My Choice 2023 March</td>\n",
       "      <td>DC</td>\n",
       "      <td>NaN</td>\n",
       "      <td>NaN</td>\n",
       "    </tr>\n",
       "    <tr>\n",
       "      <th>5</th>\n",
       "      <td>werun2023</td>\n",
       "      <td>&lt;google.cloud.firestore_v1.document.DocumentRe...</td>\n",
       "      <td>2023-03-05</td>\n",
       "      <td>NaN</td>\n",
       "      <td>[venue, route]</td>\n",
       "      <td>We Run 2023 (4th Edition)</td>\n",
       "      <td>Nigadi Pradhikaram</td>\n",
       "      <td>\\d{4}</td>\n",
       "      <td>[available]</td>\n",
       "    </tr>\n",
       "  </tbody>\n",
       "</table>\n",
       "</div>"
      ],
      "text/plain": [
       "              id                                                ref  \\\n",
       "0        default  <google.cloud.firestore_v1.document.DocumentRe...   \n",
       "1  mychoice23apr  <google.cloud.firestore_v1.document.DocumentRe...   \n",
       "2  mychoice23feb  <google.cloud.firestore_v1.document.DocumentRe...   \n",
       "3  mychoice23jan  <google.cloud.firestore_v1.document.DocumentRe...   \n",
       "4  mychoice23mar  <google.cloud.firestore_v1.document.DocumentRe...   \n",
       "5      werun2023  <google.cloud.firestore_v1.document.DocumentRe...   \n",
       "\n",
       "         Date bibPatterm            Waypoints                       Name  \\\n",
       "0         NaN        NaN                  NaN                        NaN   \n",
       "1  YYYY-MM-DD   \\d\\d\\d\\d  [venue, start, end]    Default Race Year Month   \n",
       "2  2023-02-11        NaN         [venue, end]    My Choice 2023 February   \n",
       "3  2023-03-12        NaN  [venue, start, end]    My Choice 2023 Januaryr   \n",
       "4  2023-03-12        NaN  [venue, start, end]       My Choice 2023 March   \n",
       "5  2023-03-05        NaN       [venue, route]  We Run 2023 (4th Edition)   \n",
       "\n",
       "             Location bibPattern  photoStatus  \n",
       "0                 NaN        NaN          NaN  \n",
       "1                  DC        NaN          NaN  \n",
       "2                  GT   \\d\\d\\d\\d  [available]  \n",
       "3                  DC        NaN          NaN  \n",
       "4                  DC        NaN          NaN  \n",
       "5  Nigadi Pradhikaram      \\d{4}  [available]  "
      ]
     },
     "execution_count": 159,
     "metadata": {},
     "output_type": "execute_result"
    }
   ],
   "source": [
    "\n",
    "races=runpix.fstore.collection('races')\n",
    "\"list all races\"\n",
    "def _f(x): \n",
    "    _={\"id\":x.id,'ref':x}\n",
    "    try: _.update(x.get().to_dict())\n",
    "    except: pass\n",
    "    return _\n",
    "def fs2Df(collPath):\n",
    "    return pd.DataFrame([_f(_) for _ in runpix.fstore.collection(collPath).list_documents()])\n",
    "df_races=fs2Df('races')\n",
    "df_races"
   ]
  },
  {
   "cell_type": "markdown",
   "id": "8515415d-5da6-4928-a9e8-b036844a6694",
   "metadata": {},
   "source": [
    "## check all images in the race"
   ]
  },
  {
   "cell_type": "code",
   "execution_count": 160,
   "id": "8d4857ab-aadd-41ac-a337-ebfc7388af6f",
   "metadata": {},
   "outputs": [
    {
     "data": {
      "text/plain": [
       "(7, 7)"
      ]
     },
     "execution_count": 160,
     "metadata": {},
     "output_type": "execute_result"
    }
   ],
   "source": [
    "raceId='werun2023'\n",
    "df_images=fs2Df(f'races/{raceId}/images')\n",
    "df_images.shape"
   ]
  },
  {
   "cell_type": "code",
   "execution_count": 161,
   "id": "fad3cbe4-61ea-4119-a083-28715764d150",
   "metadata": {},
   "outputs": [
    {
     "data": {
      "text/plain": [
       "0    [True, True]\n",
       "1    [True, True]\n",
       "2    [True, True]\n",
       "3    [True, True]\n",
       "4    [True, True]\n",
       "5    [True, True]\n",
       "6    [True, True]\n",
       "Name: imagePath, dtype: object"
      ]
     },
     "execution_count": 161,
     "metadata": {},
     "output_type": "execute_result"
    }
   ],
   "source": [
    "# df_images['imagePath'].value_counts()\n",
    "def checkBlobs(x,types=['processed','thumbs']):\n",
    "    return [bucket.blob(f'{typ}/{raceId}/{x}').exists() \n",
    "                                        for typ in types]\n",
    "df_images['imagePath'].apply(lambda x: checkBlobs(x))"
   ]
  },
  {
   "cell_type": "code",
   "execution_count": 162,
   "id": "c63abc60-ff96-4234-89f1-583182863bc4",
   "metadata": {},
   "outputs": [
    {
     "data": {
      "text/plain": [
       "0    None\n",
       "1    None\n",
       "2    None\n",
       "3    None\n",
       "4    None\n",
       "5    None\n",
       "6    None\n",
       "dtype: object"
      ]
     },
     "execution_count": 162,
     "metadata": {},
     "output_type": "execute_result"
    }
   ],
   "source": [
    "def deleteFSimages4missingBlobs(x,types=['processed','thumbs']):\n",
    "    chk = checkBlobs(x.imagePath)\n",
    "    if not any(chk):\n",
    "        print(chk,x,x.imagePath)\n",
    "        x.ref.delete()\n",
    "df_images.apply(deleteFSimages4missingBlobs ,axis=1)"
   ]
  },
  {
   "cell_type": "markdown",
   "id": "2f698262-b1ff-4363-a3f8-8ee12052e0de",
   "metadata": {},
   "source": [
    "## other"
   ]
  },
  {
   "cell_type": "code",
   "execution_count": 9,
   "id": "694ae13f-9a61-4005-a108-c6dcfc0ed31c",
   "metadata": {},
   "outputs": [
    {
     "data": {
      "text/plain": [
       "{'mychoice23feb': {'bibPattern': '\\\\d\\\\d\\\\d\\\\d',\n",
       "  'Date': '2023-02-11',\n",
       "  'Name': 'My Choice 2023 February',\n",
       "  'Location': 'GT',\n",
       "  'Waypoints': ['venue', 'end']}}"
      ]
     },
     "execution_count": 9,
     "metadata": {},
     "output_type": "execute_result"
    }
   ],
   "source": [
    "\"query examples\"\n",
    "{_.id:_.to_dict() for _ in races.where('Location','==','GT').stream()}"
   ]
  },
  {
   "cell_type": "code",
   "execution_count": 14,
   "id": "da203fde-fbd5-4f3b-b4d1-68ec8be8e6b9",
   "metadata": {},
   "outputs": [
    {
     "name": "stdout",
     "output_type": "stream",
     "text": [
      "{'Date': DatetimeWithNanoseconds(2023, 3, 10, 23, 30, 0, 618000, tzinfo=datetime.timezone.utc), 'Waypoints': ['venue', 'start', 'end'], 'Name': 'My Choice 2023 March', 'Location': 'DC'}\n"
     ]
    },
    {
     "data": {
      "text/plain": [
       "update_time {\n",
       "  seconds: 1679059217\n",
       "  nanos: 514663000\n",
       "}"
      ]
     },
     "execution_count": 14,
     "metadata": {},
     "output_type": "execute_result"
    }
   ],
   "source": [
    "def copyRace(fromId,toId):\n",
    "    fromRace=races.document(fromId).get().to_dict()\n",
    "    print(fromRace)\n",
    "    return races.document(toId).set(fromRace)\n",
    "\n",
    "# copyRace('mychoice23apr','mychoice23mar')\n",
    "# copyRace('mychoice23mar','mychoice23jan')"
   ]
  },
  {
   "cell_type": "code",
   "execution_count": 18,
   "id": "2baccf94-1784-4f16-80d1-27fef6f2d37c",
   "metadata": {},
   "outputs": [
    {
     "ename": "TypeError",
     "evalue": "cannot unpack non-iterable WriteResult object",
     "output_type": "error",
     "traceback": [
      "\u001b[1;31m---------------------------------------------------------------------------\u001b[0m",
      "\u001b[1;31mTypeError\u001b[0m                                 Traceback (most recent call last)",
      "Cell \u001b[1;32mIn[18], line 11\u001b[0m\n\u001b[0;32m      8\u001b[0m     update_time, city_ref \u001b[38;5;241m=\u001b[39m races\u001b[38;5;241m.\u001b[39mdocument(\u001b[38;5;28mid\u001b[39m)\u001b[38;5;241m.\u001b[39mset(raceData)\n\u001b[0;32m      9\u001b[0m     \u001b[38;5;28mprint\u001b[39m(\u001b[38;5;124mf\u001b[39m\u001b[38;5;124m'\u001b[39m\u001b[38;5;124mAdded document with id \u001b[39m\u001b[38;5;132;01m{\u001b[39;00mcity_ref\u001b[38;5;241m.\u001b[39mid\u001b[38;5;132;01m}\u001b[39;00m\u001b[38;5;124m'\u001b[39m)\n\u001b[1;32m---> 11\u001b[0m \u001b[43maddNewRace\u001b[49m\u001b[43m(\u001b[49m\u001b[38;5;124;43m'\u001b[39;49m\u001b[38;5;124;43mmychoice23apr\u001b[39;49m\u001b[38;5;124;43m'\u001b[39;49m\u001b[43m)\u001b[49m\n",
      "Cell \u001b[1;32mIn[18], line 8\u001b[0m, in \u001b[0;36maddNewRace\u001b[1;34m(id)\u001b[0m\n\u001b[0;32m      1\u001b[0m \u001b[38;5;28;01mdef\u001b[39;00m \u001b[38;5;21maddNewRace\u001b[39m(\u001b[38;5;28mid\u001b[39m):\n\u001b[0;32m      2\u001b[0m     raceData \u001b[38;5;241m=\u001b[39m {\u001b[38;5;124m'\u001b[39m\u001b[38;5;124mDate\u001b[39m\u001b[38;5;124m'\u001b[39m: \u001b[38;5;124m\"\u001b[39m\u001b[38;5;124mYYYY-MM-DD\u001b[39m\u001b[38;5;124m\"\u001b[39m, \n\u001b[0;32m      3\u001b[0m                 \u001b[38;5;124m'\u001b[39m\u001b[38;5;124mWaypoints\u001b[39m\u001b[38;5;124m'\u001b[39m: [\u001b[38;5;124m'\u001b[39m\u001b[38;5;124mvenue\u001b[39m\u001b[38;5;124m'\u001b[39m, \u001b[38;5;124m'\u001b[39m\u001b[38;5;124mstart\u001b[39m\u001b[38;5;124m'\u001b[39m, \u001b[38;5;124m'\u001b[39m\u001b[38;5;124mend\u001b[39m\u001b[38;5;124m'\u001b[39m], \n\u001b[0;32m      4\u001b[0m                 \u001b[38;5;124m'\u001b[39m\u001b[38;5;124mName\u001b[39m\u001b[38;5;124m'\u001b[39m: \u001b[38;5;124m'\u001b[39m\u001b[38;5;124mDefault Race Year Month\u001b[39m\u001b[38;5;124m'\u001b[39m, \n\u001b[0;32m      5\u001b[0m                 \u001b[38;5;124m'\u001b[39m\u001b[38;5;124mLocation\u001b[39m\u001b[38;5;124m'\u001b[39m: \u001b[38;5;124m'\u001b[39m\u001b[38;5;124mDC\u001b[39m\u001b[38;5;124m'\u001b[39m,\n\u001b[0;32m      6\u001b[0m                 \u001b[38;5;124m'\u001b[39m\u001b[38;5;124mbibPatterm\u001b[39m\u001b[38;5;124m'\u001b[39m: \u001b[38;5;124mr\u001b[39m\u001b[38;5;124m'\u001b[39m\u001b[38;5;124m\\\u001b[39m\u001b[38;5;124md\u001b[39m\u001b[38;5;124m\\\u001b[39m\u001b[38;5;124md\u001b[39m\u001b[38;5;124m\\\u001b[39m\u001b[38;5;124md\u001b[39m\u001b[38;5;124m\\\u001b[39m\u001b[38;5;124md\u001b[39m\u001b[38;5;124m'\u001b[39m\n\u001b[0;32m      7\u001b[0m                }\n\u001b[1;32m----> 8\u001b[0m     update_time, city_ref \u001b[38;5;241m=\u001b[39m races\u001b[38;5;241m.\u001b[39mdocument(\u001b[38;5;28mid\u001b[39m)\u001b[38;5;241m.\u001b[39mset(raceData)\n\u001b[0;32m      9\u001b[0m     \u001b[38;5;28mprint\u001b[39m(\u001b[38;5;124mf\u001b[39m\u001b[38;5;124m'\u001b[39m\u001b[38;5;124mAdded document with id \u001b[39m\u001b[38;5;132;01m{\u001b[39;00mcity_ref\u001b[38;5;241m.\u001b[39mid\u001b[38;5;132;01m}\u001b[39;00m\u001b[38;5;124m'\u001b[39m)\n",
      "\u001b[1;31mTypeError\u001b[0m: cannot unpack non-iterable WriteResult object"
     ]
    }
   ],
   "source": [
    "def addNewRace(id):\n",
    "    raceData = {'Date': \"YYYY-MM-DD\", \n",
    "                'Waypoints': ['venue', 'start', 'end'], \n",
    "                'Name': 'Default Race Year Month', \n",
    "                'Location': 'DC',\n",
    "                'bibPatterm': r'\\d\\d\\d\\d'\n",
    "               }\n",
    "    update_time, city_ref = races.document(id).set(raceData)\n",
    "    print(f'Added document with id {city_ref.id}')\n",
    "    \n",
    "addNewRace('mychoice23apr')"
   ]
  },
  {
   "cell_type": "markdown",
   "id": "2defba3a-f34f-4bf8-8902-32eb07a3f14e",
   "metadata": {},
   "source": [
    "# Misc"
   ]
  },
  {
   "cell_type": "code",
   "execution_count": 41,
   "id": "60ac0828-4c96-420f-807d-865463655134",
   "metadata": {},
   "outputs": [
    {
     "name": "stdout",
     "output_type": "stream",
     "text": [
      "{'_reference': <google.cloud.firestore_v1.document.DocumentReference object at 0x0000020440C57A50>, '_data': {'Date': DatetimeWithNanoseconds(2023, 3, 10, 23, 30, 0, 618000, tzinfo=datetime.timezone.utc), 'Name': 'My Choice 2023 March', 'Location': 'DC', 'Waypoints': ['venue', 'start', 'end']}, '_exists': True, 'read_time': DatetimeWithNanoseconds(2023, 3, 14, 4, 34, 25, 527621, tzinfo=datetime.timezone.utc), 'create_time': DatetimeWithNanoseconds(2023, 3, 13, 7, 23, 6, 884067, tzinfo=datetime.timezone.utc), 'update_time': DatetimeWithNanoseconds(2023, 3, 13, 7, 24, 16, 876358, tzinfo=datetime.timezone.utc)} {'Date': DatetimeWithNanoseconds(2023, 3, 10, 23, 30, 0, 618000, tzinfo=datetime.timezone.utc), 'Name': 'My Choice 2023 March', 'Location': 'DC', 'Waypoints': ['venue', 'start', 'end']}\n",
      "error\n",
      "{'_reference': <google.cloud.firestore_v1.document.DocumentReference object at 0x0000020440F12C10>, '_data': {'Date': '2023-02-11', 'Name': 'My Choice 2023 February', 'Location': 'GT', 'Waypoints': ['venue', 'end']}, '_exists': True, 'read_time': DatetimeWithNanoseconds(2023, 3, 14, 4, 34, 25, 527621, tzinfo=datetime.timezone.utc), 'create_time': DatetimeWithNanoseconds(2023, 3, 13, 7, 21, 27, 37092, tzinfo=datetime.timezone.utc), 'update_time': DatetimeWithNanoseconds(2023, 3, 13, 7, 26, 41, 829106, tzinfo=datetime.timezone.utc)} {'Date': '2023-02-11', 'Name': 'My Choice 2023 February', 'Location': 'GT', 'Waypoints': ['venue', 'end']}\n",
      "error\n",
      "{'_reference': <google.cloud.firestore_v1.document.DocumentReference object at 0x0000020440F11090>, '_data': {}, '_exists': True, 'read_time': DatetimeWithNanoseconds(2023, 3, 14, 4, 34, 25, 527621, tzinfo=datetime.timezone.utc), 'create_time': DatetimeWithNanoseconds(2023, 2, 7, 13, 50, 34, 424088, tzinfo=datetime.timezone.utc), 'update_time': DatetimeWithNanoseconds(2023, 2, 7, 13, 50, 34, 424088, tzinfo=datetime.timezone.utc)} {}\n",
      "error\n",
      "{'_reference': <google.cloud.firestore_v1.document.DocumentReference object at 0x0000020440F12F90>, '_data': {'Date': '2023-01-02T12:12:12', 'Name': 'test Race', 'Location': 'PT'}, '_exists': True, 'read_time': DatetimeWithNanoseconds(2023, 3, 14, 4, 34, 25, 527621, tzinfo=datetime.timezone.utc), 'create_time': DatetimeWithNanoseconds(2023, 1, 2, 6, 0, 58, 633786, tzinfo=datetime.timezone.utc), 'update_time': DatetimeWithNanoseconds(2023, 1, 2, 9, 50, 20, 242782, tzinfo=datetime.timezone.utc)} {'Date': '2023-01-02T12:12:12', 'Name': 'test Race', 'Location': 'PT'}\n",
      "error\n"
     ]
    }
   ],
   "source": [
    "def getChildren(node):\n",
    "    from collections.abc import Iterable\n",
    "\n",
    "    if isinstance(node, Iterable):\n",
    "        for c1 in node:\n",
    "            print (c1._path,c1.document().get().to_dict())\n",
    "\n",
    "            for d in c1.list_documents():\n",
    "                getChildren(d)\n",
    " \n",
    "    # single collection\n",
    "    elif isinstance(node,firestore.CollectionReference): \n",
    "        \n",
    "        for c1 in node.get():\n",
    "            print (c1.__dict__,c1.to_dict())\n",
    "            getChildren(c1)\n",
    " \n",
    "        \n",
    "    # end node\n",
    "    else:\n",
    "        try:\n",
    "            print (node._path,\n",
    "               # node.__dict__)\n",
    "               node.get().to_dict())\n",
    "        except:\n",
    "            print ('error')\n",
    "    \n",
    "getChildren(runpix.fstore.collection('races'))"
   ]
  },
  {
   "cell_type": "code",
   "execution_count": null,
   "id": "ca20c36d-9489-48cb-bf72-0fbb1327094c",
   "metadata": {},
   "outputs": [],
   "source": []
  },
  {
   "cell_type": "code",
   "execution_count": 16,
   "id": "bb96816f-e74e-4e3b-9767-9e6f95be7b31",
   "metadata": {},
   "outputs": [
    {
     "ename": "TypeError",
     "evalue": "'CollectionReference' object is not iterable",
     "output_type": "error",
     "traceback": [
      "\u001b[1;31m---------------------------------------------------------------------------\u001b[0m",
      "\u001b[1;31mTypeError\u001b[0m                                 Traceback (most recent call last)",
      "Cell \u001b[1;32mIn[16], line 1\u001b[0m\n\u001b[1;32m----> 1\u001b[0m \u001b[38;5;28;01mfor\u001b[39;00m x \u001b[38;5;129;01min\u001b[39;00m runpix\u001b[38;5;241m.\u001b[39mfstore\u001b[38;5;241m.\u001b[39mcollection(\u001b[38;5;124m'\u001b[39m\u001b[38;5;124mraces\u001b[39m\u001b[38;5;124m'\u001b[39m):\n\u001b[0;32m      2\u001b[0m     \u001b[38;5;28mprint\u001b[39m(\u001b[38;5;28mdir\u001b[39m(x))\n\u001b[0;32m      3\u001b[0m     \u001b[38;5;28mprint\u001b[39m(x\u001b[38;5;241m.\u001b[39mdocument(\u001b[38;5;124m'\u001b[39m\u001b[38;5;124mtest1\u001b[39m\u001b[38;5;124m'\u001b[39m)\u001b[38;5;241m.\u001b[39mget()\u001b[38;5;241m.\u001b[39mto_dict())\n",
      "\u001b[1;31mTypeError\u001b[0m: 'CollectionReference' object is not iterable"
     ]
    }
   ],
   "source": [
    "for x in runpix.fstore.collection('races'):\n",
    "    print(dir(x))\n",
    "    print(x.document('test1').get().to_dict())"
   ]
  },
  {
   "cell_type": "code",
   "execution_count": null,
   "id": "322eedfb-93fc-4953-acda-3ef07b32e445",
   "metadata": {},
   "outputs": [],
   "source": []
  },
  {
   "cell_type": "markdown",
   "id": "afdf180c-08c3-4944-93be-21afbd413065",
   "metadata": {},
   "source": [
    "# Images (Storage)"
   ]
  },
  {
   "cell_type": "code",
   "execution_count": 9,
   "id": "9923b15e-7bbf-43a4-81ad-9e5635a767c1",
   "metadata": {
    "collapsed": true,
    "jupyter": {
     "outputs_hidden": true
    },
    "tags": []
   },
   "outputs": [
    {
     "name": "stdout",
     "output_type": "stream",
     "text": [
      "test^V4AFod9aCoRsEP62GnVm0gPYxXK2^2023-01-27T11:31:41.796Z.png => []\n",
      "test^V4AFod9aCoRsEP62GnVm0gPYxXK2^test_20230115_090440[1].jpg => [{'topicality': 0, 'description': 'GARM\\nO\\nTATA\\ntos\\nTATA\\nLATA\\nMUMBAI\\nMARAT\\nTATA\\nMARATHON\\n42.195 KM\\nF\\n10641\\nGYANA SAMAL\\nIDFC FIRST Bank\\n8369\\nANUBHUTI CHATURVEDI\\nIDFC FIRST Bank\\nY\\naquants\\nCHANGE\\nTATA\\nB\\nTATA\\nG\\nTATA\\nMUMBAI\\nMARATHON\\n11148\\nKRISHNA PATIL\\nIDFC FIRST Bank\\n42.195 KM\\nB\\n8\\nTAT\\nMUME\\nMARA\\nTATA CONSU\\nTATA\\nMARATHO', 'mid': '', 'locations': [], 'locale': 'und', 'boundingPoly': {'vertices': [{'y': 952, 'x': 302}, {'y': 952, 'x': 3683}, {'y': 2623, 'x': 3683}, {'y': 2623, 'x': 302}], 'normalizedVertices': []}, 'score': 0, 'properties': [], 'confidence': 0}, {'topicality': 0, 'description': 'GARM', 'mid': '', 'locations': [], 'locale': '', 'boundingPoly': {'vertices': [{'y': 2321, 'x': 302}, {'y': 2124, 'x': 776}, {'y': 2271, 'x': 837}, {'y': 2468, 'x': 363}], 'normalizedVertices': []}, 'score': 0, 'properties': [], 'confidence': 0}, {'topicality': 0, 'description': 'O', 'mid': '', 'locations': [], 'locale': '', 'boundingPoly': {'vertices': [{'y': 1537, 'x': 1376}, {'y': 1569, 'x': 1434}, {'y': 1661, 'x': 1383}, {'y': 1629, 'x': 1325}], 'normalizedVertices': []}, 'score': 0, 'properties': [], 'confidence': 0}, {'topicality': 0, 'description': 'TATA', 'mid': '', 'locations': [], 'locale': '', 'boundingPoly': {'vertices': [{'y': 2048, 'x': 1277}, {'y': 2019, 'x': 1400}, {'y': 2051, 'x': 1407}, {'y': 2080, 'x': 1285}], 'normalizedVertices': []}, 'score': 0, 'properties': [], 'confidence': 0}, {'topicality': 0, 'description': 'tos', 'mid': '', 'locations': [], 'locale': '', 'boundingPoly': {'vertices': [{'y': 1977, 'x': 1429}, {'y': 1964, 'x': 1490}, {'y': 1996, 'x': 1496}, {'y': 2009, 'x': 1436}], 'normalizedVertices': []}, 'score': 0, 'properties': [], 'confidence': 0}, {'topicality': 0, 'description': 'TATA', 'mid': '', 'locations': [], 'locale': '', 'boundingPoly': {'vertices': [{'y': 1957, 'x': 1504}, {'y': 1949, 'x': 1536}, {'y': 1958, 'x': 1538}, {'y': 1967, 'x': 1507}], 'normalizedVertices': []}, 'score': 0, 'properties': [], 'confidence': 0}, {'topicality': 0, 'description': 'LATA', 'mid': '', 'locations': [], 'locale': '', 'boundingPoly': {'vertices': [{'y': 1554, 'x': 1652}, {'y': 1539, 'x': 1701}, {'y': 1555, 'x': 1705}, {'y': 1569, 'x': 1657}], 'normalizedVertices': []}, 'score': 0, 'properties': [], 'confidence': 0}, {'topicality': 0, 'description': 'MUMBAI', 'mid': '', 'locations': [], 'locale': '', 'boundingPoly': {'vertices': [{'y': 1571, 'x': 1665}, {'y': 1554, 'x': 1729}, {'y': 1576, 'x': 1735}, {'y': 1593, 'x': 1671}], 'normalizedVertices': []}, 'score': 0, 'properties': [], 'confidence': 0}, {'topicality': 0, 'description': 'MARAT', 'mid': '', 'locations': [], 'locale': '', 'boundingPoly': {'vertices': [{'y': 1600, 'x': 1666}, {'y': 1581, 'x': 1729}, {'y': 1600, 'x': 1735}, {'y': 1619, 'x': 1672}], 'normalizedVertices': []}, 'score': 0, 'properties': [], 'confidence': 0}, {'topicality': 0, 'description': 'TATA', 'mid': '', 'locations': [], 'locale': '', 'boundingPoly': {'vertices': [{'y': 1887, 'x': 1654}, {'y': 1870, 'x': 1703}, {'y': 1885, 'x': 1708}, {'y': 1902, 'x': 1659}], 'normalizedVertices': []}, 'score': 0, 'properties': [], 'confidence': 0}, {'topicality': 0, 'description': 'MARATHON', 'mid': '', 'locations': [], 'locale': '', 'boundingPoly': {'vertices': [{'y': 1933, 'x': 1654}, {'y': 1904, 'x': 1743}, {'y': 1920, 'x': 1749}, {'y': 1949, 'x': 1659}], 'normalizedVertices': []}, 'score': 0, 'properties': [], 'confidence': 0}, {'topicality': 0, 'description': '42.195', 'mid': '', 'locations': [], 'locale': '', 'boundingPoly': {'vertices': [{'y': 2009, 'x': 1689}, {'y': 1995, 'x': 1728}, {'y': 2007, 'x': 1732}, {'y': 2021, 'x': 1693}], 'normalizedVertices': []}, 'score': 0, 'properties': [], 'confidence': 0}, {'topicality': 0, 'description': 'KM', 'mid': '', 'locations': [], 'locale': '', 'boundingPoly': {'vertices': [{'y': 1994, 'x': 1730}, {'y': 1988, 'x': 1747}, {'y': 2000, 'x': 1751}, {'y': 2006, 'x': 1734}], 'normalizedVertices': []}, 'score': 0, 'properties': [], 'confidence': 0}, {'topicality': 0, 'description': 'F', 'mid': '', 'locations': [], 'locale': '', 'boundingPoly': {'vertices': [{'y': 2046, 'x': 1706}, {'y': 2041, 'x': 1732}, {'y': 2074, 'x': 1738}, {'y': 2079, 'x': 1713}], 'normalizedVertices': []}, 'score': 0, 'properties': [], 'confidence': 0}, {'topicality': 0, 'description': '10641', 'mid': '', 'locations': [], 'locale': '', 'boundingPoly': {'vertices': [{'y': 2185, 'x': 1339}, {'y': 2066, 'x': 1695}, {'y': 2184, 'x': 1734}, {'y': 2303, 'x': 1378}], 'normalizedVertices': []}, 'score': 0, 'properties': [], 'confidence': 0}, {'topicality': 0, 'description': 'GYANA', 'mid': '', 'locations': [], 'locale': '', 'boundingPoly': {'vertices': [{'y': 2314, 'x': 1490}, {'y': 2285, 'x': 1568}, {'y': 2304, 'x': 1575}, {'y': 2333, 'x': 1497}], 'normalizedVertices': []}, 'score': 0, 'properties': [], 'confidence': 0}, {'topicality': 0, 'description': 'SAMAL', 'mid': '', 'locations': [], 'locale': '', 'boundingPoly': {'vertices': [{'y': 2282, 'x': 1575}, {'y': 2256, 'x': 1646}, {'y': 2275, 'x': 1653}, {'y': 2301, 'x': 1582}], 'normalizedVertices': []}, 'score': 0, 'properties': [], 'confidence': 0}, {'topicality': 0, 'description': 'IDFC', 'mid': '', 'locations': [], 'locale': '', 'boundingPoly': {'vertices': [{'y': 2386, 'x': 1468}, {'y': 2363, 'x': 1528}, {'y': 2388, 'x': 1537}, {'y': 2411, 'x': 1478}], 'normalizedVertices': []}, 'score': 0, 'properties': [], 'confidence': 0}, {'topicality': 0, 'description': 'FIRST', 'mid': '', 'locations': [], 'locale': '', 'boundingPoly': {'vertices': [{'y': 2361, 'x': 1533}, {'y': 2333, 'x': 1604}, {'y': 2358, 'x': 1613}, {'y': 2385, 'x': 1542}], 'normalizedVertices': []}, 'score': 0, 'properties': [], 'confidence': 0}, {'topicality': 0, 'description': 'Bank', 'mid': '', 'locations': [], 'locale': '', 'boundingPoly': {'vertices': [{'y': 2331, 'x': 1608}, {'y': 2309, 'x': 1663}, {'y': 2335, 'x': 1673}, {'y': 2356, 'x': 1618}], 'normalizedVertices': []}, 'score': 0, 'properties': [], 'confidence': 0}, {'topicality': 0, 'description': '8369', 'mid': '', 'locations': [], 'locale': '', 'boundingPoly': {'vertices': [{'y': 2232, 'x': 1895}, {'y': 2359, 'x': 2190}, {'y': 2460, 'x': 2146}, {'y': 2333, 'x': 1851}], 'normalizedVertices': []}, 'score': 0, 'properties': [], 'confidence': 0}, {'topicality': 0, 'description': 'ANUBHUTI', 'mid': '', 'locations': [], 'locale': '', 'boundingPoly': {'vertices': [{'y': 2377, 'x': 1927}, {'y': 2437, 'x': 2027}, {'y': 2449, 'x': 2019}, {'y': 2390, 'x': 1919}], 'normalizedVertices': []}, 'score': 0, 'properties': [], 'confidence': 0}, {'topicality': 0, 'description': 'CHATURVEDI', 'mid': '', 'locations': [], 'locale': '', 'boundingPoly': {'vertices': [{'y': 2440, 'x': 2029}, {'y': 2469, 'x': 2177}, {'y': 2488, 'x': 2173}, {'y': 2459, 'x': 2025}], 'normalizedVertices': []}, 'score': 0, 'properties': [], 'confidence': 0}, {'topicality': 0, 'description': 'IDFC', 'mid': '', 'locations': [], 'locale': '', 'boundingPoly': {'vertices': [{'y': 2429, 'x': 1947}, {'y': 2462, 'x': 1998}, {'y': 2475, 'x': 1990}, {'y': 2442, 'x': 1939}], 'normalizedVertices': []}, 'score': 0, 'properties': [], 'confidence': 0}, {'topicality': 0, 'description': 'FIRST', 'mid': '', 'locations': [], 'locale': '', 'boundingPoly': {'vertices': [{'y': 2465, 'x': 2001}, {'y': 2495, 'x': 2070}, {'y': 2510, 'x': 2063}, {'y': 2480, 'x': 1995}], 'normalizedVertices': []}, 'score': 0, 'properties': [], 'confidence': 0}, {'topicality': 0, 'description': 'Bank', 'mid': '', 'locations': [], 'locale': '', 'boundingPoly': {'vertices': [{'y': 2494, 'x': 2075}, {'y': 2509, 'x': 2132}, {'y': 2523, 'x': 2128}, {'y': 2509, 'x': 2071}], 'normalizedVertices': []}, 'score': 0, 'properties': [], 'confidence': 0}, {'topicality': 0, 'description': 'Y', 'mid': '', 'locations': [], 'locale': '', 'boundingPoly': {'vertices': [{'y': 2466, 'x': 2208}, {'y': 2467, 'x': 2236}, {'y': 2484, 'x': 2236}, {'y': 2483, 'x': 2208}], 'normalizedVertices': []}, 'score': 0, 'properties': [], 'confidence': 0}, {'topicality': 0, 'description': 'aquants', 'mid': '', 'locations': [], 'locale': '', 'boundingPoly': {'vertices': [{'y': 2444, 'x': 2387}, {'y': 2526, 'x': 2407}, {'y': 2529, 'x': 2392}, {'y': 2448, 'x': 2371}], 'normalizedVertices': []}, 'score': 0, 'properties': [], 'confidence': 0}, {'topicality': 0, 'description': 'CHANGE', 'mid': '', 'locations': [], 'locale': '', 'boundingPoly': {'vertices': [{'y': 955, 'x': 2596}, {'y': 952, 'x': 2722}, {'y': 974, 'x': 2722}, {'y': 977, 'x': 2596}], 'normalizedVertices': []}, 'score': 0, 'properties': [], 'confidence': 0}, {'topicality': 0, 'description': 'TATA', 'mid': '', 'locations': [], 'locale': '', 'boundingPoly': {'vertices': [{'y': 2157, 'x': 2658}, {'y': 2189, 'x': 2752}, {'y': 2210, 'x': 2744}, {'y': 2179, 'x': 2651}], 'normalizedVertices': []}, 'score': 0, 'properties': [], 'confidence': 0}, {'topicality': 0, 'description': 'B', 'mid': '', 'locations': [], 'locale': '', 'boundingPoly': {'vertices': [{'y': 1266, 'x': 2878}, {'y': 1256, 'x': 2940}, {'y': 1287, 'x': 2945}, {'y': 1297, 'x': 2883}], 'normalizedVertices': []}, 'score': 0, 'properties': [], 'confidence': 0}, {'topicality': 0, 'description': 'TATA', 'mid': '', 'locations': [], 'locale': '', 'boundingPoly': {'vertices': [{'y': 1305, 'x': 2877}, {'y': 1292, 'x': 2945}, {'y': 1312, 'x': 2949}, {'y': 1326, 'x': 2881}], 'normalizedVertices': []}, 'score': 0, 'properties': [], 'confidence': 0}, {'topicality': 0, 'description': 'G', 'mid': '', 'locations': [], 'locale': '', 'boundingPoly': {'vertices': [{'y': 2209, 'x': 2884}, {'y': 2210, 'x': 2899}, {'y': 2218, 'x': 2899}, {'y': 2217, 'x': 2884}], 'normalizedVertices': []}, 'score': 0, 'properties': [], 'confidence': 0}, {'topicality': 0, 'description': 'TATA', 'mid': '', 'locations': [], 'locale': '', 'boundingPoly': {'vertices': [{'y': 2186, 'x': 3003}, {'y': 2188, 'x': 3079}, {'y': 2203, 'x': 3079}, {'y': 2201, 'x': 3003}], 'normalizedVertices': []}, 'score': 0, 'properties': [], 'confidence': 0}, {'topicality': 0, 'description': 'MUMBAI', 'mid': '', 'locations': [], 'locale': '', 'boundingPoly': {'vertices': [{'y': 2208, 'x': 3008}, {'y': 2208, 'x': 3107}, {'y': 2223, 'x': 3107}, {'y': 2223, 'x': 3008}], 'normalizedVertices': []}, 'score': 0, 'properties': [], 'confidence': 0}, {'topicality': 0, 'description': 'MARATHON', 'mid': '', 'locations': [], 'locale': '', 'boundingPoly': {'vertices': [{'y': 2226, 'x': 3014}, {'y': 2227, 'x': 3148}, {'y': 2244, 'x': 3148}, {'y': 2243, 'x': 3014}], 'normalizedVertices': []}, 'score': 0, 'properties': [], 'confidence': 0}, {'topicality': 0, 'description': '11148', 'mid': '', 'locations': [], 'locale': '', 'boundingPoly': {'vertices': [{'y': 2285, 'x': 2738}, {'y': 2339, 'x': 3130}, {'y': 2449, 'x': 3115}, {'y': 2395, 'x': 2723}], 'normalizedVertices': []}, 'score': 0, 'properties': [], 'confidence': 0}, {'topicality': 0, 'description': 'KRISHNA', 'mid': '', 'locations': [], 'locale': '', 'boundingPoly': {'vertices': [{'y': 2442, 'x': 2880}, {'y': 2460, 'x': 2992}, {'y': 2479, 'x': 2988}, {'y': 2461, 'x': 2877}], 'normalizedVertices': []}, 'score': 0, 'properties': [], 'confidence': 0}, {'topicality': 0, 'description': 'PATIL', 'mid': '', 'locations': [], 'locale': '', 'boundingPoly': {'vertices': [{'y': 2462, 'x': 2998}, {'y': 2474, 'x': 3071}, {'y': 2492, 'x': 3068}, {'y': 2480, 'x': 2995}], 'normalizedVertices': []}, 'score': 0, 'properties': [], 'confidence': 0}, {'topicality': 0, 'description': 'IDFC', 'mid': '', 'locations': [], 'locale': '', 'boundingPoly': {'vertices': [{'y': 2477, 'x': 2876}, {'y': 2489, 'x': 2939}, {'y': 2514, 'x': 2934}, {'y': 2502, 'x': 2871}], 'normalizedVertices': []}, 'score': 0, 'properties': [], 'confidence': 0}, {'topicality': 0, 'description': 'FIRST', 'mid': '', 'locations': [], 'locale': '', 'boundingPoly': {'vertices': [{'y': 2491, 'x': 2945}, {'y': 2506, 'x': 3023}, {'y': 2531, 'x': 3018}, {'y': 2516, 'x': 2940}], 'normalizedVertices': []}, 'score': 0, 'properties': [], 'confidence': 0}, {'topicality': 0, 'description': 'Bank', 'mid': '', 'locations': [], 'locale': '', 'boundingPoly': {'vertices': [{'y': 2508, 'x': 3028}, {'y': 2522, 'x': 3099}, {'y': 2545, 'x': 3094}, {'y': 2532, 'x': 3023}], 'normalizedVertices': []}, 'score': 0, 'properties': [], 'confidence': 0}, {'topicality': 0, 'description': '42.195', 'mid': '', 'locations': [], 'locale': '', 'boundingPoly': {'vertices': [{'y': 2299, 'x': 3084}, {'y': 2301, 'x': 3141}, {'y': 2315, 'x': 3140}, {'y': 2313, 'x': 3084}], 'normalizedVertices': []}, 'score': 0, 'properties': [], 'confidence': 0}, {'topicality': 0, 'description': 'KM', 'mid': '', 'locations': [], 'locale': '', 'boundingPoly': {'vertices': [{'y': 2302, 'x': 3146}, {'y': 2303, 'x': 3172}, {'y': 2316, 'x': 3172}, {'y': 2315, 'x': 3146}], 'normalizedVertices': []}, 'score': 0, 'properties': [], 'confidence': 0}, {'topicality': 0, 'description': 'B', 'mid': '', 'locations': [], 'locale': '', 'boundingPoly': {'vertices': [{'y': 2337, 'x': 3121}, {'y': 2338, 'x': 3159}, {'y': 2364, 'x': 3158}, {'y': 2363, 'x': 3120}], 'normalizedVertices': []}, 'score': 0, 'properties': [], 'confidence': 0}, {'topicality': 0, 'description': '8', 'mid': '', 'locations': [], 'locale': '', 'boundingPoly': {'vertices': [{'y': 2127, 'x': 3473}, {'y': 2171, 'x': 3582}, {'y': 2294, 'x': 3532}, {'y': 2250, 'x': 3424}], 'normalizedVertices': []}, 'score': 0, 'properties': [], 'confidence': 0}, {'topicality': 0, 'description': 'TAT', 'mid': '', 'locations': [], 'locale': '', 'boundingPoly': {'vertices': [{'y': 2186, 'x': 3566}, {'y': 2217, 'x': 3650}, {'y': 2246, 'x': 3640}, {'y': 2215, 'x': 3555}], 'normalizedVertices': []}, 'score': 0, 'properties': [], 'confidence': 0}, {'topicality': 0, 'description': 'MUME', 'mid': '', 'locations': [], 'locale': '', 'boundingPoly': {'vertices': [{'y': 2220, 'x': 3559}, {'y': 2259, 'x': 3664}, {'y': 2292, 'x': 3652}, {'y': 2253, 'x': 3547}], 'normalizedVertices': []}, 'score': 0, 'properties': [], 'confidence': 0}, {'topicality': 0, 'description': 'MARA', 'mid': '', 'locations': [], 'locale': '', 'boundingPoly': {'vertices': [{'y': 2264, 'x': 3555}, {'y': 2298, 'x': 3656}, {'y': 2329, 'x': 3646}, {'y': 2295, 'x': 3545}], 'normalizedVertices': []}, 'score': 0, 'properties': [], 'confidence': 0}, {'topicality': 0, 'description': 'TATA', 'mid': '', 'locations': [], 'locale': '', 'boundingPoly': {'vertices': [{'y': 2301, 'x': 3545}, {'y': 2316, 'x': 3592}, {'y': 2326, 'x': 3588}, {'y': 2311, 'x': 3542}], 'normalizedVertices': []}, 'score': 0, 'properties': [], 'confidence': 0}, {'topicality': 0, 'description': 'CONSU', 'mid': '', 'locations': [], 'locale': '', 'boundingPoly': {'vertices': [{'y': 2319, 'x': 3600}, {'y': 2334, 'x': 3646}, {'y': 2344, 'x': 3642}, {'y': 2329, 'x': 3597}], 'normalizedVertices': []}, 'score': 0, 'properties': [], 'confidence': 0}, {'topicality': 0, 'description': 'TATA', 'mid': '', 'locations': [], 'locale': '', 'boundingPoly': {'vertices': [{'y': 2482, 'x': 3495}, {'y': 2519, 'x': 3587}, {'y': 2537, 'x': 3580}, {'y': 2501, 'x': 3488}], 'normalizedVertices': []}, 'score': 0, 'properties': [], 'confidence': 0}, {'topicality': 0, 'description': 'MARATHO', 'mid': '', 'locations': [], 'locale': '', 'boundingPoly': {'vertices': [{'y': 2546, 'x': 3515}, {'y': 2598, 'x': 3661}, {'y': 2623, 'x': 3652}, {'y': 2570, 'x': 3506}], 'normalizedVertices': []}, 'score': 0, 'properties': [], 'confidence': 0}]\n",
      "uploads^mychoice23mar^2022-12-08T07:41:07.511Z^venue^avinashmane$gmail.com^Screenshot 2022-12-08 at 13-10-59 Athlete Heatmaps Strava.png => [{'topicality': 0, 'description': 'O +\\n3km\\nFewer activities\\nAny\\nMore activities\\nP', 'mid': '', 'locations': [], 'locale': 'en', 'boundingPoly': {'vertices': [{'y': 26, 'x': 26}, {'y': 26, 'x': 1476}, {'y': 887, 'x': 1476}, {'y': 887, 'x': 26}], 'normalizedVertices': []}, 'score': 0, 'properties': [], 'confidence': 0}, {'topicality': 0, 'description': 'O', 'mid': '', 'locations': [], 'locale': '', 'boundingPoly': {'vertices': [{'y': 26, 'x': 49}, {'y': 49, 'x': 49}, {'y': 49, 'x': 29}, {'y': 26, 'x': 29}], 'normalizedVertices': []}, 'score': 0, 'properties': [], 'confidence': 0}, {'topicality': 0, 'description': '+', 'mid': '', 'locations': [], 'locale': '', 'boundingPoly': {'vertices': [{'y': 85, 'x': 43}, {'y': 105, 'x': 43}, {'y': 105, 'x': 27}, {'y': 85, 'x': 27}], 'normalizedVertices': []}, 'score': 0, 'properties': [], 'confidence': 0}, {'topicality': 0, 'description': '3km', 'mid': '', 'locations': [], 'locale': '', 'boundingPoly': {'vertices': [{'y': 843, 'x': 26}, {'y': 843, 'x': 52}, {'y': 853, 'x': 52}, {'y': 853, 'x': 26}], 'normalizedVertices': []}, 'score': 0, 'properties': [], 'confidence': 0}, {'topicality': 0, 'description': 'Fewer', 'mid': '', 'locations': [], 'locale': '', 'boundingPoly': {'vertices': [{'y': 774, 'x': 1027}, {'y': 774, 'x': 1072}, {'y': 787, 'x': 1072}, {'y': 787, 'x': 1027}], 'normalizedVertices': []}, 'score': 0, 'properties': [], 'confidence': 0}, {'topicality': 0, 'description': 'activities', 'mid': '', 'locations': [], 'locale': '', 'boundingPoly': {'vertices': [{'y': 774, 'x': 1077}, {'y': 774, 'x': 1147}, {'y': 787, 'x': 1147}, {'y': 787, 'x': 1077}], 'normalizedVertices': []}, 'score': 0, 'properties': [], 'confidence': 0}, {'topicality': 0, 'description': 'Any', 'mid': '', 'locations': [], 'locale': '', 'boundingPoly': {'vertices': [{'y': 822, 'x': 891}, {'y': 807, 'x': 1104}, {'y': 872, 'x': 1109}, {'y': 887, 'x': 896}], 'normalizedVertices': []}, 'score': 0, 'properties': [], 'confidence': 0}, {'topicality': 0, 'description': 'More', 'mid': '', 'locations': [], 'locale': '', 'boundingPoly': {'vertices': [{'y': 772, 'x': 1345}, {'y': 772, 'x': 1381}, {'y': 787, 'x': 1381}, {'y': 787, 'x': 1345}], 'normalizedVertices': []}, 'score': 0, 'properties': [], 'confidence': 0}, {'topicality': 0, 'description': 'activities', 'mid': '', 'locations': [], 'locale': '', 'boundingPoly': {'vertices': [{'y': 772, 'x': 1387}, {'y': 772, 'x': 1457}, {'y': 786, 'x': 1457}, {'y': 786, 'x': 1387}], 'normalizedVertices': []}, 'score': 0, 'properties': [], 'confidence': 0}, {'topicality': 0, 'description': 'P', 'mid': '', 'locations': [], 'locale': '', 'boundingPoly': {'vertices': [{'y': 843, 'x': 1477}, {'y': 866, 'x': 1477}, {'y': 866, 'x': 1462}, {'y': 843, 'x': 1462}], 'normalizedVertices': []}, 'score': 0, 'properties': [], 'confidence': 0}]\n",
      "uploads^mychoice23mar^2022-12-08T07:41:35.385Z^venue^avinashmane$gmail.com^Screenshot 2022-12-08 at 13-11-28 Athlete Heatmaps Strava.png => [{'topicality': 0, 'description': 'O +\\n3km\\nFewer activities\\nAny\\nMore activities\\nP', 'mid': '', 'locations': [], 'locale': 'en', 'boundingPoly': {'vertices': [{'y': 26, 'x': 26}, {'y': 26, 'x': 1476}, {'y': 887, 'x': 1476}, {'y': 887, 'x': 26}], 'normalizedVertices': []}, 'score': 0, 'properties': [], 'confidence': 0}, {'topicality': 0, 'description': 'O', 'mid': '', 'locations': [], 'locale': '', 'boundingPoly': {'vertices': [{'y': 26, 'x': 49}, {'y': 49, 'x': 49}, {'y': 49, 'x': 29}, {'y': 26, 'x': 29}], 'normalizedVertices': []}, 'score': 0, 'properties': [], 'confidence': 0}, {'topicality': 0, 'description': '+', 'mid': '', 'locations': [], 'locale': '', 'boundingPoly': {'vertices': [{'y': 86, 'x': 44}, {'y': 106, 'x': 44}, {'y': 106, 'x': 28}, {'y': 86, 'x': 28}], 'normalizedVertices': []}, 'score': 0, 'properties': [], 'confidence': 0}, {'topicality': 0, 'description': '3km', 'mid': '', 'locations': [], 'locale': '', 'boundingPoly': {'vertices': [{'y': 843, 'x': 26}, {'y': 843, 'x': 52}, {'y': 853, 'x': 52}, {'y': 853, 'x': 26}], 'normalizedVertices': []}, 'score': 0, 'properties': [], 'confidence': 0}, {'topicality': 0, 'description': 'Fewer', 'mid': '', 'locations': [], 'locale': '', 'boundingPoly': {'vertices': [{'y': 774, 'x': 1027}, {'y': 774, 'x': 1072}, {'y': 787, 'x': 1072}, {'y': 787, 'x': 1027}], 'normalizedVertices': []}, 'score': 0, 'properties': [], 'confidence': 0}, {'topicality': 0, 'description': 'activities', 'mid': '', 'locations': [], 'locale': '', 'boundingPoly': {'vertices': [{'y': 774, 'x': 1077}, {'y': 774, 'x': 1147}, {'y': 787, 'x': 1147}, {'y': 787, 'x': 1077}], 'normalizedVertices': []}, 'score': 0, 'properties': [], 'confidence': 0}, {'topicality': 0, 'description': 'Any', 'mid': '', 'locations': [], 'locale': '', 'boundingPoly': {'vertices': [{'y': 822, 'x': 891}, {'y': 807, 'x': 1104}, {'y': 872, 'x': 1109}, {'y': 887, 'x': 896}], 'normalizedVertices': []}, 'score': 0, 'properties': [], 'confidence': 0}, {'topicality': 0, 'description': 'More', 'mid': '', 'locations': [], 'locale': '', 'boundingPoly': {'vertices': [{'y': 772, 'x': 1345}, {'y': 772, 'x': 1381}, {'y': 787, 'x': 1381}, {'y': 787, 'x': 1345}], 'normalizedVertices': []}, 'score': 0, 'properties': [], 'confidence': 0}, {'topicality': 0, 'description': 'activities', 'mid': '', 'locations': [], 'locale': '', 'boundingPoly': {'vertices': [{'y': 772, 'x': 1387}, {'y': 772, 'x': 1457}, {'y': 786, 'x': 1457}, {'y': 786, 'x': 1387}], 'normalizedVertices': []}, 'score': 0, 'properties': [], 'confidence': 0}, {'topicality': 0, 'description': 'P', 'mid': '', 'locations': [], 'locale': '', 'boundingPoly': {'vertices': [{'y': 843, 'x': 1477}, {'y': 866, 'x': 1477}, {'y': 866, 'x': 1462}, {'y': 843, 'x': 1462}], 'normalizedVertices': []}, 'score': 0, 'properties': [], 'confidence': 0}]\n",
      "uploads^mychoice23mar^2023-03-14T12:58:35.006Z^venue^avinashmane$gmail.com^capture.png => []\n",
      "uploads^mychoice23mar^2023-03-14T13:01:08.206Z^venue^avinashmane$gmail.com^capture.png => [{'topicality': 0, 'description': 'MY CHAISE\\nLL\\nPCC BRUNNERS\\n3184\\nAVINASH MANE', 'mid': '', 'locations': [], 'locale': 'und', 'boundingPoly': {'vertices': [{'y': 230, 'x': 182}, {'y': 230, 'x': 473}, {'y': 418, 'x': 473}, {'y': 418, 'x': 182}], 'normalizedVertices': []}, 'score': 0, 'properties': [], 'confidence': 0}, {'topicality': 0, 'description': 'MY', 'mid': '', 'locations': [], 'locale': '', 'boundingPoly': {'vertices': [{'y': 243, 'x': 196}, {'y': 241, 'x': 217}, {'y': 258, 'x': 218}, {'y': 260, 'x': 197}], 'normalizedVertices': []}, 'score': 0, 'properties': [], 'confidence': 0}, {'topicality': 0, 'description': 'CHAISE', 'mid': '', 'locations': [], 'locale': '', 'boundingPoly': {'vertices': [{'y': 241, 'x': 223}, {'y': 236, 'x': 280}, {'y': 253, 'x': 281}, {'y': 258, 'x': 224}], 'normalizedVertices': []}, 'score': 0, 'properties': [], 'confidence': 0}, {'topicality': 0, 'description': 'LL', 'mid': '', 'locations': [], 'locale': '', 'boundingPoly': {'vertices': [{'y': 235, 'x': 343}, {'y': 234, 'x': 373}, {'y': 247, 'x': 373}, {'y': 248, 'x': 343}], 'normalizedVertices': []}, 'score': 0, 'properties': [], 'confidence': 0}, {'topicality': 0, 'description': 'PCC', 'mid': '', 'locations': [], 'locale': '', 'boundingPoly': {'vertices': [{'y': 248, 'x': 341}, {'y': 246, 'x': 383}, {'y': 262, 'x': 384}, {'y': 264, 'x': 342}], 'normalizedVertices': []}, 'score': 0, 'properties': [], 'confidence': 0}, {'topicality': 0, 'description': 'BRUNNERS', 'mid': '', 'locations': [], 'locale': '', 'boundingPoly': {'vertices': [{'y': 246, 'x': 386}, {'y': 242, 'x': 458}, {'y': 257, 'x': 459}, {'y': 261, 'x': 387}], 'normalizedVertices': []}, 'score': 0, 'properties': [], 'confidence': 0}, {'topicality': 0, 'description': '3184', 'mid': '', 'locations': [], 'locale': '', 'boundingPoly': {'vertices': [{'y': 304, 'x': 183}, {'y': 285, 'x': 464}, {'y': 367, 'x': 470}, {'y': 386, 'x': 188}], 'normalizedVertices': []}, 'score': 0, 'properties': [], 'confidence': 0}, {'topicality': 0, 'description': 'AVINASH', 'mid': '', 'locations': [], 'locale': '', 'boundingPoly': {'vertices': [{'y': 395, 'x': 292}, {'y': 390, 'x': 346}, {'y': 405, 'x': 347}, {'y': 410, 'x': 293}], 'normalizedVertices': []}, 'score': 0, 'properties': [], 'confidence': 0}, {'topicality': 0, 'description': 'MANE', 'mid': '', 'locations': [], 'locale': '', 'boundingPoly': {'vertices': [{'y': 390, 'x': 350}, {'y': 387, 'x': 385}, {'y': 402, 'x': 386}, {'y': 405, 'x': 351}], 'normalizedVertices': []}, 'score': 0, 'properties': [], 'confidence': 0}]\n",
      "uploads^undefined^2023-03-14T12:57:42.978Z^undefined^avinashmane$gmail.com^capture.png => []\n"
     ]
    }
   ],
   "source": [
    "images = runpix.fstore.collection('images')\n",
    "for doc in images.stream():\n",
    "    print(f\"{doc.id} => {doc.to_dict()['textAnnotations']}\")"
   ]
  },
  {
   "cell_type": "markdown",
   "id": "1c71bdda-a06c-4c86-b7e1-4f52b4c40c1d",
   "metadata": {},
   "source": [
    "# Storage"
   ]
  },
  {
   "cell_type": "code",
   "execution_count": 32,
   "id": "368c0055-6c28-4563-a1b9-dae03dc3f342",
   "metadata": {},
   "outputs": [],
   "source": [
    "from firebase_admin import storage\n",
    "bucket=firebase_admin.storage.bucket(name='run-pix.appspot.com', app=None) "
   ]
  },
  {
   "cell_type": "markdown",
   "id": "d14ef1b0-e554-48a5-a760-4d685db1d03e",
   "metadata": {},
   "source": [
    "## list all blobs"
   ]
  },
  {
   "cell_type": "code",
   "execution_count": 202,
   "id": "eda2194b-0a52-46f1-bf49-a5f1f9bc8f8d",
   "metadata": {},
   "outputs": [
    {
     "data": {
      "text/plain": [
       "'processed/mychoice23apr/2023-03-18T02:39:47.304Z~venue~avinashmane$gmail.com~capture.jpg'"
      ]
     },
     "metadata": {},
     "output_type": "display_data"
    },
    {
     "data": {
      "text/plain": [
       "True"
      ]
     },
     "execution_count": 202,
     "metadata": {},
     "output_type": "execute_result"
    }
   ],
   "source": [
    "# check existance\n",
    "display(df_blob.name[3])\n",
    "bucket.blob(df_blob.name[3]).exists()"
   ]
  },
  {
   "cell_type": "code",
   "execution_count": 203,
   "id": "cb19f533-c1ba-4ff5-b1eb-26e732631ea7",
   "metadata": {},
   "outputs": [],
   "source": [
    "blobs=[blob for blob in bucket.list_blobs()]\n",
    "df_blob=pd.DataFrame([{\"id\":b.id,\"name\":b.name,\"blob\":b} for b in blobs])"
   ]
  },
  {
   "cell_type": "code",
   "execution_count": 206,
   "id": "8ed62c57-c889-4b76-a26c-6964940d6699",
   "metadata": {},
   "outputs": [
    {
     "data": {
      "text/html": [
       "<div>\n",
       "<style scoped>\n",
       "    .dataframe tbody tr th:only-of-type {\n",
       "        vertical-align: middle;\n",
       "    }\n",
       "\n",
       "    .dataframe tbody tr th {\n",
       "        vertical-align: top;\n",
       "    }\n",
       "\n",
       "    .dataframe thead th {\n",
       "        text-align: right;\n",
       "    }\n",
       "</style>\n",
       "<table border=\"1\" class=\"dataframe\">\n",
       "  <thead>\n",
       "    <tr style=\"text-align: right;\">\n",
       "      <th></th>\n",
       "      <th>id</th>\n",
       "      <th>name</th>\n",
       "      <th>blob</th>\n",
       "    </tr>\n",
       "  </thead>\n",
       "  <tbody>\n",
       "    <tr>\n",
       "      <th>0</th>\n",
       "      <td>run-pix.appspot.com/processed//1675677894996648</td>\n",
       "      <td>processed/</td>\n",
       "      <td>&lt;Blob: run-pix.appspot.com, processed/, 167567...</td>\n",
       "    </tr>\n",
       "    <tr>\n",
       "      <th>1</th>\n",
       "      <td>run-pix.appspot.com/processed/default/2023-03-...</td>\n",
       "      <td>processed/default/2023-03-17T17:28:45.677Z~ven...</td>\n",
       "      <td>&lt;Blob: run-pix.appspot.com, processed/default/...</td>\n",
       "    </tr>\n",
       "    <tr>\n",
       "      <th>2</th>\n",
       "      <td>run-pix.appspot.com/processed/default/2023-03-...</td>\n",
       "      <td>processed/default/2023-03-17T17:34:42.274Z~ven...</td>\n",
       "      <td>&lt;Blob: run-pix.appspot.com, processed/default/...</td>\n",
       "    </tr>\n",
       "    <tr>\n",
       "      <th>3</th>\n",
       "      <td>run-pix.appspot.com/processed/default/_L3A2996...</td>\n",
       "      <td>processed/default/_L3A2996.jpg</td>\n",
       "      <td>&lt;Blob: run-pix.appspot.com, processed/default/...</td>\n",
       "    </tr>\n",
       "    <tr>\n",
       "      <th>4</th>\n",
       "      <td>run-pix.appspot.com/processed/default/_L3A3012...</td>\n",
       "      <td>processed/default/_L3A3012.jpg</td>\n",
       "      <td>&lt;Blob: run-pix.appspot.com, processed/default/...</td>\n",
       "    </tr>\n",
       "    <tr>\n",
       "      <th>...</th>\n",
       "      <td>...</td>\n",
       "      <td>...</td>\n",
       "      <td>...</td>\n",
       "    </tr>\n",
       "    <tr>\n",
       "      <th>372</th>\n",
       "      <td>run-pix.appspot.com/uploads/werun2023/_L3A3198...</td>\n",
       "      <td>uploads/werun2023/_L3A3198.jpg</td>\n",
       "      <td>&lt;Blob: run-pix.appspot.com, uploads/werun2023/...</td>\n",
       "    </tr>\n",
       "    <tr>\n",
       "      <th>373</th>\n",
       "      <td>run-pix.appspot.com/uploads/werun2023/_L3A3199...</td>\n",
       "      <td>uploads/werun2023/_L3A3199.jpg</td>\n",
       "      <td>&lt;Blob: run-pix.appspot.com, uploads/werun2023/...</td>\n",
       "    </tr>\n",
       "    <tr>\n",
       "      <th>374</th>\n",
       "      <td>run-pix.appspot.com/uploads/werun2023/_L3A3200...</td>\n",
       "      <td>uploads/werun2023/_L3A3200.jpg</td>\n",
       "      <td>&lt;Blob: run-pix.appspot.com, uploads/werun2023/...</td>\n",
       "    </tr>\n",
       "    <tr>\n",
       "      <th>375</th>\n",
       "      <td>run-pix.appspot.com/uploads/werun2023/_L3A3201...</td>\n",
       "      <td>uploads/werun2023/_L3A3201.jpg</td>\n",
       "      <td>&lt;Blob: run-pix.appspot.com, uploads/werun2023/...</td>\n",
       "    </tr>\n",
       "    <tr>\n",
       "      <th>376</th>\n",
       "      <td>run-pix.appspot.com/uploads/werun2023/_L3A3202...</td>\n",
       "      <td>uploads/werun2023/_L3A3202.jpg</td>\n",
       "      <td>&lt;Blob: run-pix.appspot.com, uploads/werun2023/...</td>\n",
       "    </tr>\n",
       "  </tbody>\n",
       "</table>\n",
       "<p>377 rows × 3 columns</p>\n",
       "</div>"
      ],
      "text/plain": [
       "                                                    id  \\\n",
       "0      run-pix.appspot.com/processed//1675677894996648   \n",
       "1    run-pix.appspot.com/processed/default/2023-03-...   \n",
       "2    run-pix.appspot.com/processed/default/2023-03-...   \n",
       "3    run-pix.appspot.com/processed/default/_L3A2996...   \n",
       "4    run-pix.appspot.com/processed/default/_L3A3012...   \n",
       "..                                                 ...   \n",
       "372  run-pix.appspot.com/uploads/werun2023/_L3A3198...   \n",
       "373  run-pix.appspot.com/uploads/werun2023/_L3A3199...   \n",
       "374  run-pix.appspot.com/uploads/werun2023/_L3A3200...   \n",
       "375  run-pix.appspot.com/uploads/werun2023/_L3A3201...   \n",
       "376  run-pix.appspot.com/uploads/werun2023/_L3A3202...   \n",
       "\n",
       "                                                  name  \\\n",
       "0                                           processed/   \n",
       "1    processed/default/2023-03-17T17:28:45.677Z~ven...   \n",
       "2    processed/default/2023-03-17T17:34:42.274Z~ven...   \n",
       "3                       processed/default/_L3A2996.jpg   \n",
       "4                       processed/default/_L3A3012.jpg   \n",
       "..                                                 ...   \n",
       "372                     uploads/werun2023/_L3A3198.jpg   \n",
       "373                     uploads/werun2023/_L3A3199.jpg   \n",
       "374                     uploads/werun2023/_L3A3200.jpg   \n",
       "375                     uploads/werun2023/_L3A3201.jpg   \n",
       "376                     uploads/werun2023/_L3A3202.jpg   \n",
       "\n",
       "                                                  blob  \n",
       "0    <Blob: run-pix.appspot.com, processed/, 167567...  \n",
       "1    <Blob: run-pix.appspot.com, processed/default/...  \n",
       "2    <Blob: run-pix.appspot.com, processed/default/...  \n",
       "3    <Blob: run-pix.appspot.com, processed/default/...  \n",
       "4    <Blob: run-pix.appspot.com, processed/default/...  \n",
       "..                                                 ...  \n",
       "372  <Blob: run-pix.appspot.com, uploads/werun2023/...  \n",
       "373  <Blob: run-pix.appspot.com, uploads/werun2023/...  \n",
       "374  <Blob: run-pix.appspot.com, uploads/werun2023/...  \n",
       "375  <Blob: run-pix.appspot.com, uploads/werun2023/...  \n",
       "376  <Blob: run-pix.appspot.com, uploads/werun2023/...  \n",
       "\n",
       "[377 rows x 3 columns]"
      ]
     },
     "execution_count": 206,
     "metadata": {},
     "output_type": "execute_result"
    }
   ],
   "source": [
    "# for i, b in enumerate(blobs):\n",
    "#     print (i,b.name)\n",
    "df_blob"
   ]
  },
  {
   "cell_type": "code",
   "execution_count": 39,
   "id": "8332b7b5-ab6c-4d23-a3a2-43a0a193e3d0",
   "metadata": {},
   "outputs": [
    {
     "data": {
      "text/plain": [
       "'https://storage.googleapis.com/run-pix.appspot.com/processed/mychoice23feb/2023-02-12T01%3A28%3A29.364Z%5Evenue%5Eavinashmane%24gmail.com%5E20230212_065828.jpg?Expires=1679098198&GoogleAccessId=firebase-adminsdk-spqa9%40run-pix.iam.gserviceaccount.com&Signature=MfFLAHv5J8xju%2BvZLS8uhW2CLJ7FXQU3eNNGOJHCxejfbcG2jBBuZuiwi%2BQVi5aYqVE70uYGMf4a7rXIaQNn4I5DaZuic%2BBwnstt0sftMLWTtTa2ZXFmHhog5jiyl18zQMS2oBrFE1fepTDLCzHktLWqD9lKvxK1tjffD1ERLkuAyRZMerhReLMBmedHMYLhB%2BoKLNo%2BBcoI9JHfkoIHoyal2M31c%2FxPoqJGSLemvE4TLMMePU%2FWK6ZB6VqEsb06%2FabVrGwbvjus2%2BOCoUK8cFOL6P1VCnRG%2FZ21GUvZJCuv9kRLeeuO22HSX%2BsNDwDP%2BC%2BlMfxCe%2FsGpC%2Fxd8NO4g%3D%3D'"
      ]
     },
     "execution_count": 39,
     "metadata": {},
     "output_type": "execute_result"
    }
   ],
   "source": [
    "\"signed URL\"\n",
    "blobs[3].generate_signed_url(pd.Timestamp.today())"
   ]
  },
  {
   "cell_type": "code",
   "execution_count": 239,
   "id": "bfe17229-d2c0-41ed-9b11-f74c5c1ba576",
   "metadata": {},
   "outputs": [
    {
     "ename": "ImportError",
     "evalue": "cannot import name 'Markdown' from 'IPython' (c:\\sw\\py310nb_env\\Lib\\site-packages\\IPython\\__init__.py)",
     "output_type": "error",
     "traceback": [
      "\u001b[1;31m---------------------------------------------------------------------------\u001b[0m",
      "\u001b[1;31mImportError\u001b[0m                               Traceback (most recent call last)",
      "Cell \u001b[1;32mIn[239], line 1\u001b[0m\n\u001b[1;32m----> 1\u001b[0m \u001b[38;5;28;01mfrom\u001b[39;00m \u001b[38;5;21;01mIPython\u001b[39;00m \u001b[38;5;28;01mimport\u001b[39;00m display,Markdown\n\u001b[0;32m      2\u001b[0m \u001b[38;5;28;01mfrom\u001b[39;00m \u001b[38;5;21;01mbase64\u001b[39;00m \u001b[38;5;28;01mimport\u001b[39;00m b64decode\n\u001b[0;32m      3\u001b[0m base64_data \u001b[38;5;241m=\u001b[39m blocs[\u001b[38;5;241m1\u001b[39m]\u001b[38;5;241m.\u001b[39mdownload_as_bytes() \u001b[38;5;66;03m#\"iVBORw0KGgoAAAANSUhEUgAABL ...  the rest of data \"\u001b[39;00m\n",
      "\u001b[1;31mImportError\u001b[0m: cannot import name 'Markdown' from 'IPython' (c:\\sw\\py310nb_env\\Lib\\site-packages\\IPython\\__init__.py)"
     ]
    }
   ],
   "source": [
    "\n",
    "from base64 import b64decode\n",
    "base64_data = blocs[1].download_as_bytes() #\"iVBORw0KGgoAAAANSUhEUgAABL ...  the rest of data \""
   ]
  },
  {
   "cell_type": "code",
   "execution_count": 55,
   "id": "5ad7b818-63a5-47c4-b135-7b8d826958fb",
   "metadata": {
    "tags": []
   },
   "outputs": [
    {
     "data": {
      "text/plain": [
       "b\"\\xff\\xd8\\xff\\xdb\\x00C\\x00\\x06\\x04\\x05\\x06\\x05\\x04\\x06\\x06\\x05\\x06\\x07\\x07\\x06\\x08\\n\\x10\\n\\n\\t\\t\\n\\x14\\x0e\\x0f\\x0c\\x10\\x17\\x14\\x18\\x18\\x17\\x14\\x16\\x16\\x1a\\x1d%\\x1f\\x1a\\x1b#\\x1c\\x16\\x16 , #&')*)\\x19\\x1f-0-(0%()(\\xff\\xdb\\x00C\\x01\\x07\\x07\\x07\\n\\x08\\n\\x13\\n\\n\\x13(\\x1a\\x16\\x1a((((((((((\""
      ]
     },
     "execution_count": 55,
     "metadata": {},
     "output_type": "execute_result"
    }
   ],
   "source": [
    "base64_data[:100]"
   ]
  },
  {
   "cell_type": "code",
   "execution_count": 56,
   "id": "753447ed-8f60-41ff-947b-47eb4fec49cc",
   "metadata": {},
   "outputs": [
    {
     "data": {
      "image/png": "[encoded data removed]",
      "text/plain": [
       "<IPython.core.display.Image object>"
      ]
     },
     "execution_count": 56,
     "metadata": {},
     "output_type": "execute_result"
    }
   ],
   "source": [
    "display.Image(b64decode(base64_data))"
   ]
  },
  {
   "cell_type": "code",
   "execution_count": 90,
   "id": "e222a461-6970-404a-bb01-2618057ada74",
   "metadata": {},
   "outputs": [
    {
     "name": "stdout",
     "output_type": "stream",
     "text": [
      "71 thumbs/2023-02-12T01:25:41.084Z^venue^avinashmane$gmail.com^20230212_065538.jpg/2023-02-12T01:25:41.084Z^venue^avinashmane$gmail.com^20230212_065538.jpg thumbs/mychoice23feb/2023-02-12T01:25:41.084Z^venue^avinashmane$gmail.com^20230212_065538.jpg\n"
     ]
    },
    {
     "ename": "NotFound",
     "evalue": "404 POST https://storage.googleapis.com/storage/v1/b/run-pix.appspot.com/o/thumbs%2F2023-02-12T01%3A25%3A41.084Z%5Evenue%5Eavinashmane%24gmail.com%5E20230212_065538.jpg%2F2023-02-12T01%3A25%3A41.084Z%5Evenue%5Eavinashmane%24gmail.com%5E20230212_065538.jpg/copyTo/b/run-pix.appspot.com/o/thumbs%2Fmychoice23feb%2F2023-02-12T01%3A25%3A41.084Z%5Evenue%5Eavinashmane%24gmail.com%5E20230212_065538.jpg?prettyPrint=false: No such object: run-pix.appspot.com/thumbs/2023-02-12T01:25:41.084Z^venue^avinashmane$gmail.com^20230212_065538.jpg/2023-02-12T01:25:41.084Z^venue^avinashmane$gmail.com^20230212_065538.jpg",
     "output_type": "error",
     "traceback": [
      "\u001b[1;31m---------------------------------------------------------------------------\u001b[0m",
      "\u001b[1;31mNotFound\u001b[0m                                  Traceback (most recent call last)",
      "Cell \u001b[1;32mIn[90], line 9\u001b[0m\n\u001b[0;32m      7\u001b[0m newName\u001b[38;5;241m=\u001b[39m\u001b[38;5;124m\"\u001b[39m\u001b[38;5;124mthumbs/mychoice23feb/\u001b[39m\u001b[38;5;124m\"\u001b[39m\u001b[38;5;241m+\u001b[39mb\u001b[38;5;241m.\u001b[39mname\u001b[38;5;241m.\u001b[39msplit(\u001b[38;5;124m'\u001b[39m\u001b[38;5;124m/\u001b[39m\u001b[38;5;124m'\u001b[39m)[\u001b[38;5;241m-\u001b[39m\u001b[38;5;241m1\u001b[39m]\n\u001b[0;32m      8\u001b[0m \u001b[38;5;28mprint\u001b[39m(i,b\u001b[38;5;241m.\u001b[39mname,newName)\n\u001b[1;32m----> 9\u001b[0m \u001b[43mgcs\u001b[49m\u001b[38;5;241;43m.\u001b[39;49m\u001b[43mcopy_blob\u001b[49m\u001b[43m(\u001b[49m\u001b[43mb\u001b[49m\u001b[43m,\u001b[49m\u001b[43mgcs\u001b[49m\u001b[43m,\u001b[49m\u001b[43mnewName\u001b[49m\u001b[43m)\u001b[49m\n",
      "File \u001b[1;32mc:\\sw\\py310nb_env\\Lib\\site-packages\\google\\cloud\\storage\\bucket.py:1903\u001b[0m, in \u001b[0;36mBucket.copy_blob\u001b[1;34m(self, blob, destination_bucket, new_name, client, preserve_acl, source_generation, if_generation_match, if_generation_not_match, if_metageneration_match, if_metageneration_not_match, if_source_generation_match, if_source_generation_not_match, if_source_metageneration_match, if_source_metageneration_not_match, timeout, retry)\u001b[0m\n\u001b[0;32m   1901\u001b[0m new_blob \u001b[38;5;241m=\u001b[39m Blob(bucket\u001b[38;5;241m=\u001b[39mdestination_bucket, name\u001b[38;5;241m=\u001b[39mnew_name)\n\u001b[0;32m   1902\u001b[0m api_path \u001b[38;5;241m=\u001b[39m blob\u001b[38;5;241m.\u001b[39mpath \u001b[38;5;241m+\u001b[39m \u001b[38;5;124m\"\u001b[39m\u001b[38;5;124m/copyTo\u001b[39m\u001b[38;5;124m\"\u001b[39m \u001b[38;5;241m+\u001b[39m new_blob\u001b[38;5;241m.\u001b[39mpath\n\u001b[1;32m-> 1903\u001b[0m copy_result \u001b[38;5;241m=\u001b[39m \u001b[43mclient\u001b[49m\u001b[38;5;241;43m.\u001b[39;49m\u001b[43m_post_resource\u001b[49m\u001b[43m(\u001b[49m\n\u001b[0;32m   1904\u001b[0m \u001b[43m    \u001b[49m\u001b[43mapi_path\u001b[49m\u001b[43m,\u001b[49m\n\u001b[0;32m   1905\u001b[0m \u001b[43m    \u001b[49m\u001b[38;5;28;43;01mNone\u001b[39;49;00m\u001b[43m,\u001b[49m\n\u001b[0;32m   1906\u001b[0m \u001b[43m    \u001b[49m\u001b[43mquery_params\u001b[49m\u001b[38;5;241;43m=\u001b[39;49m\u001b[43mquery_params\u001b[49m\u001b[43m,\u001b[49m\n\u001b[0;32m   1907\u001b[0m \u001b[43m    \u001b[49m\u001b[43mtimeout\u001b[49m\u001b[38;5;241;43m=\u001b[39;49m\u001b[43mtimeout\u001b[49m\u001b[43m,\u001b[49m\n\u001b[0;32m   1908\u001b[0m \u001b[43m    \u001b[49m\u001b[43mretry\u001b[49m\u001b[38;5;241;43m=\u001b[39;49m\u001b[43mretry\u001b[49m\u001b[43m,\u001b[49m\n\u001b[0;32m   1909\u001b[0m \u001b[43m    \u001b[49m\u001b[43m_target_object\u001b[49m\u001b[38;5;241;43m=\u001b[39;49m\u001b[43mnew_blob\u001b[49m\u001b[43m,\u001b[49m\n\u001b[0;32m   1910\u001b[0m \u001b[43m\u001b[49m\u001b[43m)\u001b[49m\n\u001b[0;32m   1912\u001b[0m \u001b[38;5;28;01mif\u001b[39;00m \u001b[38;5;129;01mnot\u001b[39;00m preserve_acl:\n\u001b[0;32m   1913\u001b[0m     new_blob\u001b[38;5;241m.\u001b[39macl\u001b[38;5;241m.\u001b[39msave(acl\u001b[38;5;241m=\u001b[39m{}, client\u001b[38;5;241m=\u001b[39mclient, timeout\u001b[38;5;241m=\u001b[39mtimeout)\n",
      "File \u001b[1;32mc:\\sw\\py310nb_env\\Lib\\site-packages\\google\\cloud\\storage\\client.py:612\u001b[0m, in \u001b[0;36mClient._post_resource\u001b[1;34m(self, path, data, query_params, headers, timeout, retry, _target_object)\u001b[0m\n\u001b[0;32m    551\u001b[0m \u001b[38;5;28;01mdef\u001b[39;00m \u001b[38;5;21m_post_resource\u001b[39m(\n\u001b[0;32m    552\u001b[0m     \u001b[38;5;28mself\u001b[39m,\n\u001b[0;32m    553\u001b[0m     path,\n\u001b[1;32m   (...)\u001b[0m\n\u001b[0;32m    559\u001b[0m     _target_object\u001b[38;5;241m=\u001b[39m\u001b[38;5;28;01mNone\u001b[39;00m,\n\u001b[0;32m    560\u001b[0m ):\n\u001b[0;32m    561\u001b[0m \u001b[38;5;250m    \u001b[39m\u001b[38;5;124;03m\"\"\"Helper for bucket / blob methods making API 'POST' calls.\u001b[39;00m\n\u001b[0;32m    562\u001b[0m \n\u001b[0;32m    563\u001b[0m \u001b[38;5;124;03m    Args:\u001b[39;00m\n\u001b[1;32m   (...)\u001b[0m\n\u001b[0;32m    609\u001b[0m \u001b[38;5;124;03m            If the bucket is not found.\u001b[39;00m\n\u001b[0;32m    610\u001b[0m \u001b[38;5;124;03m    \"\"\"\u001b[39;00m\n\u001b[1;32m--> 612\u001b[0m     \u001b[38;5;28;01mreturn\u001b[39;00m \u001b[38;5;28;43mself\u001b[39;49m\u001b[38;5;241;43m.\u001b[39;49m\u001b[43m_connection\u001b[49m\u001b[38;5;241;43m.\u001b[39;49m\u001b[43mapi_request\u001b[49m\u001b[43m(\u001b[49m\n\u001b[0;32m    613\u001b[0m \u001b[43m        \u001b[49m\u001b[43mmethod\u001b[49m\u001b[38;5;241;43m=\u001b[39;49m\u001b[38;5;124;43m\"\u001b[39;49m\u001b[38;5;124;43mPOST\u001b[39;49m\u001b[38;5;124;43m\"\u001b[39;49m\u001b[43m,\u001b[49m\n\u001b[0;32m    614\u001b[0m \u001b[43m        \u001b[49m\u001b[43mpath\u001b[49m\u001b[38;5;241;43m=\u001b[39;49m\u001b[43mpath\u001b[49m\u001b[43m,\u001b[49m\n\u001b[0;32m    615\u001b[0m \u001b[43m        \u001b[49m\u001b[43mdata\u001b[49m\u001b[38;5;241;43m=\u001b[39;49m\u001b[43mdata\u001b[49m\u001b[43m,\u001b[49m\n\u001b[0;32m    616\u001b[0m \u001b[43m        \u001b[49m\u001b[43mquery_params\u001b[49m\u001b[38;5;241;43m=\u001b[39;49m\u001b[43mquery_params\u001b[49m\u001b[43m,\u001b[49m\n\u001b[0;32m    617\u001b[0m \u001b[43m        \u001b[49m\u001b[43mheaders\u001b[49m\u001b[38;5;241;43m=\u001b[39;49m\u001b[43mheaders\u001b[49m\u001b[43m,\u001b[49m\n\u001b[0;32m    618\u001b[0m \u001b[43m        \u001b[49m\u001b[43mtimeout\u001b[49m\u001b[38;5;241;43m=\u001b[39;49m\u001b[43mtimeout\u001b[49m\u001b[43m,\u001b[49m\n\u001b[0;32m    619\u001b[0m \u001b[43m        \u001b[49m\u001b[43mretry\u001b[49m\u001b[38;5;241;43m=\u001b[39;49m\u001b[43mretry\u001b[49m\u001b[43m,\u001b[49m\n\u001b[0;32m    620\u001b[0m \u001b[43m        \u001b[49m\u001b[43m_target_object\u001b[49m\u001b[38;5;241;43m=\u001b[39;49m\u001b[43m_target_object\u001b[49m\u001b[43m,\u001b[49m\n\u001b[0;32m    621\u001b[0m \u001b[43m    \u001b[49m\u001b[43m)\u001b[49m\n",
      "File \u001b[1;32mc:\\sw\\py310nb_env\\Lib\\site-packages\\google\\cloud\\storage\\_http.py:72\u001b[0m, in \u001b[0;36mConnection.api_request\u001b[1;34m(self, *args, **kwargs)\u001b[0m\n\u001b[0;32m     70\u001b[0m     \u001b[38;5;28;01mif\u001b[39;00m retry:\n\u001b[0;32m     71\u001b[0m         call \u001b[38;5;241m=\u001b[39m retry(call)\n\u001b[1;32m---> 72\u001b[0m \u001b[38;5;28;01mreturn\u001b[39;00m \u001b[43mcall\u001b[49m\u001b[43m(\u001b[49m\u001b[43m)\u001b[49m\n",
      "File \u001b[1;32mc:\\sw\\py310nb_env\\Lib\\site-packages\\google\\cloud\\_http\\__init__.py:494\u001b[0m, in \u001b[0;36mJSONConnection.api_request\u001b[1;34m(self, method, path, query_params, data, content_type, headers, api_base_url, api_version, expect_json, _target_object, timeout, extra_api_info)\u001b[0m\n\u001b[0;32m    482\u001b[0m response \u001b[38;5;241m=\u001b[39m \u001b[38;5;28mself\u001b[39m\u001b[38;5;241m.\u001b[39m_make_request(\n\u001b[0;32m    483\u001b[0m     method\u001b[38;5;241m=\u001b[39mmethod,\n\u001b[0;32m    484\u001b[0m     url\u001b[38;5;241m=\u001b[39murl,\n\u001b[1;32m   (...)\u001b[0m\n\u001b[0;32m    490\u001b[0m     extra_api_info\u001b[38;5;241m=\u001b[39mextra_api_info,\n\u001b[0;32m    491\u001b[0m )\n\u001b[0;32m    493\u001b[0m \u001b[38;5;28;01mif\u001b[39;00m \u001b[38;5;129;01mnot\u001b[39;00m \u001b[38;5;241m200\u001b[39m \u001b[38;5;241m<\u001b[39m\u001b[38;5;241m=\u001b[39m response\u001b[38;5;241m.\u001b[39mstatus_code \u001b[38;5;241m<\u001b[39m \u001b[38;5;241m300\u001b[39m:\n\u001b[1;32m--> 494\u001b[0m     \u001b[38;5;28;01mraise\u001b[39;00m exceptions\u001b[38;5;241m.\u001b[39mfrom_http_response(response)\n\u001b[0;32m    496\u001b[0m \u001b[38;5;28;01mif\u001b[39;00m expect_json \u001b[38;5;129;01mand\u001b[39;00m response\u001b[38;5;241m.\u001b[39mcontent:\n\u001b[0;32m    497\u001b[0m     \u001b[38;5;28;01mreturn\u001b[39;00m response\u001b[38;5;241m.\u001b[39mjson()\n",
      "\u001b[1;31mNotFound\u001b[0m: 404 POST https://storage.googleapis.com/storage/v1/b/run-pix.appspot.com/o/thumbs%2F2023-02-12T01%3A25%3A41.084Z%5Evenue%5Eavinashmane%24gmail.com%5E20230212_065538.jpg%2F2023-02-12T01%3A25%3A41.084Z%5Evenue%5Eavinashmane%24gmail.com%5E20230212_065538.jpg/copyTo/b/run-pix.appspot.com/o/thumbs%2Fmychoice23feb%2F2023-02-12T01%3A25%3A41.084Z%5Evenue%5Eavinashmane%24gmail.com%5E20230212_065538.jpg?prettyPrint=false: No such object: run-pix.appspot.com/thumbs/2023-02-12T01:25:41.084Z^venue^avinashmane$gmail.com^20230212_065538.jpg/2023-02-12T01:25:41.084Z^venue^avinashmane$gmail.com^20230212_065538.jpg"
     ]
    }
   ],
   "source": [
    "# def newname(x):\n",
    "#     arr=x.split('/')\n",
    "#     arr[]\n",
    "# gs://run-pix.appspot.com/thumbs/2023-02-12T01:25:41.084Z^venue^avinashmane$gmail.com^20230212_065538.jpg/2023-02-12T01:25:41.084Z^venue^avinashmane$gmail.com^20230212_065538.jpg\n",
    "for i,b in enumerate(blobs):\n",
    "    if 'thumbs/2023' in b.name :#and b.content_type=='image/jpeg':        \n",
    "        newName=\"thumbs/mychoice23feb/\"+b.name.split('/')[-1]\n",
    "        print(i,b.name,newName)\n",
    "        bucket.copy_blob(b,bucket,newName)"
   ]
  },
  {
   "cell_type": "code",
   "execution_count": 70,
   "id": "bafc40d3-4e1f-4602-b87e-23bcbb9b431e",
   "metadata": {
    "collapsed": true,
    "jupyter": {
     "outputs_hidden": true
    },
    "tags": []
   },
   "outputs": [
    {
     "data": {
      "text/plain": [
       "\u001b[1;31mSignature:\u001b[0m\n",
       "\u001b[0mblobs\u001b[0m\u001b[1;33m[\u001b[0m\u001b[1;36m72\u001b[0m\u001b[1;33m]\u001b[0m\u001b[1;33m.\u001b[0m\u001b[0mrewrite\u001b[0m\u001b[1;33m(\u001b[0m\u001b[1;33m\n",
       "\u001b[0m    \u001b[0msource\u001b[0m\u001b[1;33m,\u001b[0m\u001b[1;33m\n",
       "\u001b[0m    \u001b[0mtoken\u001b[0m\u001b[1;33m=\u001b[0m\u001b[1;32mNone\u001b[0m\u001b[1;33m,\u001b[0m\u001b[1;33m\n",
       "\u001b[0m    \u001b[0mclient\u001b[0m\u001b[1;33m=\u001b[0m\u001b[1;32mNone\u001b[0m\u001b[1;33m,\u001b[0m\u001b[1;33m\n",
       "\u001b[0m    \u001b[0mif_generation_match\u001b[0m\u001b[1;33m=\u001b[0m\u001b[1;32mNone\u001b[0m\u001b[1;33m,\u001b[0m\u001b[1;33m\n",
       "\u001b[0m    \u001b[0mif_generation_not_match\u001b[0m\u001b[1;33m=\u001b[0m\u001b[1;32mNone\u001b[0m\u001b[1;33m,\u001b[0m\u001b[1;33m\n",
       "\u001b[0m    \u001b[0mif_metageneration_match\u001b[0m\u001b[1;33m=\u001b[0m\u001b[1;32mNone\u001b[0m\u001b[1;33m,\u001b[0m\u001b[1;33m\n",
       "\u001b[0m    \u001b[0mif_metageneration_not_match\u001b[0m\u001b[1;33m=\u001b[0m\u001b[1;32mNone\u001b[0m\u001b[1;33m,\u001b[0m\u001b[1;33m\n",
       "\u001b[0m    \u001b[0mif_source_generation_match\u001b[0m\u001b[1;33m=\u001b[0m\u001b[1;32mNone\u001b[0m\u001b[1;33m,\u001b[0m\u001b[1;33m\n",
       "\u001b[0m    \u001b[0mif_source_generation_not_match\u001b[0m\u001b[1;33m=\u001b[0m\u001b[1;32mNone\u001b[0m\u001b[1;33m,\u001b[0m\u001b[1;33m\n",
       "\u001b[0m    \u001b[0mif_source_metageneration_match\u001b[0m\u001b[1;33m=\u001b[0m\u001b[1;32mNone\u001b[0m\u001b[1;33m,\u001b[0m\u001b[1;33m\n",
       "\u001b[0m    \u001b[0mif_source_metageneration_not_match\u001b[0m\u001b[1;33m=\u001b[0m\u001b[1;32mNone\u001b[0m\u001b[1;33m,\u001b[0m\u001b[1;33m\n",
       "\u001b[0m    \u001b[0mtimeout\u001b[0m\u001b[1;33m=\u001b[0m\u001b[1;36m60\u001b[0m\u001b[1;33m,\u001b[0m\u001b[1;33m\n",
       "\u001b[0m    \u001b[0mretry\u001b[0m\u001b[1;33m=\u001b[0m\u001b[1;33m<\u001b[0m\u001b[0mgoogle\u001b[0m\u001b[1;33m.\u001b[0m\u001b[0mcloud\u001b[0m\u001b[1;33m.\u001b[0m\u001b[0mstorage\u001b[0m\u001b[1;33m.\u001b[0m\u001b[0mretry\u001b[0m\u001b[1;33m.\u001b[0m\u001b[0mConditionalRetryPolicy\u001b[0m \u001b[0mobject\u001b[0m \u001b[0mat\u001b[0m \u001b[1;36m0x0000026031EF2F50\u001b[0m\u001b[1;33m>\u001b[0m\u001b[1;33m,\u001b[0m\u001b[1;33m\n",
       "\u001b[0m\u001b[1;33m)\u001b[0m\u001b[1;33m\u001b[0m\u001b[1;33m\u001b[0m\u001b[0m\n",
       "\u001b[1;31mDocstring:\u001b[0m\n",
       "Rewrite source blob into this one.\n",
       "\n",
       "If :attr:`user_project` is set on the bucket, bills the API request\n",
       "to that project.\n",
       "\n",
       ":type source: :class:`Blob`\n",
       ":param source: blob whose contents will be rewritten into this blob.\n",
       "\n",
       ":type token: str\n",
       ":param token:\n",
       "    (Optional) Token returned from an earlier, not-completed call to\n",
       "    rewrite the same source blob.  If passed, result will include\n",
       "    updated status, total bytes written.\n",
       "\n",
       ":type client: :class:`~google.cloud.storage.client.Client`\n",
       ":param client:\n",
       "    (Optional) The client to use.  If not passed, falls back to the\n",
       "    ``client`` stored on the blob's bucket.\n",
       "\n",
       ":type if_generation_match: long\n",
       ":param if_generation_match:\n",
       "    (Optional) See :ref:`using-if-generation-match`\n",
       "    Note that the generation to be matched is that of the\n",
       "    ``destination`` blob.\n",
       "\n",
       ":type if_generation_not_match: long\n",
       ":param if_generation_not_match:\n",
       "    (Optional) See :ref:`using-if-generation-not-match`\n",
       "    Note that the generation to be matched is that of the\n",
       "    ``destination`` blob.\n",
       "\n",
       ":type if_metageneration_match: long\n",
       ":param if_metageneration_match:\n",
       "    (Optional) See :ref:`using-if-metageneration-match`\n",
       "    Note that the metageneration to be matched is that of the\n",
       "    ``destination`` blob.\n",
       "\n",
       ":type if_metageneration_not_match: long\n",
       ":param if_metageneration_not_match:\n",
       "    (Optional) See :ref:`using-if-metageneration-not-match`\n",
       "    Note that the metageneration to be matched is that of the\n",
       "    ``destination`` blob.\n",
       "\n",
       ":type if_source_generation_match: long\n",
       ":param if_source_generation_match:\n",
       "    (Optional) Makes the operation conditional on whether the source\n",
       "    object's generation matches the given value.\n",
       "\n",
       ":type if_source_generation_not_match: long\n",
       ":param if_source_generation_not_match:\n",
       "    (Optional) Makes the operation conditional on whether the source\n",
       "    object's generation does not match the given value.\n",
       "\n",
       ":type if_source_metageneration_match: long\n",
       ":param if_source_metageneration_match:\n",
       "    (Optional) Makes the operation conditional on whether the source\n",
       "    object's current metageneration matches the given value.\n",
       "\n",
       ":type if_source_metageneration_not_match: long\n",
       ":param if_source_metageneration_not_match:\n",
       "    (Optional) Makes the operation conditional on whether the source\n",
       "    object's current metageneration does not match the given value.\n",
       "\n",
       ":type timeout: float or tuple\n",
       ":param timeout:\n",
       "    (Optional) The amount of time, in seconds, to wait\n",
       "    for the server response.  See: :ref:`configuring_timeouts`\n",
       "\n",
       ":type retry: google.api_core.retry.Retry or google.cloud.storage.retry.ConditionalRetryPolicy\n",
       ":param retry:\n",
       "    (Optional) How to retry the RPC. See: :ref:`configuring_retries`\n",
       "\n",
       ":rtype: tuple\n",
       ":returns: ``(token, bytes_rewritten, total_bytes)``, where ``token``\n",
       "          is a rewrite token (``None`` if the rewrite is complete),\n",
       "          ``bytes_rewritten`` is the number of bytes rewritten so far,\n",
       "          and ``total_bytes`` is the total number of bytes to be\n",
       "          rewritten.\n",
       "\u001b[1;31mFile:\u001b[0m      c:\\sw\\py310nb_env\\lib\\site-packages\\google\\cloud\\storage\\blob.py\n",
       "\u001b[1;31mType:\u001b[0m      method"
      ]
     },
     "metadata": {},
     "output_type": "display_data"
    }
   ],
   "source": [
    "\n",
    "\".generate_signed_url() needs date\"\n",
    "new_id=\"run-pix.appspot.com/thumbs/mychoice23feb/2023-02-12T01:25:41.084Z^venue^avinashmane$gmail.com^20230212_065538.jpg/1678882880166980\"\n",
    "blobs[72].content_type"
   ]
  },
  {
   "cell_type": "code",
   "execution_count": 71,
   "id": "2c6b7e66-fb2c-46b1-b48d-ab1a4b39c9ac",
   "metadata": {},
   "outputs": [
    {
     "data": {
      "text/plain": [
       "\u001b[1;31mSignature:\u001b[0m\n",
       "\u001b[0mgcs\u001b[0m\u001b[1;33m.\u001b[0m\u001b[0mcopy_blob\u001b[0m\u001b[1;33m(\u001b[0m\u001b[1;33m\n",
       "\u001b[0m    \u001b[0mblob\u001b[0m\u001b[1;33m,\u001b[0m\u001b[1;33m\n",
       "\u001b[0m    \u001b[0mdestination_bucket\u001b[0m\u001b[1;33m,\u001b[0m\u001b[1;33m\n",
       "\u001b[0m    \u001b[0mnew_name\u001b[0m\u001b[1;33m=\u001b[0m\u001b[1;32mNone\u001b[0m\u001b[1;33m,\u001b[0m\u001b[1;33m\n",
       "\u001b[0m    \u001b[0mclient\u001b[0m\u001b[1;33m=\u001b[0m\u001b[1;32mNone\u001b[0m\u001b[1;33m,\u001b[0m\u001b[1;33m\n",
       "\u001b[0m    \u001b[0mpreserve_acl\u001b[0m\u001b[1;33m=\u001b[0m\u001b[1;32mTrue\u001b[0m\u001b[1;33m,\u001b[0m\u001b[1;33m\n",
       "\u001b[0m    \u001b[0msource_generation\u001b[0m\u001b[1;33m=\u001b[0m\u001b[1;32mNone\u001b[0m\u001b[1;33m,\u001b[0m\u001b[1;33m\n",
       "\u001b[0m    \u001b[0mif_generation_match\u001b[0m\u001b[1;33m=\u001b[0m\u001b[1;32mNone\u001b[0m\u001b[1;33m,\u001b[0m\u001b[1;33m\n",
       "\u001b[0m    \u001b[0mif_generation_not_match\u001b[0m\u001b[1;33m=\u001b[0m\u001b[1;32mNone\u001b[0m\u001b[1;33m,\u001b[0m\u001b[1;33m\n",
       "\u001b[0m    \u001b[0mif_metageneration_match\u001b[0m\u001b[1;33m=\u001b[0m\u001b[1;32mNone\u001b[0m\u001b[1;33m,\u001b[0m\u001b[1;33m\n",
       "\u001b[0m    \u001b[0mif_metageneration_not_match\u001b[0m\u001b[1;33m=\u001b[0m\u001b[1;32mNone\u001b[0m\u001b[1;33m,\u001b[0m\u001b[1;33m\n",
       "\u001b[0m    \u001b[0mif_source_generation_match\u001b[0m\u001b[1;33m=\u001b[0m\u001b[1;32mNone\u001b[0m\u001b[1;33m,\u001b[0m\u001b[1;33m\n",
       "\u001b[0m    \u001b[0mif_source_generation_not_match\u001b[0m\u001b[1;33m=\u001b[0m\u001b[1;32mNone\u001b[0m\u001b[1;33m,\u001b[0m\u001b[1;33m\n",
       "\u001b[0m    \u001b[0mif_source_metageneration_match\u001b[0m\u001b[1;33m=\u001b[0m\u001b[1;32mNone\u001b[0m\u001b[1;33m,\u001b[0m\u001b[1;33m\n",
       "\u001b[0m    \u001b[0mif_source_metageneration_not_match\u001b[0m\u001b[1;33m=\u001b[0m\u001b[1;32mNone\u001b[0m\u001b[1;33m,\u001b[0m\u001b[1;33m\n",
       "\u001b[0m    \u001b[0mtimeout\u001b[0m\u001b[1;33m=\u001b[0m\u001b[1;36m60\u001b[0m\u001b[1;33m,\u001b[0m\u001b[1;33m\n",
       "\u001b[0m    \u001b[0mretry\u001b[0m\u001b[1;33m=\u001b[0m\u001b[1;33m<\u001b[0m\u001b[0mgoogle\u001b[0m\u001b[1;33m.\u001b[0m\u001b[0mcloud\u001b[0m\u001b[1;33m.\u001b[0m\u001b[0mstorage\u001b[0m\u001b[1;33m.\u001b[0m\u001b[0mretry\u001b[0m\u001b[1;33m.\u001b[0m\u001b[0mConditionalRetryPolicy\u001b[0m \u001b[0mobject\u001b[0m \u001b[0mat\u001b[0m \u001b[1;36m0x0000026031EF2F50\u001b[0m\u001b[1;33m>\u001b[0m\u001b[1;33m,\u001b[0m\u001b[1;33m\n",
       "\u001b[0m\u001b[1;33m)\u001b[0m\u001b[1;33m\u001b[0m\u001b[1;33m\u001b[0m\u001b[0m\n",
       "\u001b[1;31mDocstring:\u001b[0m\n",
       "Copy the given blob to the given bucket, optionally with a new name.\n",
       "\n",
       "If :attr:`user_project` is set, bills the API request to that project.\n",
       "\n",
       "See [API reference docs](https://cloud.google.com/storage/docs/json_api/v1/objects/copy)\n",
       "and a [code sample](https://cloud.google.com/storage/docs/samples/storage-copy-file#storage_copy_file-python).\n",
       "\n",
       ":type blob: :class:`google.cloud.storage.blob.Blob`\n",
       ":param blob: The blob to be copied.\n",
       "\n",
       ":type destination_bucket: :class:`google.cloud.storage.bucket.Bucket`\n",
       ":param destination_bucket: The bucket into which the blob should be\n",
       "                           copied.\n",
       "\n",
       ":type new_name: str\n",
       ":param new_name: (Optional) The new name for the copied file.\n",
       "\n",
       ":type client: :class:`~google.cloud.storage.client.Client` or\n",
       "              ``NoneType``\n",
       ":param client: (Optional) The client to use. If not passed, falls back\n",
       "               to the ``client`` stored on the current bucket.\n",
       "\n",
       ":type preserve_acl: bool\n",
       ":param preserve_acl: DEPRECATED. This argument is not functional!\n",
       "                     (Optional) Copies ACL from old blob to new blob.\n",
       "                     Default: True.\n",
       "\n",
       ":type source_generation: long\n",
       ":param source_generation: (Optional) The generation of the blob to be\n",
       "                          copied.\n",
       "\n",
       ":type if_generation_match: long\n",
       ":param if_generation_match:\n",
       "    (Optional) See :ref:`using-if-generation-match`\n",
       "    Note that the generation to be matched is that of the\n",
       "    ``destination`` blob.\n",
       "\n",
       ":type if_generation_not_match: long\n",
       ":param if_generation_not_match:\n",
       "    (Optional) See :ref:`using-if-generation-not-match`\n",
       "    Note that the generation to be matched is that of the\n",
       "    ``destination`` blob.\n",
       "\n",
       ":type if_metageneration_match: long\n",
       ":param if_metageneration_match:\n",
       "    (Optional) See :ref:`using-if-metageneration-match`\n",
       "    Note that the metageneration to be matched is that of the\n",
       "    ``destination`` blob.\n",
       "\n",
       ":type if_metageneration_not_match: long\n",
       ":param if_metageneration_not_match:\n",
       "    (Optional) See :ref:`using-if-metageneration-not-match`\n",
       "    Note that the metageneration to be matched is that of the\n",
       "    ``destination`` blob.\n",
       "\n",
       ":type if_source_generation_match: long\n",
       ":param if_source_generation_match:\n",
       "    (Optional) Makes the operation conditional on whether the source\n",
       "    object's generation matches the given value.\n",
       "\n",
       ":type if_source_generation_not_match: long\n",
       ":param if_source_generation_not_match:\n",
       "    (Optional) Makes the operation conditional on whether the source\n",
       "    object's generation does not match the given value.\n",
       "\n",
       ":type if_source_metageneration_match: long\n",
       ":param if_source_metageneration_match:\n",
       "    (Optional) Makes the operation conditional on whether the source\n",
       "    object's current metageneration matches the given value.\n",
       "\n",
       ":type if_source_metageneration_not_match: long\n",
       ":param if_source_metageneration_not_match:\n",
       "    (Optional) Makes the operation conditional on whether the source\n",
       "    object's current metageneration does not match the given value.\n",
       "\n",
       ":type timeout: float or tuple\n",
       ":param timeout:\n",
       "    (Optional) The amount of time, in seconds, to wait\n",
       "    for the server response.  See: :ref:`configuring_timeouts`\n",
       "\n",
       ":type retry: google.api_core.retry.Retry or google.cloud.storage.retry.ConditionalRetryPolicy\n",
       ":param retry:\n",
       "    (Optional) How to retry the RPC. See: :ref:`configuring_retries`\n",
       "\n",
       ":rtype: :class:`google.cloud.storage.blob.Blob`\n",
       ":returns: The new Blob.\n",
       "\u001b[1;31mFile:\u001b[0m      c:\\sw\\py310nb_env\\lib\\site-packages\\google\\cloud\\storage\\bucket.py\n",
       "\u001b[1;31mType:\u001b[0m      method"
      ]
     },
     "metadata": {},
     "output_type": "display_data"
    }
   ],
   "source": [
    "bucket.copy_blob()"
   ]
  },
  {
   "cell_type": "markdown",
   "id": "dc551f4e-560e-49bd-81b3-a2844416ecd3",
   "metadata": {},
   "source": [
    "# Bulk Bib Upload\n",
    "\n",
    "Data copied from clipboard from Excel:\n",
    "\n",
    "Columns copied are (case sensitive)\n",
    "* Bib\n",
    "* Name\n",
    "* Status\n",
    "* Race"
   ]
  },
  {
   "cell_type": "code",
   "execution_count": 85,
   "id": "952a3a1e-21ab-4179-8e2e-900d418d8ee8",
   "metadata": {},
   "outputs": [],
   "source": [
    "raceId = 'werun2023'\n",
    "bibs=runpix.fstore.collection(f'races/{raceId}/bibs')"
   ]
  },
  {
   "cell_type": "code",
   "execution_count": 72,
   "id": "0fa99309-11df-4969-aec5-88eef7c657d1",
   "metadata": {},
   "outputs": [
    {
     "data": {
      "text/plain": [
       "{'bibPattern': '\\\\d{4}',\n",
       " 'Date': '2023-03-05',\n",
       " 'Location': 'Nigadi Pradhikaram',\n",
       " 'Name': 'We Run 2023 (4th Edition)',\n",
       " 'Waypoints': ['venue', 'route']}"
      ]
     },
     "execution_count": 72,
     "metadata": {},
     "output_type": "execute_result"
    }
   ],
   "source": [
    "\"Check Race details\"\n",
    "def dictUtf(mydict): \n",
    "    return {k: str(v).encode(\"utf-8\") for k,v in mydict.items()}\n",
    "\n",
    "races.document(raceId).get().to_dict()"
   ]
  },
  {
   "cell_type": "markdown",
   "id": "bfe6e198-d889-4da4-8881-2ebaf7687033",
   "metadata": {},
   "source": [
    "##  Copy the data\n",
    "Data copied from clipboard from Excel:\n",
    "\n",
    "Columns copied are (case sensitive)\n",
    "* Bib\n",
    "* Name\n",
    "* Status\n",
    "* Race"
   ]
  },
  {
   "cell_type": "code",
   "execution_count": 60,
   "id": "8fce4984-bc9c-4d3a-8f9c-67b3e910834a",
   "metadata": {},
   "outputs": [
    {
     "data": {
      "text/plain": [
       "'columns in clipboard:'"
      ]
     },
     "metadata": {},
     "output_type": "display_data"
    },
    {
     "data": {
      "text/plain": [
       "Index(['Bib', 'Name', 'Attendee Email', 'Status', 'Race'], dtype='object')"
      ]
     },
     "metadata": {},
     "output_type": "display_data"
    },
    {
     "data": {
      "text/plain": [
       "'columns found '"
      ]
     },
     "metadata": {},
     "output_type": "display_data"
    },
    {
     "data": {
      "text/plain": [
       "['Bib', 'Name', 'Status', 'Race']"
      ]
     },
     "metadata": {},
     "output_type": "display_data"
    }
   ],
   "source": [
    "df_startlist=pd.read_clipboard()\n",
    "display(\"columns in clipboard:\",df_startlist.columns)\n",
    "_required_columns='Bib\tName\tStatus\tRace'.split('\\t')\n",
    "_found_columns = [_x for _x in _required_columns if  _x in df_startlist.columns]\n",
    "display(\"columns found \",_found_columns)\n",
    "if len(_found_columns)<len(_required_columns): print(\"PLEASE WAIT \"+('X'*10+' ')*3)\n"
   ]
  },
  {
   "cell_type": "code",
   "execution_count": 62,
   "id": "e4cd48b5-a733-40c8-8c7e-c6f4de0ab3b5",
   "metadata": {},
   "outputs": [],
   "source": [
    "df_startlist=df_startlist[_required_columns]"
   ]
  },
  {
   "cell_type": "code",
   "execution_count": 98,
   "id": "eb825a9c-03ee-4087-a5d9-d684d4a2146e",
   "metadata": {},
   "outputs": [],
   "source": [
    "\"code\"\n",
    "bibtoDict=lambda x: x.to_dict()\n",
    "bibtoDict(df_startlist.loc[0,:])  # test\n",
    "\n",
    "def saveBibtoRace(bibData,bibsCollection):\n",
    "    _bibData=bibtoDict(bibData)\n",
    "    _bibData['Bib']=str(_bibData['Bib'])\n",
    "    bibsCollection.document(_bibData['Bib']\n",
    "                           ).set(_bibData)\n",
    "saveBibtoRace(df_startlist.loc[0,:],bibsCollection=bibs,)  # test    \n",
    "# df_startlist.apply(, axis=1)\n"
   ]
  },
  {
   "cell_type": "code",
   "execution_count": 99,
   "id": "28fff8d2-84ca-4cb1-9df9-d1525cd9746c",
   "metadata": {},
   "outputs": [
    {
     "data": {
      "text/plain": [
       "0       None\n",
       "1       None\n",
       "2       None\n",
       "3       None\n",
       "4       None\n",
       "        ... \n",
       "1030    None\n",
       "1031    None\n",
       "1032    None\n",
       "1033    None\n",
       "1034    None\n",
       "Length: 1035, dtype: object"
      ]
     },
     "execution_count": 99,
     "metadata": {},
     "output_type": "execute_result"
    }
   ],
   "source": [
    "\" upload all bibs\"\n",
    "# df_startlist.apply(bibtoDict, axis=1)  #test\n",
    "df_startlist.apply(lambda x: saveBibtoRace(x,bibs), axis=1) "
   ]
  },
  {
   "cell_type": "code",
   "execution_count": 100,
   "id": "9360d7cd-4c41-482f-be26-ea70e4cd9c4b",
   "metadata": {},
   "outputs": [
    {
     "data": {
      "text/plain": [
       "<google.cloud.firestore_v1.aggregation.AggregationQuery at 0x2496074c610>"
      ]
     },
     "execution_count": 100,
     "metadata": {},
     "output_type": "execute_result"
    }
   ],
   "source": [
    "bibs.count()"
   ]
  },
  {
   "cell_type": "code",
   "execution_count": 241,
   "id": "b26ffe5b-931e-4075-b29c-32ae3e3b8711",
   "metadata": {},
   "outputs": [
    {
     "data": {
      "text/plain": [
       "1035"
      ]
     },
     "execution_count": 241,
     "metadata": {},
     "output_type": "execute_result"
    }
   ],
   "source": [
    "len(list( bibs.list_documents()))\n",
    "   "
   ]
  },
  {
   "cell_type": "markdown",
   "id": "532e11ad-d567-4aa3-815b-0766e58295dd",
   "metadata": {},
   "source": [
    "# Update images to bibs \n",
    "\n",
    "Add list of images to the bibs"
   ]
  },
  {
   "cell_type": "code",
   "execution_count": null,
   "id": "e9060db4-fdca-4038-b291-d36230f899e6",
   "metadata": {},
   "outputs": [],
   "source": []
  },
  {
   "cell_type": "markdown",
   "id": "0573b8f3-65c7-4475-9dbc-617c50769bbd",
   "metadata": {},
   "source": [
    "# Bulk Uploadlist_documents"
   ]
  },
  {
   "cell_type": "code",
   "execution_count": 219,
   "id": "18984692-3260-47f4-b17a-2adc0935a3d9",
   "metadata": {},
   "outputs": [
    {
     "data": {
      "text/plain": [
       "{'uploads': {'werun2023': {'path': 'D:\\\\We Run 2023\\\\JPEG',\n",
       "   'fileRange': ['', 'XX'],\n",
       "   'waypoint': 'venue',\n",
       "   'userid': 'vaibhav'}}}"
      ]
     },
     "execution_count": 219,
     "metadata": {},
     "output_type": "execute_result"
    }
   ],
   "source": [
    "import yaml\n",
    "import os\n",
    "cfg={}\n",
    "cfg.update(yaml.safe_load(\"\"\"\n",
    "uploads:\n",
    "    werun2023:\n",
    "        path: D:\\We Run 2023\\JPEG\n",
    "        #path: D:\\We Run 2023\\Vaibhav\\JPEG\n",
    "        fileRange: [\"\",\"XX\"]\n",
    "        waypoint: venue\n",
    "        userid: vaibhav\n",
    "\"\"\"))\n",
    "cfg"
   ]
  },
  {
   "cell_type": "code",
   "execution_count": 220,
   "id": "2ba0341a-6080-4fc8-8016-0e3a290c206b",
   "metadata": {},
   "outputs": [],
   "source": [
    "\"check reading file\"\n",
    "from IPython.display import Image\n",
    "# Image(filename=r\"D:\\We Run 2023\\Vaibhav\\JPEG\\S_G01782.jpg\") "
   ]
  },
  {
   "cell_type": "code",
   "execution_count": 242,
   "id": "34f06a99-6c49-484f-a4ac-5402ceac4717",
   "metadata": {
    "tags": []
   },
   "outputs": [],
   "source": [
    "# !gsutil"
   ]
  },
  {
   "cell_type": "code",
   "execution_count": 222,
   "id": "14d085bc-c369-4942-8611-96378c4f9a8b",
   "metadata": {},
   "outputs": [
    {
     "data": {
      "text/html": [
       "<div>\n",
       "<style scoped>\n",
       "    .dataframe tbody tr th:only-of-type {\n",
       "        vertical-align: middle;\n",
       "    }\n",
       "\n",
       "    .dataframe tbody tr th {\n",
       "        vertical-align: top;\n",
       "    }\n",
       "\n",
       "    .dataframe thead th {\n",
       "        text-align: right;\n",
       "    }\n",
       "</style>\n",
       "<table border=\"1\" class=\"dataframe\">\n",
       "  <thead>\n",
       "    <tr style=\"text-align: right;\">\n",
       "      <th></th>\n",
       "      <th>id</th>\n",
       "      <th>name</th>\n",
       "      <th>blob</th>\n",
       "    </tr>\n",
       "  </thead>\n",
       "  <tbody>\n",
       "    <tr>\n",
       "      <th>0</th>\n",
       "      <td>run-pix.appspot.com/processed//1675677894996648</td>\n",
       "      <td>processed/</td>\n",
       "      <td>&lt;Blob: run-pix.appspot.com, processed/, 167567...</td>\n",
       "    </tr>\n",
       "    <tr>\n",
       "      <th>1</th>\n",
       "      <td>run-pix.appspot.com/processed/default/2023-03-...</td>\n",
       "      <td>processed/default/2023-03-17T17:28:45.677Z~ven...</td>\n",
       "      <td>&lt;Blob: run-pix.appspot.com, processed/default/...</td>\n",
       "    </tr>\n",
       "  </tbody>\n",
       "</table>\n",
       "</div>"
      ],
      "text/plain": [
       "                                                  id  \\\n",
       "0    run-pix.appspot.com/processed//1675677894996648   \n",
       "1  run-pix.appspot.com/processed/default/2023-03-...   \n",
       "\n",
       "                                                name  \\\n",
       "0                                         processed/   \n",
       "1  processed/default/2023-03-17T17:28:45.677Z~ven...   \n",
       "\n",
       "                                                blob  \n",
       "0  <Blob: run-pix.appspot.com, processed/, 167567...  \n",
       "1  <Blob: run-pix.appspot.com, processed/default/...  "
      ]
     },
     "execution_count": 222,
     "metadata": {},
     "output_type": "execute_result"
    }
   ],
   "source": [
    "df_blob.head(2)"
   ]
  },
  {
   "cell_type": "code",
   "execution_count": 251,
   "id": "583c78d4-7c5c-4e9a-b62b-3fe4eb736e4c",
   "metadata": {},
   "outputs": [
    {
     "data": {
      "text/markdown": [
       "## rename blob"
      ],
      "text/plain": [
       "<IPython.core.display.Markdown object>"
      ]
     },
     "metadata": {},
     "output_type": "display_data"
    },
    {
     "ename": "TypeError",
     "evalue": "'NoneType' object is not callable",
     "output_type": "error",
     "traceback": [
      "\u001b[1;31m---------------------------------------------------------------------------\u001b[0m",
      "\u001b[1;31mTypeError\u001b[0m                                 Traceback (most recent call last)",
      "Cell \u001b[1;32mIn[251], line 13\u001b[0m\n\u001b[0;32m     11\u001b[0m \u001b[38;5;66;03m# renameBlob(bname) \u001b[39;00m\n\u001b[0;32m     12\u001b[0m \u001b[38;5;124m\"\u001b[39m\u001b[38;5;124muse 2\u001b[39m\u001b[38;5;124m\"\u001b[39m\n\u001b[1;32m---> 13\u001b[0m \u001b[43mbucket\u001b[49m\u001b[38;5;241;43m.\u001b[39;49m\u001b[43mblob\u001b[49m\u001b[43m(\u001b[49m\u001b[38;5;124;43m'\u001b[39;49m\u001b[38;5;124;43muploads/werun2023/2023-03-13T19:23:11.098916~general~vaibhav~_L3A2996.jpg\u001b[39;49m\u001b[38;5;124;43m'\u001b[39;49m\u001b[43m)\u001b[49m\u001b[38;5;241;43m.\u001b[39;49m\u001b[43mtime_created\u001b[49m\u001b[43m(\u001b[49m\u001b[43m)\u001b[49m\n",
      "\u001b[1;31mTypeError\u001b[0m: 'NoneType' object is not callable"
     ]
    }
   ],
   "source": [
    "\"\"\"\n",
    "    find object from gcs\n",
    "    \n",
    "\"\"\"\n",
    "display(Markdown(\"## rename blob\"))\n",
    "# bucket.blob('uploads/werun2023/_L3A3192.jpg').rewrite\n",
    "# blob.rewrite?\n",
    "bname='2023-03-13T19:23:14.739819~general~vaibhav~_L3A2997.jpg'\n",
    "def renameBlob(bname):\n",
    "    bucket.rename_blob(bucket.blob(bname),folder+bname)\n",
    "# renameBlob(bname) \n",
    "\"use 2\"\n",
    "bucket.blob('uploads/werun2023/2023-03-13T19:23:11.098916~general~vaibhav~_L3A2996.jpg').time_created"
   ]
  },
  {
   "cell_type": "code",
   "execution_count": 247,
   "id": "c8a2287b-d32e-4300-9f1f-5b0219732aa4",
   "metadata": {
    "tags": []
   },
   "outputs": [
    {
     "name": "stdout",
     "output_type": "stream",
     "text": [
      "raceId werun2023\n",
      "1 uploading D:\\We Run 2023\\JPEG\\_L3A2996.jpg to uploads/werun2023/2023-03-13T19:23:11.098916~general~vaibhav~_L3A2996.jpg\n",
      "2 uploading D:\\We Run 2023\\JPEG\\_L3A2997.jpg to uploads/werun2023/2023-03-13T19:23:14.739819~general~vaibhav~_L3A2997.jpg\n",
      "3 uploading D:\\We Run 2023\\JPEG\\_L3A2998.jpg to uploads/werun2023/2023-03-13T19:23:17.802551~general~vaibhav~_L3A2998.jpg\n",
      "4 uploading D:\\We Run 2023\\JPEG\\_L3A2999.jpg to uploads/werun2023/2023-03-13T19:23:21.443454~general~vaibhav~_L3A2999.jpg\n",
      "5 uploading D:\\We Run 2023\\JPEG\\_L3A3000.jpg to uploads/werun2023/2023-03-13T19:23:24.896841~general~vaibhav~_L3A3000.jpg\n",
      "6 uploading D:\\We Run 2023\\JPEG\\_L3A3002.jpg to uploads/werun2023/2023-03-13T19:23:28.772136~general~vaibhav~_L3A3002.jpg\n",
      "7 uploading D:\\We Run 2023\\JPEG\\_L3A3003.jpg to uploads/werun2023/2023-03-13T19:23:31.631728~general~vaibhav~_L3A3003.jpg\n"
     ]
    },
    {
     "ename": "KeyboardInterrupt",
     "evalue": "",
     "output_type": "error",
     "traceback": [
      "\u001b[1;31m---------------------------------------------------------------------------\u001b[0m",
      "\u001b[1;31mKeyboardInterrupt\u001b[0m                         Traceback (most recent call last)",
      "Cell \u001b[1;32mIn[247], line 34\u001b[0m\n\u001b[0;32m     32\u001b[0m     \u001b[38;5;28mprint\u001b[39m(i,name,new)\n\u001b[0;32m     33\u001b[0m \u001b[38;5;28;01melse\u001b[39;00m:\n\u001b[1;32m---> 34\u001b[0m     \u001b[43mblob\u001b[49m\u001b[38;5;241;43m.\u001b[39;49m\u001b[43mupload_from_filename\u001b[49m\u001b[43m(\u001b[49m\u001b[43mpath\u001b[49m\u001b[43m)\u001b[49m\n\u001b[0;32m     35\u001b[0m     \u001b[38;5;28mprint\u001b[39m(i,\u001b[38;5;124mf\u001b[39m\u001b[38;5;124m'\u001b[39m\u001b[38;5;124muploading \u001b[39m\u001b[38;5;132;01m{\u001b[39;00mpath\u001b[38;5;132;01m}\u001b[39;00m\u001b[38;5;124m to \u001b[39m\u001b[38;5;132;01m{\u001b[39;00mnew\u001b[38;5;132;01m}\u001b[39;00m\u001b[38;5;124m'\u001b[39m)\n\u001b[0;32m     37\u001b[0m \u001b[38;5;66;03m# if (i>20): raise  #stopper\u001b[39;00m\n",
      "File \u001b[1;32mc:\\sw\\py310nb_env\\Lib\\site-packages\\google\\cloud\\storage\\blob.py:2681\u001b[0m, in \u001b[0;36mBlob.upload_from_filename\u001b[1;34m(self, filename, content_type, num_retries, client, predefined_acl, if_generation_match, if_generation_not_match, if_metageneration_match, if_metageneration_not_match, timeout, checksum, retry)\u001b[0m\n\u001b[0;32m   2573\u001b[0m \u001b[38;5;250m\u001b[39m\u001b[38;5;124;03m\"\"\"Upload this blob's contents from the content of a named file.\u001b[39;00m\n\u001b[0;32m   2574\u001b[0m \n\u001b[0;32m   2575\u001b[0m \u001b[38;5;124;03mThe content type of the upload will be determined in order\u001b[39;00m\n\u001b[1;32m   (...)\u001b[0m\n\u001b[0;32m   2677\u001b[0m \u001b[38;5;124;03m    are respected.\u001b[39;00m\n\u001b[0;32m   2678\u001b[0m \u001b[38;5;124;03m\"\"\"\u001b[39;00m\n\u001b[0;32m   2679\u001b[0m content_type \u001b[38;5;241m=\u001b[39m \u001b[38;5;28mself\u001b[39m\u001b[38;5;241m.\u001b[39m_get_content_type(content_type, filename\u001b[38;5;241m=\u001b[39mfilename)\n\u001b[1;32m-> 2681\u001b[0m \u001b[38;5;28;01mwith\u001b[39;00m \u001b[38;5;28mopen\u001b[39m(filename, \u001b[38;5;124m\"\u001b[39m\u001b[38;5;124mrb\u001b[39m\u001b[38;5;124m\"\u001b[39m) \u001b[38;5;28;01mas\u001b[39;00m file_obj:\n\u001b[0;32m   2682\u001b[0m     total_bytes \u001b[38;5;241m=\u001b[39m os\u001b[38;5;241m.\u001b[39mfstat(file_obj\u001b[38;5;241m.\u001b[39mfileno())\u001b[38;5;241m.\u001b[39mst_size\n\u001b[0;32m   2683\u001b[0m     \u001b[38;5;28mself\u001b[39m\u001b[38;5;241m.\u001b[39mupload_from_file(\n\u001b[0;32m   2684\u001b[0m         file_obj,\n\u001b[0;32m   2685\u001b[0m         content_type\u001b[38;5;241m=\u001b[39mcontent_type,\n\u001b[1;32m   (...)\u001b[0m\n\u001b[0;32m   2696\u001b[0m         retry\u001b[38;5;241m=\u001b[39mretry,\n\u001b[0;32m   2697\u001b[0m     )\n",
      "\u001b[1;31mKeyboardInterrupt\u001b[0m: "
     ]
    }
   ],
   "source": [
    "\"\"\"\n",
    "Manually rename to retrigger the processing...\n",
    "- You can change waypoint from venue to general\n",
    "\"\"\"\n",
    "\"* Storage: /uploads/race/time~wpt~user~loc~file    # uploaded images\"\n",
    "import os\n",
    "from datetime import datetime\n",
    "i=0\n",
    "user='vaibhav'\n",
    "place='general'\n",
    "folder='uploads/werun2023/'\n",
    "def getFileName(file):\n",
    "    return file.split(\"\\\\\")[-1]\n",
    "def getFileIsoDate(file):\n",
    "    return datetime.fromtimestamp( os.path.getctime(file) ).isoformat()\n",
    "def getNewfileName(file,user=user,place=place):\n",
    "    return \"~\".join([getFileIsoDate(file),place,user,getFileName(file)])\n",
    "\n",
    "for lot in cfg['uploads'].keys():\n",
    "    print(\"raceId\",lot)\n",
    "    for root, dirs, files in os.walk(cfg['uploads'][lot]['path'], topdown=False):\n",
    "       for name in files:\n",
    "            i=i+1\n",
    "            path=os.path.join(root, name)\n",
    "            new=folder+getNewfileName(path)\n",
    "        \n",
    "            # blob=bucket.blob(folder+name) #used when renaming to diff filenames\n",
    "            blob=bucket.blob(folder+new)\n",
    "            \n",
    "            if blob.exists():\n",
    "                bucket.rename_blob(blob,new)\n",
    "                print(i,name,new)\n",
    "            else:\n",
    "                blob.upload_from_filename(path)\n",
    "                print(i,f'uploading {path} to {new}')\n",
    "                \n",
    "            # if (i>20): raise  #stopper\n",
    "       for name in dirs:\n",
    "          print(\">>>>>>\",os.path.join(root, name))"
   ]
  },
  {
   "cell_type": "code",
   "execution_count": 216,
   "id": "a0d4acd9-3ebd-4f58-8e78-5393b7ca5911",
   "metadata": {},
   "outputs": [
    {
     "data": {
      "text/html": [
       "<div>\n",
       "<style scoped>\n",
       "    .dataframe tbody tr th:only-of-type {\n",
       "        vertical-align: middle;\n",
       "    }\n",
       "\n",
       "    .dataframe tbody tr th {\n",
       "        vertical-align: top;\n",
       "    }\n",
       "\n",
       "    .dataframe thead th {\n",
       "        text-align: right;\n",
       "    }\n",
       "</style>\n",
       "<table border=\"1\" class=\"dataframe\">\n",
       "  <thead>\n",
       "    <tr style=\"text-align: right;\">\n",
       "      <th></th>\n",
       "      <th>id</th>\n",
       "      <th>name</th>\n",
       "      <th>blob</th>\n",
       "    </tr>\n",
       "  </thead>\n",
       "  <tbody>\n",
       "  </tbody>\n",
       "</table>\n",
       "</div>"
      ],
      "text/plain": [
       "Empty DataFrame\n",
       "Columns: [id, name, blob]\n",
       "Index: []"
      ]
     },
     "execution_count": 216,
     "metadata": {},
     "output_type": "execute_result"
    }
   ],
   "source": [
    "df_blob.query(\"name.str.contains('G017')\")"
   ]
  },
  {
   "cell_type": "markdown",
   "id": "19824f9e-ae30-4cd1-83ff-b792e8498f5d",
   "metadata": {},
   "source": [
    "# Other"
   ]
  },
  {
   "cell_type": "code",
   "execution_count": null,
   "id": "d8ebefde-47b9-426b-b414-560f43a0a075",
   "metadata": {},
   "outputs": [],
   "source": []
  }
 ],
 "metadata": {
  "interpreter": {
   "hash": "f26c6c3e6779aa43ee1c2715d332bcf59648a29de16f854ab6767dd41ea1d325"
  },
  "kernelspec": {
   "display_name": "Python 3 (ipykernel)",
   "language": "python",
   "name": "python3"
  },
  "language_info": {
   "codemirror_mode": {
    "name": "ipython",
    "version": 3
   },
   "file_extension": ".py",
   "mimetype": "text/x-python",
   "name": "python",
   "nbconvert_exporter": "python",
   "pygments_lexer": "ipython3",
   "version": "3.11.0"
  }
 },
 "nbformat": 4,
 "nbformat_minor": 5
}
