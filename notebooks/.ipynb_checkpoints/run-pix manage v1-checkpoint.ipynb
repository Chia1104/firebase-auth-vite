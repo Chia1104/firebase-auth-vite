{
 "cells": [
  {
   "cell_type": "markdown",
   "id": "85b70eb8-e3ee-4ee7-a2ce-0d1eb235c22f",
   "metadata": {},
   "source": [
    "# Base firestore\n",
    "\n",
    "* jump to relevant section after this"
   ]
  },
  {
   "cell_type": "code",
   "execution_count": 1,
   "id": "355dc0fe-05c0-4701-aeb4-3c58a3d9df5e",
   "metadata": {},
   "outputs": [],
   "source": [
    "import pandas as pd\n",
    "import firebase_admin\n",
    "from IPython import display\n",
    "from IPython.display import display, Markdown,Image\n",
    "\n",
    "from firebase_admin import firestore\n",
    "from firebase_admin import credentials\n",
    "\n",
    "class Firestore:\n",
    "    def __init__(self,service_account_file=\"C:/i/auth/run-pix-092258e3cb1b.json\"):\n",
    "        cred = credentials.Certificate(service_account_file)\n",
    "        try: self.app = firebase_admin.initialize_app(cred)\n",
    "        except: self.app = firebase_admin.get_app()\n",
    "        self.fstore=firestore.client()\n",
    "    \"delete all subnodes\"\n",
    "    def delete_all_docs(self,collection):\n",
    "        for n in collection.get():\n",
    "            print(n.__dict__)\n",
    "            n._reference.delete()\n",
    "    def collection(self):\n",
    "        return self.fstore\n",
    "   \n",
    "runpix=Firestore()\n",
    "from firebase_admin import storage\n",
    "bucket=firebase_admin.storage.bucket(name='run-pix.appspot.com', app=None) \n",
    "\n"
   ]
  },
  {
   "cell_type": "code",
   "execution_count": 2,
   "id": "0df2f906-98c0-4b0d-b5b8-b20190260770",
   "metadata": {},
   "outputs": [],
   "source": [
    "\"\"\"\n",
    "    os Dirctory\n",
    "\"\"\"\n",
    "import os\n",
    "from datetime import datetime\n",
    "\n",
    "def getFileName(file):\n",
    "    return file.split(\"\\\\\")[-1]\n",
    "def getFileIsoDate(file):\n",
    "    return datetime.fromtimestamp( os.path.getctime(file) ).isoformat()\n",
    "\n",
    "def dir2df(rootPath):\n",
    "    arr=[]\n",
    "    for root, dirs, files in os.walk(rootPath, topdown=False):\n",
    "        for name in files:\n",
    "            arr.append({'type':'file', \"root\":root, 'path':name})\n",
    "        for name in dirs:\n",
    "            arr.append({'type':'dir', \"root\":root, 'path':name})\n",
    "    return pd.DataFrame(arr)\n"
   ]
  },
  {
   "cell_type": "code",
   "execution_count": 3,
   "id": "9b6a998b-5ef8-48a7-bb7b-e49d76a1e496",
   "metadata": {},
   "outputs": [],
   "source": [
    "\"\"\"\n",
    "    firebase Storage\n",
    "\"\"\"\n",
    "blobs=[blob for blob in bucket.list_blobs()]\n",
    "df_blob=pd.DataFrame([{\"id\":b.id,\"name\":b.name,\"blob\":b} for b in blobs])\n"
   ]
  },
  {
   "cell_type": "code",
   "execution_count": 4,
   "id": "9656e383-7e99-4c1e-87c5-04a19cb6adea",
   "metadata": {},
   "outputs": [],
   "source": [
    "\"\"\"\n",
    "    firestore\n",
    "\"\"\"\n",
    "def _f(x): \n",
    "    _={\"id\":x.id,'ref':x}\n",
    "    try: _.update(x.get().to_dict())\n",
    "    except: pass\n",
    "    return _\n",
    "def fs2Df(collPath):\n",
    "    return pd.DataFrame([_f(_) for _ in runpix.fstore.collection(collPath).list_documents()])"
   ]
  },
  {
   "cell_type": "code",
   "execution_count": 5,
   "id": "cb11869a-2325-462e-8715-bf242f369f6d",
   "metadata": {},
   "outputs": [
    {
     "data": {
      "text/plain": [
       "'\\nUtilities\\n'"
      ]
     },
     "execution_count": 5,
     "metadata": {},
     "output_type": "execute_result"
    }
   ],
   "source": [
    "\"\"\"\n",
    "Utilities\n",
    "\"\"\"\n",
    "#runpix.delete_all_docs(runpix.fstore.collection('races').document('test').collection('readings'))"
   ]
  },
  {
   "cell_type": "markdown",
   "id": "94832c61-105a-48ab-8130-1dda9c5c6f93",
   "metadata": {},
   "source": [
    "# Races "
   ]
  },
  {
   "cell_type": "code",
   "execution_count": 6,
   "id": "4b5046e0-8563-49f0-9979-afcb92504e42",
   "metadata": {
    "collapsed": true,
    "jupyter": {
     "outputs_hidden": true
    },
    "tags": []
   },
   "outputs": [
    {
     "data": {
      "text/html": [
       "<div>\n",
       "<style scoped>\n",
       "    .dataframe tbody tr th:only-of-type {\n",
       "        vertical-align: middle;\n",
       "    }\n",
       "\n",
       "    .dataframe tbody tr th {\n",
       "        vertical-align: top;\n",
       "    }\n",
       "\n",
       "    .dataframe thead th {\n",
       "        text-align: right;\n",
       "    }\n",
       "</style>\n",
       "<table border=\"1\" class=\"dataframe\">\n",
       "  <thead>\n",
       "    <tr style=\"text-align: right;\">\n",
       "      <th></th>\n",
       "      <th>id</th>\n",
       "      <th>ref</th>\n",
       "      <th>Date</th>\n",
       "      <th>bibPatterm</th>\n",
       "      <th>Waypoints</th>\n",
       "      <th>Name</th>\n",
       "      <th>Location</th>\n",
       "      <th>bibPattern</th>\n",
       "      <th>photoStatus</th>\n",
       "    </tr>\n",
       "  </thead>\n",
       "  <tbody>\n",
       "    <tr>\n",
       "      <th>0</th>\n",
       "      <td>default</td>\n",
       "      <td>&lt;google.cloud.firestore_v1.document.DocumentRe...</td>\n",
       "      <td>NaN</td>\n",
       "      <td>NaN</td>\n",
       "      <td>NaN</td>\n",
       "      <td>NaN</td>\n",
       "      <td>NaN</td>\n",
       "      <td>NaN</td>\n",
       "      <td>NaN</td>\n",
       "    </tr>\n",
       "    <tr>\n",
       "      <th>1</th>\n",
       "      <td>mychoice23apr</td>\n",
       "      <td>&lt;google.cloud.firestore_v1.document.DocumentRe...</td>\n",
       "      <td>YYYY-MM-DD</td>\n",
       "      <td>\\d\\d\\d\\d</td>\n",
       "      <td>[venue, start, end]</td>\n",
       "      <td>Default Race Year Month</td>\n",
       "      <td>DC</td>\n",
       "      <td>NaN</td>\n",
       "      <td>NaN</td>\n",
       "    </tr>\n",
       "    <tr>\n",
       "      <th>2</th>\n",
       "      <td>mychoice23feb</td>\n",
       "      <td>&lt;google.cloud.firestore_v1.document.DocumentRe...</td>\n",
       "      <td>2023-02-11</td>\n",
       "      <td>NaN</td>\n",
       "      <td>[venue, end]</td>\n",
       "      <td>My Choice 2023 February</td>\n",
       "      <td>GT</td>\n",
       "      <td>\\d\\d\\d\\d</td>\n",
       "      <td>[available]</td>\n",
       "    </tr>\n",
       "    <tr>\n",
       "      <th>3</th>\n",
       "      <td>mychoice23jan</td>\n",
       "      <td>&lt;google.cloud.firestore_v1.document.DocumentRe...</td>\n",
       "      <td>2023-03-12</td>\n",
       "      <td>NaN</td>\n",
       "      <td>[venue, start, end]</td>\n",
       "      <td>My Choice 2023 Januaryr</td>\n",
       "      <td>DC</td>\n",
       "      <td>NaN</td>\n",
       "      <td>NaN</td>\n",
       "    </tr>\n",
       "    <tr>\n",
       "      <th>4</th>\n",
       "      <td>mychoice23mar</td>\n",
       "      <td>&lt;google.cloud.firestore_v1.document.DocumentRe...</td>\n",
       "      <td>2023-03-12</td>\n",
       "      <td>NaN</td>\n",
       "      <td>[venue, start, end]</td>\n",
       "      <td>My Choice 2023 March</td>\n",
       "      <td>DC</td>\n",
       "      <td>NaN</td>\n",
       "      <td>NaN</td>\n",
       "    </tr>\n",
       "    <tr>\n",
       "      <th>5</th>\n",
       "      <td>werun2023</td>\n",
       "      <td>&lt;google.cloud.firestore_v1.document.DocumentRe...</td>\n",
       "      <td>2023-03-05</td>\n",
       "      <td>NaN</td>\n",
       "      <td>[venue, route]</td>\n",
       "      <td>We Run 2023 (4th Edition)</td>\n",
       "      <td>Nigadi Pradhikaram</td>\n",
       "      <td>\\d{4}</td>\n",
       "      <td>[available]</td>\n",
       "    </tr>\n",
       "  </tbody>\n",
       "</table>\n",
       "</div>"
      ],
      "text/plain": [
       "              id                                                ref  \\\n",
       "0        default  <google.cloud.firestore_v1.document.DocumentRe...   \n",
       "1  mychoice23apr  <google.cloud.firestore_v1.document.DocumentRe...   \n",
       "2  mychoice23feb  <google.cloud.firestore_v1.document.DocumentRe...   \n",
       "3  mychoice23jan  <google.cloud.firestore_v1.document.DocumentRe...   \n",
       "4  mychoice23mar  <google.cloud.firestore_v1.document.DocumentRe...   \n",
       "5      werun2023  <google.cloud.firestore_v1.document.DocumentRe...   \n",
       "\n",
       "         Date bibPatterm            Waypoints                       Name  \\\n",
       "0         NaN        NaN                  NaN                        NaN   \n",
       "1  YYYY-MM-DD   \\d\\d\\d\\d  [venue, start, end]    Default Race Year Month   \n",
       "2  2023-02-11        NaN         [venue, end]    My Choice 2023 February   \n",
       "3  2023-03-12        NaN  [venue, start, end]    My Choice 2023 Januaryr   \n",
       "4  2023-03-12        NaN  [venue, start, end]       My Choice 2023 March   \n",
       "5  2023-03-05        NaN       [venue, route]  We Run 2023 (4th Edition)   \n",
       "\n",
       "             Location bibPattern  photoStatus  \n",
       "0                 NaN        NaN          NaN  \n",
       "1                  DC        NaN          NaN  \n",
       "2                  GT   \\d\\d\\d\\d  [available]  \n",
       "3                  DC        NaN          NaN  \n",
       "4                  DC        NaN          NaN  \n",
       "5  Nigadi Pradhikaram      \\d{4}  [available]  "
      ]
     },
     "execution_count": 6,
     "metadata": {},
     "output_type": "execute_result"
    }
   ],
   "source": [
    "races=runpix.fstore.collection('races')\n",
    "\"list all races\"\n",
    "\n",
    "df_races=fs2Df('races')\n",
    "df_races"
   ]
  },
  {
   "cell_type": "markdown",
   "id": "e7caf1b7-413d-438a-9150-f4b5b36ba3a2",
   "metadata": {},
   "source": [
    "## list all blobs"
   ]
  },
  {
   "cell_type": "code",
   "execution_count": 7,
   "id": "7fe624bc-6a76-4c21-a0ad-3613b2b8d46a",
   "metadata": {},
   "outputs": [
    {
     "data": {
      "text/plain": [
       "0    2023-03-13T19:23:42.882584~general~vaibhav~_L3...\n",
       "1    2023-03-13T19:24:34.262257~general~vaibhav~_L3...\n",
       "2    2023-03-13T19:25:41.041091~general~vaibhav~_L3...\n",
       "dtype: object"
      ]
     },
     "execution_count": 7,
     "metadata": {},
     "output_type": "execute_result"
    }
   ],
   "source": [
    "df_blob[:3].apply(lambda x: x['name'].split(\"/\").pop(),\n",
    "                  axis=1)"
   ]
  },
  {
   "cell_type": "markdown",
   "id": "2f698262-b1ff-4363-a3f8-8ee12052e0de",
   "metadata": {},
   "source": [
    "## other"
   ]
  },
  {
   "cell_type": "code",
   "execution_count": null,
   "id": "694ae13f-9a61-4005-a108-c6dcfc0ed31c",
   "metadata": {},
   "outputs": [],
   "source": [
    "\"query examples\"\n",
    "{_.id:_.to_dict() for _ in races.where('Location','==','GT').stream()}"
   ]
  },
  {
   "cell_type": "code",
   "execution_count": null,
   "id": "da203fde-fbd5-4f3b-b4d1-68ec8be8e6b9",
   "metadata": {},
   "outputs": [],
   "source": [
    "\"\"\"\n",
    "COPY RACE\n",
    "\"\"\"\n",
    "def copyRace(fromId,toId):\n",
    "    fromRace=races.document(fromId).get().to_dict()\n",
    "    print(fromRace)\n",
    "    return races.document(toId).set(fromRace)\n",
    "\n",
    "# copyRace('mychoice23apr','mychoice23mar')\n",
    "# copyRace('mychoice23mar','mychoice23jan')"
   ]
  },
  {
   "cell_type": "code",
   "execution_count": null,
   "id": "2baccf94-1784-4f16-80d1-27fef6f2d37c",
   "metadata": {},
   "outputs": [],
   "source": [
    "def addNewRace(id):\n",
    "    raceData = {'Date': \"YYYY-MM-DD\", \n",
    "                'Waypoints': ['venue', 'start', 'end'], \n",
    "                'Name': 'Default Race Year Month', \n",
    "                'Location': 'DC',\n",
    "                'bibPatterm': r'\\d\\d\\d\\d'\n",
    "               }\n",
    "    update_time, city_ref = races.document(id).set(raceData)\n",
    "    print(f'Added document with id {city_ref.id}')\n",
    "    \n",
    "addNewRace('mychoice23apr')"
   ]
  },
  {
   "cell_type": "markdown",
   "id": "2defba3a-f34f-4bf8-8902-32eb07a3f14e",
   "metadata": {},
   "source": [
    "# Misc"
   ]
  },
  {
   "cell_type": "code",
   "execution_count": null,
   "id": "ca20c36d-9489-48cb-bf72-0fbb1327094c",
   "metadata": {},
   "outputs": [],
   "source": []
  },
  {
   "cell_type": "markdown",
   "id": "afdf180c-08c3-4944-93be-21afbd413065",
   "metadata": {},
   "source": [
    "# Images (Storage)"
   ]
  },
  {
   "cell_type": "code",
   "execution_count": null,
   "id": "9923b15e-7bbf-43a4-81ad-9e5635a767c1",
   "metadata": {
    "tags": []
   },
   "outputs": [],
   "source": [
    "images = runpix.fstore.collection('images')\n",
    "for doc in images.stream():\n",
    "    print(f\"{doc.id} => {doc.to_dict()['textAnnotations']}\")"
   ]
  },
  {
   "cell_type": "markdown",
   "id": "1c71bdda-a06c-4c86-b7e1-4f52b4c40c1d",
   "metadata": {},
   "source": [
    "# Storage"
   ]
  },
  {
   "cell_type": "code",
   "execution_count": null,
   "id": "368c0055-6c28-4563-a1b9-dae03dc3f342",
   "metadata": {},
   "outputs": [],
   "source": []
  },
  {
   "cell_type": "code",
   "execution_count": null,
   "id": "8ed62c57-c889-4b76-a26c-6964940d6699",
   "metadata": {},
   "outputs": [],
   "source": [
    "# for i, b in enumerate(blobs):\n",
    "#     print (i,b.name)\n",
    "all_blobs_l=df_blob.name.apply(lambda x : x.split(\"~\")[-1])"
   ]
  },
  {
   "cell_type": "code",
   "execution_count": null,
   "id": "8332b7b5-ab6c-4d23-a3a2-43a0a193e3d0",
   "metadata": {},
   "outputs": [],
   "source": [
    "\"signed URL\"\n",
    "blobs[3].generate_signed_url(pd.Timestamp.today())"
   ]
  },
  {
   "cell_type": "code",
   "execution_count": null,
   "id": "bfe17229-d2c0-41ed-9b11-f74c5c1ba576",
   "metadata": {},
   "outputs": [],
   "source": [
    "\n",
    "from base64 import b64decode\n",
    "base64_data = blocs[1].download_as_bytes() #\"iVBORw0KGgoAAAANSUhEUgAABL ...  the rest of data \""
   ]
  },
  {
   "cell_type": "code",
   "execution_count": null,
   "id": "5ad7b818-63a5-47c4-b135-7b8d826958fb",
   "metadata": {
    "tags": []
   },
   "outputs": [],
   "source": [
    "base64_data[:100]"
   ]
  },
  {
   "cell_type": "code",
   "execution_count": null,
   "id": "753447ed-8f60-41ff-947b-47eb4fec49cc",
   "metadata": {},
   "outputs": [],
   "source": [
    "display.Image(b64decode(base64_data))"
   ]
  },
  {
   "cell_type": "code",
   "execution_count": null,
   "id": "e222a461-6970-404a-bb01-2618057ada74",
   "metadata": {},
   "outputs": [],
   "source": [
    "# def newname(x):\n",
    "#     arr=x.split('/')\n",
    "#     arr[]\n",
    "# gs://run-pix.appspot.com/thumbs/2023-02-12T01:25:41.084Z^venue^avinashmane$gmail.com^20230212_065538.jpg/2023-02-12T01:25:41.084Z^venue^avinashmane$gmail.com^20230212_065538.jpg\n",
    "for i,b in enumerate(blobs):\n",
    "    if 'thumbs/2023' in b.name :#and b.content_type=='image/jpeg':        \n",
    "        newName=\"thumbs/mychoice23feb/\"+b.name.split('/')[-1]\n",
    "        print(i,b.name,newName)\n",
    "        bucket.copy_blob(b,bucket,newName)"
   ]
  },
  {
   "cell_type": "code",
   "execution_count": null,
   "id": "bafc40d3-4e1f-4602-b87e-23bcbb9b431e",
   "metadata": {
    "tags": []
   },
   "outputs": [],
   "source": [
    "\n",
    "\".generate_signed_url() needs date\"\n",
    "new_id=\"run-pix.appspot.com/thumbs/mychoice23feb/2023-02-12T01:25:41.084Z^venue^avinashmane$gmail.com^20230212_065538.jpg/1678882880166980\"\n",
    "blobs[72].content_type"
   ]
  },
  {
   "cell_type": "code",
   "execution_count": null,
   "id": "2c6b7e66-fb2c-46b1-b48d-ab1a4b39c9ac",
   "metadata": {
    "tags": []
   },
   "outputs": [],
   "source": [
    "bucket.copy_blob()"
   ]
  },
  {
   "cell_type": "markdown",
   "id": "dc551f4e-560e-49bd-81b3-a2844416ecd3",
   "metadata": {},
   "source": [
    "# Bulk Bib Upload\n",
    "\n",
    "Data copied from clipboard from Excel:\n",
    "\n",
    "Columns copied are (case sensitive)\n",
    "* Bib\n",
    "* Name\n",
    "* Status\n",
    "* Race"
   ]
  },
  {
   "cell_type": "code",
   "execution_count": null,
   "id": "952a3a1e-21ab-4179-8e2e-900d418d8ee8",
   "metadata": {},
   "outputs": [],
   "source": [
    "raceId = 'werun2023'\n",
    "bibs=runpix.fstore.collection(f'races/{raceId}/bibs')"
   ]
  },
  {
   "cell_type": "code",
   "execution_count": null,
   "id": "0fa99309-11df-4969-aec5-88eef7c657d1",
   "metadata": {},
   "outputs": [],
   "source": [
    "\"Check Race details\"\n",
    "def dictUtf(mydict): \n",
    "    return {k: str(v).encode(\"utf-8\") for k,v in mydict.items()}\n",
    "\n",
    "races.document(raceId).get().to_dict()"
   ]
  },
  {
   "cell_type": "markdown",
   "id": "bfe6e198-d889-4da4-8881-2ebaf7687033",
   "metadata": {},
   "source": [
    "##  Copy the data\n",
    "Data copied from clipboard from Excel:\n",
    "\n",
    "Columns copied are (case sensitive)\n",
    "* Bib\n",
    "* Name\n",
    "* Status\n",
    "* Race"
   ]
  },
  {
   "cell_type": "code",
   "execution_count": null,
   "id": "8fce4984-bc9c-4d3a-8f9c-67b3e910834a",
   "metadata": {},
   "outputs": [],
   "source": [
    "df_startlist=pd.read_clipboard()\n",
    "display(\"columns in clipboard:\",df_startlist.columns)\n",
    "_required_columns='Bib\tName\tStatus\tRace'.split('\\t')\n",
    "_found_columns = [_x for _x in _required_columns if  _x in df_startlist.columns]\n",
    "display(\"columns found \",_found_columns)\n",
    "if len(_found_columns)<len(_required_columns): print(\"PLEASE WAIT \"+('X'*10+' ')*3)\n"
   ]
  },
  {
   "cell_type": "code",
   "execution_count": null,
   "id": "e4cd48b5-a733-40c8-8c7e-c6f4de0ab3b5",
   "metadata": {},
   "outputs": [],
   "source": [
    "df_startlist=df_startlist[_required_columns]"
   ]
  },
  {
   "cell_type": "code",
   "execution_count": null,
   "id": "eb825a9c-03ee-4087-a5d9-d684d4a2146e",
   "metadata": {},
   "outputs": [],
   "source": [
    "\"code\"\n",
    "bibtoDict=lambda x: x.to_dict()\n",
    "bibtoDict(df_startlist.loc[0,:])  # test\n",
    "\n",
    "def saveBibtoRace(bibData,bibsCollection):\n",
    "    _bibData=bibtoDict(bibData)\n",
    "    _bibData['Bib']=str(_bibData['Bib'])\n",
    "    bibsCollection.document(_bibData['Bib']\n",
    "                           ).set(_bibData)\n",
    "saveBibtoRace(df_startlist.loc[0,:],bibsCollection=bibs,)  # test    \n",
    "# df_startlist.apply(, axis=1)\n"
   ]
  },
  {
   "cell_type": "code",
   "execution_count": null,
   "id": "28fff8d2-84ca-4cb1-9df9-d1525cd9746c",
   "metadata": {},
   "outputs": [],
   "source": [
    "\" upload all bibs\"\n",
    "# df_startlist.apply(bibtoDict, axis=1)  #test\n",
    "df_startlist.apply(lambda x: saveBibtoRace(x,bibs), axis=1) "
   ]
  },
  {
   "cell_type": "code",
   "execution_count": null,
   "id": "9360d7cd-4c41-482f-be26-ea70e4cd9c4b",
   "metadata": {},
   "outputs": [],
   "source": [
    "bibs.count().get()\n",
    "# len(list( bibs.list_documents()))"
   ]
  },
  {
   "cell_type": "markdown",
   "id": "532e11ad-d567-4aa3-815b-0766e58295dd",
   "metadata": {},
   "source": [
    "# Update images to bibs \n",
    "\n",
    "Add list of images to the bibs"
   ]
  },
  {
   "cell_type": "code",
   "execution_count": 31,
   "id": "e9060db4-fdca-4038-b291-d36230f899e6",
   "metadata": {},
   "outputs": [
    {
     "data": {
      "text/html": [
       "<div>\n",
       "<style scoped>\n",
       "    .dataframe tbody tr th:only-of-type {\n",
       "        vertical-align: middle;\n",
       "    }\n",
       "\n",
       "    .dataframe tbody tr th {\n",
       "        vertical-align: top;\n",
       "    }\n",
       "\n",
       "    .dataframe thead th {\n",
       "        text-align: right;\n",
       "    }\n",
       "</style>\n",
       "<table border=\"1\" class=\"dataframe\">\n",
       "  <thead>\n",
       "    <tr style=\"text-align: right;\">\n",
       "      <th></th>\n",
       "      <th>type</th>\n",
       "      <th>root</th>\n",
       "      <th>path</th>\n",
       "    </tr>\n",
       "  </thead>\n",
       "  <tbody>\n",
       "    <tr>\n",
       "      <th>0</th>\n",
       "      <td>file</td>\n",
       "      <td>D:\\umesh\\D K D  2023 2\\Untitled Export</td>\n",
       "      <td>1P6A5534.jpg</td>\n",
       "    </tr>\n",
       "    <tr>\n",
       "      <th>1</th>\n",
       "      <td>file</td>\n",
       "      <td>D:\\umesh\\D K D  2023 2\\Untitled Export</td>\n",
       "      <td>1P6A5535.jpg</td>\n",
       "    </tr>\n",
       "    <tr>\n",
       "      <th>2</th>\n",
       "      <td>file</td>\n",
       "      <td>D:\\umesh\\D K D  2023 2\\Untitled Export</td>\n",
       "      <td>1P6A5536.jpg</td>\n",
       "    </tr>\n",
       "    <tr>\n",
       "      <th>3</th>\n",
       "      <td>file</td>\n",
       "      <td>D:\\umesh\\D K D  2023 2\\Untitled Export</td>\n",
       "      <td>1P6A5537.jpg</td>\n",
       "    </tr>\n",
       "    <tr>\n",
       "      <th>4</th>\n",
       "      <td>file</td>\n",
       "      <td>D:\\umesh\\D K D  2023 2\\Untitled Export</td>\n",
       "      <td>1P6A5538.jpg</td>\n",
       "    </tr>\n",
       "  </tbody>\n",
       "</table>\n",
       "</div>"
      ],
      "text/plain": [
       "   type                                    root          path\n",
       "0  file  D:\\umesh\\D K D  2023 2\\Untitled Export  1P6A5534.jpg\n",
       "1  file  D:\\umesh\\D K D  2023 2\\Untitled Export  1P6A5535.jpg\n",
       "2  file  D:\\umesh\\D K D  2023 2\\Untitled Export  1P6A5536.jpg\n",
       "3  file  D:\\umesh\\D K D  2023 2\\Untitled Export  1P6A5537.jpg\n",
       "4  file  D:\\umesh\\D K D  2023 2\\Untitled Export  1P6A5538.jpg"
      ]
     },
     "execution_count": 31,
     "metadata": {},
     "output_type": "execute_result"
    }
   ],
   "source": [
    "df_dir.head()"
   ]
  },
  {
   "cell_type": "markdown",
   "id": "0573b8f3-65c7-4475-9dbc-617c50769bbd",
   "metadata": {},
   "source": [
    "# Bulk Upload images list_documents"
   ]
  },
  {
   "cell_type": "code",
   "execution_count": 8,
   "id": "18984692-3260-47f4-b17a-2adc0935a3d9",
   "metadata": {},
   "outputs": [
    {
     "data": {
      "text/plain": [
       "{'path': 'D:\\\\DKD-Parag\\\\DKD 2023\\\\DCIM\\\\New folder',\n",
       " 'waypoint': 'general',\n",
       " 'userid': 'bcoconut'}"
      ]
     },
     "execution_count": 8,
     "metadata": {},
     "output_type": "execute_result"
    }
   ],
   "source": [
    "import yaml\n",
    "import os\n",
    "cfg={}\n",
    "cfg.update(yaml.safe_load(r\"\"\"\n",
    "uploads:\n",
    "    werun2023:\n",
    "        #path: D:\\We Run 2023\\JPEG\n",
    "        path: D:\\We Run 2023\\Vaibhav\\JPEG\n",
    "        fileRange: [\"\",\"XX\"]\n",
    "        waypoint: venue\n",
    "        userid: vaibhav\n",
    "    mychoice23feb:\n",
    "        path: D:\\umesh\\D K D  2023 2\\Untitled Export\n",
    "        waypoint: general\n",
    "        userid: bcoconut\n",
    "    mychoice23mar:\n",
    "        path: D:\\DKD-Parag\\DKD 2023\\DCIM\\New folder\n",
    "        waypoint: general\n",
    "        userid: bcoconut\n",
    "\"\"\"))\n",
    "\n",
    "\n",
    "raceId='mychoice23mar'\n",
    "cfg['uploads'][raceId]"
   ]
  },
  {
   "cell_type": "code",
   "execution_count": 9,
   "id": "26bfd39d-577e-4c8a-8c0d-1912f558ef0e",
   "metadata": {},
   "outputs": [
    {
     "name": "stdout",
     "output_type": "stream",
     "text": [
      "mychoice23mar uploading from 'D:\\DKD-Parag\\DKD 2023\\DCIM\\New folder',df_dir:(818, 3)\n",
      " D:\\DKD-Parag\\DKD 2023\\DCIM\\New folder           706\n",
      "D:\\DKD-Parag\\DKD 2023\\DCIM\\New folder\\no Bib    112\n",
      "Name: root, dtype: int64\n"
     ]
    }
   ],
   "source": [
    "df_dir=dir2df(cfg['uploads'][raceId]['path'])\n",
    "# df_dir['type root'.split()].value_counts()                 \n",
    "print(f\"{raceId} uploading from '{cfg['uploads'][raceId]['path']}',df_dir:{df_dir.shape}\\n\",df_dir.root.value_counts())"
   ]
  },
  {
   "cell_type": "code",
   "execution_count": null,
   "id": "0b8a0c30-403d-4723-b1ce-19f1a99e4a3b",
   "metadata": {},
   "outputs": [],
   "source": []
  },
  {
   "cell_type": "code",
   "execution_count": 11,
   "id": "598ea3f5-aea1-4745-92c2-7ac11e542854",
   "metadata": {
    "tags": []
   },
   "outputs": [
    {
     "name": "stdout",
     "output_type": "stream",
     "text": [
      "raceId werun2023 d:\\we run 2023\\vaibhav\\jpeg 1 in processed/mychoice23mar  ====================\n",
      "werun2023: 0 files\n",
      "raceId mychoice23feb d:\\umesh\\d k d  2023 2\\untitled export 1 in processed/mychoice23mar  ====================\n",
      "mychoice23feb: 0 files\n",
      "raceId mychoice23mar d:\\dkd-parag\\dkd 2023\\dcim\\new folder 1 in processed/mychoice23mar  ====================\n",
      "1 blob exists DSC_0449.jpg uploads/mychoice23mar/2023-03-15T10:32:44.412736~general~bcoconut~DSC_0449.jpg\n",
      "2 blob exists DSC_0450.jpg uploads/mychoice23mar/2023-03-15T10:32:44.829733~general~bcoconut~DSC_0450.jpg\n",
      "3 blob exists DSC_0451.jpg uploads/mychoice23mar/2023-03-15T10:32:45.092075~general~bcoconut~DSC_0451.jpg\n",
      "4 blob exists DSC_0452.jpg uploads/mychoice23mar/2023-03-15T10:32:45.298790~general~bcoconut~DSC_0452.jpg\n",
      "5 blob exists DSC_0453.jpg uploads/mychoice23mar/2023-03-15T10:32:45.528585~general~bcoconut~DSC_0453.jpg\n",
      "6 blob exists DSC_0454.jpg uploads/mychoice23mar/2023-03-15T10:32:45.807919~general~bcoconut~DSC_0454.jpg\n",
      "7 blob exists DSC_0455.jpg uploads/mychoice23mar/2023-03-15T10:32:46.040282~general~bcoconut~DSC_0455.jpg\n",
      "8 blob exists DSC_0456.jpg uploads/mychoice23mar/2023-03-15T10:32:46.270432~general~bcoconut~DSC_0456.jpg\n",
      "9 blob exists DSC_0457.jpg uploads/mychoice23mar/2023-03-15T10:32:46.551554~general~bcoconut~DSC_0457.jpg\n",
      "10 blob exists DSC_0458.jpg uploads/mychoice23mar/2023-03-15T10:32:46.888713~general~bcoconut~DSC_0458.jpg\n",
      "11 blob exists DSC_0459.jpg uploads/mychoice23mar/2023-03-15T10:32:47.083272~general~bcoconut~DSC_0459.jpg\n",
      "12 blob exists DSC_0460.jpg uploads/mychoice23mar/2023-03-15T10:32:47.334050~general~bcoconut~DSC_0460.jpg\n",
      "13 blob exists DSC_0461.jpg uploads/mychoice23mar/2023-03-15T10:32:47.558133~general~bcoconut~DSC_0461.jpg\n",
      "14 blob exists DSC_0462.jpg uploads/mychoice23mar/2023-03-15T10:32:47.763703~general~bcoconut~DSC_0462.jpg\n",
      "15 blob exists DSC_0463.jpg uploads/mychoice23mar/2023-03-15T10:32:47.936565~general~bcoconut~DSC_0463.jpg\n",
      "16 blob exists DSC_0464.jpg uploads/mychoice23mar/2023-03-15T10:32:48.141058~general~bcoconut~DSC_0464.jpg\n",
      "17 blob exists DSC_0465.jpg uploads/mychoice23mar/2023-03-15T10:32:48.306832~general~bcoconut~DSC_0465.jpg\n",
      "processed/mychoice23mar DSC_0466.jpg found\n",
      "19 uploading D:\\DKD-Parag\\DKD 2023\\DCIM\\New folder\\DSC_0467.jpg to uploads/mychoice23mar/2023-03-15T10:32:48.709368~general~bcoconut~DSC_0467.jpg\n",
      "20 uploading D:\\DKD-Parag\\DKD 2023\\DCIM\\New folder\\DSC_0468.jpg to uploads/mychoice23mar/2023-03-15T10:32:48.875366~general~bcoconut~DSC_0468.jpg\n",
      "21 uploading D:\\DKD-Parag\\DKD 2023\\DCIM\\New folder\\DSC_0469.jpg to uploads/mychoice23mar/2023-03-15T10:32:49.068179~general~bcoconut~DSC_0469.jpg\n",
      "22 uploading D:\\DKD-Parag\\DKD 2023\\DCIM\\New folder\\DSC_0470.jpg to uploads/mychoice23mar/2023-03-15T10:32:49.277031~general~bcoconut~DSC_0470.jpg\n",
      "23 uploading D:\\DKD-Parag\\DKD 2023\\DCIM\\New folder\\DSC_0471.jpg to uploads/mychoice23mar/2023-03-15T10:32:49.435674~general~bcoconut~DSC_0471.jpg\n",
      "24 uploading D:\\DKD-Parag\\DKD 2023\\DCIM\\New folder\\DSC_0472.jpg to uploads/mychoice23mar/2023-03-15T10:32:49.632667~general~bcoconut~DSC_0472.jpg\n",
      "25 uploading D:\\DKD-Parag\\DKD 2023\\DCIM\\New folder\\DSC_0473.jpg to uploads/mychoice23mar/2023-03-15T10:32:49.834011~general~bcoconut~DSC_0473.jpg\n",
      "26 uploading D:\\DKD-Parag\\DKD 2023\\DCIM\\New folder\\DSC_0474.jpg to uploads/mychoice23mar/2023-03-15T10:32:49.979639~general~bcoconut~DSC_0474.jpg\n",
      "27 uploading D:\\DKD-Parag\\DKD 2023\\DCIM\\New folder\\DSC_0475.jpg to uploads/mychoice23mar/2023-03-15T10:32:50.137673~general~bcoconut~DSC_0475.jpg\n",
      "28 uploading D:\\DKD-Parag\\DKD 2023\\DCIM\\New folder\\DSC_0476.jpg to uploads/mychoice23mar/2023-03-15T10:32:50.310401~general~bcoconut~DSC_0476.jpg\n",
      "29 uploading D:\\DKD-Parag\\DKD 2023\\DCIM\\New folder\\DSC_0478.jpg to uploads/mychoice23mar/2023-03-15T10:32:50.464638~general~bcoconut~DSC_0478.jpg\n",
      "30 uploading D:\\DKD-Parag\\DKD 2023\\DCIM\\New folder\\DSC_0479.jpg to uploads/mychoice23mar/2023-03-15T10:32:50.601290~general~bcoconut~DSC_0479.jpg\n",
      "31 uploading D:\\DKD-Parag\\DKD 2023\\DCIM\\New folder\\DSC_0480.jpg to uploads/mychoice23mar/2023-03-15T10:32:50.741663~general~bcoconut~DSC_0480.jpg\n",
      "32 uploading D:\\DKD-Parag\\DKD 2023\\DCIM\\New folder\\DSC_0481.jpg to uploads/mychoice23mar/2023-03-15T10:32:50.911084~general~bcoconut~DSC_0481.jpg\n",
      "33 uploading D:\\DKD-Parag\\DKD 2023\\DCIM\\New folder\\DSC_0482.jpg to uploads/mychoice23mar/2023-03-15T10:32:51.072409~general~bcoconut~DSC_0482.jpg\n",
      "34 uploading D:\\DKD-Parag\\DKD 2023\\DCIM\\New folder\\DSC_0483.jpg to uploads/mychoice23mar/2023-03-15T10:32:51.218104~general~bcoconut~DSC_0483.jpg\n",
      "35 uploading D:\\DKD-Parag\\DKD 2023\\DCIM\\New folder\\DSC_0484.jpg to uploads/mychoice23mar/2023-03-15T10:32:51.401303~general~bcoconut~DSC_0484.jpg\n",
      "36 uploading D:\\DKD-Parag\\DKD 2023\\DCIM\\New folder\\DSC_0485.jpg to uploads/mychoice23mar/2023-03-15T10:32:51.527385~general~bcoconut~DSC_0485.jpg\n",
      "37 uploading D:\\DKD-Parag\\DKD 2023\\DCIM\\New folder\\DSC_0486.jpg to uploads/mychoice23mar/2023-03-15T10:32:51.663276~general~bcoconut~DSC_0486.jpg\n",
      "38 uploading D:\\DKD-Parag\\DKD 2023\\DCIM\\New folder\\DSC_0487.jpg to uploads/mychoice23mar/2023-03-15T10:32:51.832642~general~bcoconut~DSC_0487.jpg\n",
      "39 uploading D:\\DKD-Parag\\DKD 2023\\DCIM\\New folder\\DSC_0488.jpg to uploads/mychoice23mar/2023-03-15T10:32:51.985656~general~bcoconut~DSC_0488.jpg\n",
      "40 uploading D:\\DKD-Parag\\DKD 2023\\DCIM\\New folder\\DSC_0489.jpg to uploads/mychoice23mar/2023-03-15T10:32:52.258492~general~bcoconut~DSC_0489.jpg\n",
      "41 uploading D:\\DKD-Parag\\DKD 2023\\DCIM\\New folder\\DSC_0490.jpg to uploads/mychoice23mar/2023-03-15T10:32:52.396733~general~bcoconut~DSC_0490.jpg\n",
      "42 uploading D:\\DKD-Parag\\DKD 2023\\DCIM\\New folder\\DSC_0491.jpg to uploads/mychoice23mar/2023-03-15T10:32:52.532063~general~bcoconut~DSC_0491.jpg\n",
      "43 uploading D:\\DKD-Parag\\DKD 2023\\DCIM\\New folder\\DSC_0492.jpg to uploads/mychoice23mar/2023-03-15T10:32:52.682758~general~bcoconut~DSC_0492.jpg\n",
      "44 uploading D:\\DKD-Parag\\DKD 2023\\DCIM\\New folder\\DSC_0493.jpg to uploads/mychoice23mar/2023-03-15T10:32:52.790695~general~bcoconut~DSC_0493.jpg\n"
     ]
    },
    {
     "ename": "KeyboardInterrupt",
     "evalue": "",
     "output_type": "error",
     "traceback": [
      "\u001b[1;31m---------------------------------------------------------------------------\u001b[0m",
      "\u001b[1;31mKeyboardInterrupt\u001b[0m                         Traceback (most recent call last)",
      "Cell \u001b[1;32mIn[11], line 44\u001b[0m\n\u001b[0;32m     42\u001b[0m stats[\u001b[38;5;124m'\u001b[39m\u001b[38;5;124mfiles\u001b[39m\u001b[38;5;124m'\u001b[39m]\u001b[38;5;241m+\u001b[39m\u001b[38;5;241m=\u001b[39m\u001b[38;5;241m1\u001b[39m\n\u001b[0;32m     43\u001b[0m \u001b[38;5;28;01mif\u001b[39;00m \u001b[38;5;129;01mnot\u001b[39;00m d\u001b[38;5;241m.\u001b[39mpath \u001b[38;5;129;01min\u001b[39;00m all_blobs_l:\n\u001b[1;32m---> 44\u001b[0m     \u001b[43muploadFile\u001b[49m\u001b[43m(\u001b[49m\u001b[43md\u001b[49m\u001b[38;5;241;43m.\u001b[39;49m\u001b[43mroot\u001b[49m\u001b[43m,\u001b[49m\u001b[43md\u001b[49m\u001b[38;5;241;43m.\u001b[39;49m\u001b[43mpath\u001b[49m\u001b[43m)\u001b[49m\n\u001b[0;32m     45\u001b[0m     stats[\u001b[38;5;124m'\u001b[39m\u001b[38;5;124mupl\u001b[39m\u001b[38;5;124m'\u001b[39m]\u001b[38;5;241m+\u001b[39m\u001b[38;5;241m=\u001b[39m\u001b[38;5;241m1\u001b[39m\n\u001b[0;32m     46\u001b[0m \u001b[38;5;28;01melse\u001b[39;00m:\n",
      "Cell \u001b[1;32mIn[11], line 20\u001b[0m, in \u001b[0;36muploadFile\u001b[1;34m(root, name)\u001b[0m\n\u001b[0;32m     17\u001b[0m \u001b[38;5;66;03m# blob=bucket.blob(folder+name) #used when renaming to diff filenames\u001b[39;00m\n\u001b[0;32m     18\u001b[0m blob\u001b[38;5;241m=\u001b[39mbucket\u001b[38;5;241m.\u001b[39mblob(new)\n\u001b[1;32m---> 20\u001b[0m \u001b[38;5;28;01mif\u001b[39;00m \u001b[43mblob\u001b[49m\u001b[38;5;241;43m.\u001b[39;49m\u001b[43mexists\u001b[49m\u001b[43m(\u001b[49m\u001b[43m)\u001b[49m:\n\u001b[0;32m     21\u001b[0m     \u001b[38;5;28mprint\u001b[39m(stats[\u001b[38;5;124m'\u001b[39m\u001b[38;5;124mfiles\u001b[39m\u001b[38;5;124m'\u001b[39m],\u001b[38;5;124m'\u001b[39m\u001b[38;5;124mblob exists\u001b[39m\u001b[38;5;124m'\u001b[39m,name,new)\n\u001b[0;32m     22\u001b[0m     blob\u001b[38;5;241m.\u001b[39mrewrite(blob)\n",
      "File \u001b[1;32mc:\\sw\\py310nb_env\\Lib\\site-packages\\google\\cloud\\storage\\blob.py:699\u001b[0m, in \u001b[0;36mBlob.exists\u001b[1;34m(self, client, if_etag_match, if_etag_not_match, if_generation_match, if_generation_not_match, if_metageneration_match, if_metageneration_not_match, timeout, retry)\u001b[0m\n\u001b[0;32m    692\u001b[0m _add_etag_match_headers(\n\u001b[0;32m    693\u001b[0m     headers, if_etag_match\u001b[38;5;241m=\u001b[39mif_etag_match, if_etag_not_match\u001b[38;5;241m=\u001b[39mif_etag_not_match\n\u001b[0;32m    694\u001b[0m )\n\u001b[0;32m    696\u001b[0m \u001b[38;5;28;01mtry\u001b[39;00m:\n\u001b[0;32m    697\u001b[0m     \u001b[38;5;66;03m# We intentionally pass `_target_object=None` since fields=name\u001b[39;00m\n\u001b[0;32m    698\u001b[0m     \u001b[38;5;66;03m# would limit the local properties.\u001b[39;00m\n\u001b[1;32m--> 699\u001b[0m     \u001b[43mclient\u001b[49m\u001b[38;5;241;43m.\u001b[39;49m\u001b[43m_get_resource\u001b[49m\u001b[43m(\u001b[49m\n\u001b[0;32m    700\u001b[0m \u001b[43m        \u001b[49m\u001b[38;5;28;43mself\u001b[39;49m\u001b[38;5;241;43m.\u001b[39;49m\u001b[43mpath\u001b[49m\u001b[43m,\u001b[49m\n\u001b[0;32m    701\u001b[0m \u001b[43m        \u001b[49m\u001b[43mquery_params\u001b[49m\u001b[38;5;241;43m=\u001b[39;49m\u001b[43mquery_params\u001b[49m\u001b[43m,\u001b[49m\n\u001b[0;32m    702\u001b[0m \u001b[43m        \u001b[49m\u001b[43mheaders\u001b[49m\u001b[38;5;241;43m=\u001b[39;49m\u001b[43mheaders\u001b[49m\u001b[43m,\u001b[49m\n\u001b[0;32m    703\u001b[0m \u001b[43m        \u001b[49m\u001b[43mtimeout\u001b[49m\u001b[38;5;241;43m=\u001b[39;49m\u001b[43mtimeout\u001b[49m\u001b[43m,\u001b[49m\n\u001b[0;32m    704\u001b[0m \u001b[43m        \u001b[49m\u001b[43mretry\u001b[49m\u001b[38;5;241;43m=\u001b[39;49m\u001b[43mretry\u001b[49m\u001b[43m,\u001b[49m\n\u001b[0;32m    705\u001b[0m \u001b[43m        \u001b[49m\u001b[43m_target_object\u001b[49m\u001b[38;5;241;43m=\u001b[39;49m\u001b[38;5;28;43;01mNone\u001b[39;49;00m\u001b[43m,\u001b[49m\n\u001b[0;32m    706\u001b[0m \u001b[43m    \u001b[49m\u001b[43m)\u001b[49m\n\u001b[0;32m    707\u001b[0m \u001b[38;5;28;01mexcept\u001b[39;00m NotFound:\n\u001b[0;32m    708\u001b[0m     \u001b[38;5;66;03m# NOTE: This will not fail immediately in a batch. However, when\u001b[39;00m\n\u001b[0;32m    709\u001b[0m     \u001b[38;5;66;03m#       Batch.finish() is called, the resulting `NotFound` will be\u001b[39;00m\n\u001b[0;32m    710\u001b[0m     \u001b[38;5;66;03m#       raised.\u001b[39;00m\n\u001b[0;32m    711\u001b[0m     \u001b[38;5;28;01mreturn\u001b[39;00m \u001b[38;5;28;01mFalse\u001b[39;00m\n",
      "File \u001b[1;32mc:\\sw\\py310nb_env\\Lib\\site-packages\\google\\cloud\\storage\\client.py:372\u001b[0m, in \u001b[0;36mClient._get_resource\u001b[1;34m(self, path, query_params, headers, timeout, retry, _target_object)\u001b[0m\n\u001b[0;32m    316\u001b[0m \u001b[38;5;28;01mdef\u001b[39;00m \u001b[38;5;21m_get_resource\u001b[39m(\n\u001b[0;32m    317\u001b[0m     \u001b[38;5;28mself\u001b[39m,\n\u001b[0;32m    318\u001b[0m     path,\n\u001b[1;32m   (...)\u001b[0m\n\u001b[0;32m    323\u001b[0m     _target_object\u001b[38;5;241m=\u001b[39m\u001b[38;5;28;01mNone\u001b[39;00m,\n\u001b[0;32m    324\u001b[0m ):\n\u001b[0;32m    325\u001b[0m \u001b[38;5;250m    \u001b[39m\u001b[38;5;124;03m\"\"\"Helper for bucket / blob methods making API 'GET' calls.\u001b[39;00m\n\u001b[0;32m    326\u001b[0m \n\u001b[0;32m    327\u001b[0m \u001b[38;5;124;03m    Args:\u001b[39;00m\n\u001b[1;32m   (...)\u001b[0m\n\u001b[0;32m    370\u001b[0m \u001b[38;5;124;03m            If the bucket is not found.\u001b[39;00m\n\u001b[0;32m    371\u001b[0m \u001b[38;5;124;03m    \"\"\"\u001b[39;00m\n\u001b[1;32m--> 372\u001b[0m     \u001b[38;5;28;01mreturn\u001b[39;00m \u001b[38;5;28;43mself\u001b[39;49m\u001b[38;5;241;43m.\u001b[39;49m\u001b[43m_connection\u001b[49m\u001b[38;5;241;43m.\u001b[39;49m\u001b[43mapi_request\u001b[49m\u001b[43m(\u001b[49m\n\u001b[0;32m    373\u001b[0m \u001b[43m        \u001b[49m\u001b[43mmethod\u001b[49m\u001b[38;5;241;43m=\u001b[39;49m\u001b[38;5;124;43m\"\u001b[39;49m\u001b[38;5;124;43mGET\u001b[39;49m\u001b[38;5;124;43m\"\u001b[39;49m\u001b[43m,\u001b[49m\n\u001b[0;32m    374\u001b[0m \u001b[43m        \u001b[49m\u001b[43mpath\u001b[49m\u001b[38;5;241;43m=\u001b[39;49m\u001b[43mpath\u001b[49m\u001b[43m,\u001b[49m\n\u001b[0;32m    375\u001b[0m \u001b[43m        \u001b[49m\u001b[43mquery_params\u001b[49m\u001b[38;5;241;43m=\u001b[39;49m\u001b[43mquery_params\u001b[49m\u001b[43m,\u001b[49m\n\u001b[0;32m    376\u001b[0m \u001b[43m        \u001b[49m\u001b[43mheaders\u001b[49m\u001b[38;5;241;43m=\u001b[39;49m\u001b[43mheaders\u001b[49m\u001b[43m,\u001b[49m\n\u001b[0;32m    377\u001b[0m \u001b[43m        \u001b[49m\u001b[43mtimeout\u001b[49m\u001b[38;5;241;43m=\u001b[39;49m\u001b[43mtimeout\u001b[49m\u001b[43m,\u001b[49m\n\u001b[0;32m    378\u001b[0m \u001b[43m        \u001b[49m\u001b[43mretry\u001b[49m\u001b[38;5;241;43m=\u001b[39;49m\u001b[43mretry\u001b[49m\u001b[43m,\u001b[49m\n\u001b[0;32m    379\u001b[0m \u001b[43m        \u001b[49m\u001b[43m_target_object\u001b[49m\u001b[38;5;241;43m=\u001b[39;49m\u001b[43m_target_object\u001b[49m\u001b[43m,\u001b[49m\n\u001b[0;32m    380\u001b[0m \u001b[43m    \u001b[49m\u001b[43m)\u001b[49m\n",
      "File \u001b[1;32mc:\\sw\\py310nb_env\\Lib\\site-packages\\google\\cloud\\storage\\_http.py:72\u001b[0m, in \u001b[0;36mConnection.api_request\u001b[1;34m(self, *args, **kwargs)\u001b[0m\n\u001b[0;32m     70\u001b[0m     \u001b[38;5;28;01mif\u001b[39;00m retry:\n\u001b[0;32m     71\u001b[0m         call \u001b[38;5;241m=\u001b[39m retry(call)\n\u001b[1;32m---> 72\u001b[0m \u001b[38;5;28;01mreturn\u001b[39;00m \u001b[43mcall\u001b[49m\u001b[43m(\u001b[49m\u001b[43m)\u001b[49m\n",
      "File \u001b[1;32mc:\\sw\\py310nb_env\\Lib\\site-packages\\google\\api_core\\retry.py:349\u001b[0m, in \u001b[0;36mRetry.__call__.<locals>.retry_wrapped_func\u001b[1;34m(*args, **kwargs)\u001b[0m\n\u001b[0;32m    345\u001b[0m target \u001b[38;5;241m=\u001b[39m functools\u001b[38;5;241m.\u001b[39mpartial(func, \u001b[38;5;241m*\u001b[39margs, \u001b[38;5;241m*\u001b[39m\u001b[38;5;241m*\u001b[39mkwargs)\n\u001b[0;32m    346\u001b[0m sleep_generator \u001b[38;5;241m=\u001b[39m exponential_sleep_generator(\n\u001b[0;32m    347\u001b[0m     \u001b[38;5;28mself\u001b[39m\u001b[38;5;241m.\u001b[39m_initial, \u001b[38;5;28mself\u001b[39m\u001b[38;5;241m.\u001b[39m_maximum, multiplier\u001b[38;5;241m=\u001b[39m\u001b[38;5;28mself\u001b[39m\u001b[38;5;241m.\u001b[39m_multiplier\n\u001b[0;32m    348\u001b[0m )\n\u001b[1;32m--> 349\u001b[0m \u001b[38;5;28;01mreturn\u001b[39;00m \u001b[43mretry_target\u001b[49m\u001b[43m(\u001b[49m\n\u001b[0;32m    350\u001b[0m \u001b[43m    \u001b[49m\u001b[43mtarget\u001b[49m\u001b[43m,\u001b[49m\n\u001b[0;32m    351\u001b[0m \u001b[43m    \u001b[49m\u001b[38;5;28;43mself\u001b[39;49m\u001b[38;5;241;43m.\u001b[39;49m\u001b[43m_predicate\u001b[49m\u001b[43m,\u001b[49m\n\u001b[0;32m    352\u001b[0m \u001b[43m    \u001b[49m\u001b[43msleep_generator\u001b[49m\u001b[43m,\u001b[49m\n\u001b[0;32m    353\u001b[0m \u001b[43m    \u001b[49m\u001b[38;5;28;43mself\u001b[39;49m\u001b[38;5;241;43m.\u001b[39;49m\u001b[43m_timeout\u001b[49m\u001b[43m,\u001b[49m\n\u001b[0;32m    354\u001b[0m \u001b[43m    \u001b[49m\u001b[43mon_error\u001b[49m\u001b[38;5;241;43m=\u001b[39;49m\u001b[43mon_error\u001b[49m\u001b[43m,\u001b[49m\n\u001b[0;32m    355\u001b[0m \u001b[43m\u001b[49m\u001b[43m)\u001b[49m\n",
      "File \u001b[1;32mc:\\sw\\py310nb_env\\Lib\\site-packages\\google\\api_core\\retry.py:191\u001b[0m, in \u001b[0;36mretry_target\u001b[1;34m(target, predicate, sleep_generator, timeout, on_error, **kwargs)\u001b[0m\n\u001b[0;32m    189\u001b[0m \u001b[38;5;28;01mfor\u001b[39;00m sleep \u001b[38;5;129;01min\u001b[39;00m sleep_generator:\n\u001b[0;32m    190\u001b[0m     \u001b[38;5;28;01mtry\u001b[39;00m:\n\u001b[1;32m--> 191\u001b[0m         \u001b[38;5;28;01mreturn\u001b[39;00m \u001b[43mtarget\u001b[49m\u001b[43m(\u001b[49m\u001b[43m)\u001b[49m\n\u001b[0;32m    193\u001b[0m     \u001b[38;5;66;03m# pylint: disable=broad-except\u001b[39;00m\n\u001b[0;32m    194\u001b[0m     \u001b[38;5;66;03m# This function explicitly must deal with broad exceptions.\u001b[39;00m\n\u001b[0;32m    195\u001b[0m     \u001b[38;5;28;01mexcept\u001b[39;00m \u001b[38;5;167;01mException\u001b[39;00m \u001b[38;5;28;01mas\u001b[39;00m exc:\n",
      "File \u001b[1;32mc:\\sw\\py310nb_env\\Lib\\site-packages\\google\\cloud\\_http\\__init__.py:482\u001b[0m, in \u001b[0;36mJSONConnection.api_request\u001b[1;34m(self, method, path, query_params, data, content_type, headers, api_base_url, api_version, expect_json, _target_object, timeout, extra_api_info)\u001b[0m\n\u001b[0;32m    479\u001b[0m     data \u001b[38;5;241m=\u001b[39m json\u001b[38;5;241m.\u001b[39mdumps(data)\n\u001b[0;32m    480\u001b[0m     content_type \u001b[38;5;241m=\u001b[39m \u001b[38;5;124m\"\u001b[39m\u001b[38;5;124mapplication/json\u001b[39m\u001b[38;5;124m\"\u001b[39m\n\u001b[1;32m--> 482\u001b[0m response \u001b[38;5;241m=\u001b[39m \u001b[38;5;28;43mself\u001b[39;49m\u001b[38;5;241;43m.\u001b[39;49m\u001b[43m_make_request\u001b[49m\u001b[43m(\u001b[49m\n\u001b[0;32m    483\u001b[0m \u001b[43m    \u001b[49m\u001b[43mmethod\u001b[49m\u001b[38;5;241;43m=\u001b[39;49m\u001b[43mmethod\u001b[49m\u001b[43m,\u001b[49m\n\u001b[0;32m    484\u001b[0m \u001b[43m    \u001b[49m\u001b[43murl\u001b[49m\u001b[38;5;241;43m=\u001b[39;49m\u001b[43murl\u001b[49m\u001b[43m,\u001b[49m\n\u001b[0;32m    485\u001b[0m \u001b[43m    \u001b[49m\u001b[43mdata\u001b[49m\u001b[38;5;241;43m=\u001b[39;49m\u001b[43mdata\u001b[49m\u001b[43m,\u001b[49m\n\u001b[0;32m    486\u001b[0m \u001b[43m    \u001b[49m\u001b[43mcontent_type\u001b[49m\u001b[38;5;241;43m=\u001b[39;49m\u001b[43mcontent_type\u001b[49m\u001b[43m,\u001b[49m\n\u001b[0;32m    487\u001b[0m \u001b[43m    \u001b[49m\u001b[43mheaders\u001b[49m\u001b[38;5;241;43m=\u001b[39;49m\u001b[43mheaders\u001b[49m\u001b[43m,\u001b[49m\n\u001b[0;32m    488\u001b[0m \u001b[43m    \u001b[49m\u001b[43mtarget_object\u001b[49m\u001b[38;5;241;43m=\u001b[39;49m\u001b[43m_target_object\u001b[49m\u001b[43m,\u001b[49m\n\u001b[0;32m    489\u001b[0m \u001b[43m    \u001b[49m\u001b[43mtimeout\u001b[49m\u001b[38;5;241;43m=\u001b[39;49m\u001b[43mtimeout\u001b[49m\u001b[43m,\u001b[49m\n\u001b[0;32m    490\u001b[0m \u001b[43m    \u001b[49m\u001b[43mextra_api_info\u001b[49m\u001b[38;5;241;43m=\u001b[39;49m\u001b[43mextra_api_info\u001b[49m\u001b[43m,\u001b[49m\n\u001b[0;32m    491\u001b[0m \u001b[43m\u001b[49m\u001b[43m)\u001b[49m\n\u001b[0;32m    493\u001b[0m \u001b[38;5;28;01mif\u001b[39;00m \u001b[38;5;129;01mnot\u001b[39;00m \u001b[38;5;241m200\u001b[39m \u001b[38;5;241m<\u001b[39m\u001b[38;5;241m=\u001b[39m response\u001b[38;5;241m.\u001b[39mstatus_code \u001b[38;5;241m<\u001b[39m \u001b[38;5;241m300\u001b[39m:\n\u001b[0;32m    494\u001b[0m     \u001b[38;5;28;01mraise\u001b[39;00m exceptions\u001b[38;5;241m.\u001b[39mfrom_http_response(response)\n",
      "File \u001b[1;32mc:\\sw\\py310nb_env\\Lib\\site-packages\\google\\cloud\\_http\\__init__.py:341\u001b[0m, in \u001b[0;36mJSONConnection._make_request\u001b[1;34m(self, method, url, data, content_type, headers, target_object, timeout, extra_api_info)\u001b[0m\n\u001b[0;32m    338\u001b[0m     headers[CLIENT_INFO_HEADER] \u001b[38;5;241m=\u001b[39m \u001b[38;5;28mself\u001b[39m\u001b[38;5;241m.\u001b[39muser_agent\n\u001b[0;32m    339\u001b[0m headers[\u001b[38;5;124m\"\u001b[39m\u001b[38;5;124mUser-Agent\u001b[39m\u001b[38;5;124m\"\u001b[39m] \u001b[38;5;241m=\u001b[39m \u001b[38;5;28mself\u001b[39m\u001b[38;5;241m.\u001b[39muser_agent\n\u001b[1;32m--> 341\u001b[0m \u001b[38;5;28;01mreturn\u001b[39;00m \u001b[38;5;28;43mself\u001b[39;49m\u001b[38;5;241;43m.\u001b[39;49m\u001b[43m_do_request\u001b[49m\u001b[43m(\u001b[49m\n\u001b[0;32m    342\u001b[0m \u001b[43m    \u001b[49m\u001b[43mmethod\u001b[49m\u001b[43m,\u001b[49m\u001b[43m \u001b[49m\u001b[43murl\u001b[49m\u001b[43m,\u001b[49m\u001b[43m \u001b[49m\u001b[43mheaders\u001b[49m\u001b[43m,\u001b[49m\u001b[43m \u001b[49m\u001b[43mdata\u001b[49m\u001b[43m,\u001b[49m\u001b[43m \u001b[49m\u001b[43mtarget_object\u001b[49m\u001b[43m,\u001b[49m\u001b[43m \u001b[49m\u001b[43mtimeout\u001b[49m\u001b[38;5;241;43m=\u001b[39;49m\u001b[43mtimeout\u001b[49m\n\u001b[0;32m    343\u001b[0m \u001b[43m\u001b[49m\u001b[43m)\u001b[49m\n",
      "File \u001b[1;32mc:\\sw\\py310nb_env\\Lib\\site-packages\\google\\cloud\\_http\\__init__.py:379\u001b[0m, in \u001b[0;36mJSONConnection._do_request\u001b[1;34m(self, method, url, headers, data, target_object, timeout)\u001b[0m\n\u001b[0;32m    345\u001b[0m \u001b[38;5;28;01mdef\u001b[39;00m \u001b[38;5;21m_do_request\u001b[39m(\n\u001b[0;32m    346\u001b[0m     \u001b[38;5;28mself\u001b[39m, method, url, headers, data, target_object, timeout\u001b[38;5;241m=\u001b[39m_DEFAULT_TIMEOUT\n\u001b[0;32m    347\u001b[0m ):  \u001b[38;5;66;03m# pylint: disable=unused-argument\u001b[39;00m\n\u001b[0;32m    348\u001b[0m \u001b[38;5;250m    \u001b[39m\u001b[38;5;124;03m\"\"\"Low-level helper:  perform the actual API request over HTTP.\u001b[39;00m\n\u001b[0;32m    349\u001b[0m \n\u001b[0;32m    350\u001b[0m \u001b[38;5;124;03m    Allows batch context managers to override and defer a request.\u001b[39;00m\n\u001b[1;32m   (...)\u001b[0m\n\u001b[0;32m    377\u001b[0m \u001b[38;5;124;03m    :returns: The HTTP response.\u001b[39;00m\n\u001b[0;32m    378\u001b[0m \u001b[38;5;124;03m    \"\"\"\u001b[39;00m\n\u001b[1;32m--> 379\u001b[0m     \u001b[38;5;28;01mreturn\u001b[39;00m \u001b[38;5;28;43mself\u001b[39;49m\u001b[38;5;241;43m.\u001b[39;49m\u001b[43mhttp\u001b[49m\u001b[38;5;241;43m.\u001b[39;49m\u001b[43mrequest\u001b[49m\u001b[43m(\u001b[49m\n\u001b[0;32m    380\u001b[0m \u001b[43m        \u001b[49m\u001b[43murl\u001b[49m\u001b[38;5;241;43m=\u001b[39;49m\u001b[43murl\u001b[49m\u001b[43m,\u001b[49m\u001b[43m \u001b[49m\u001b[43mmethod\u001b[49m\u001b[38;5;241;43m=\u001b[39;49m\u001b[43mmethod\u001b[49m\u001b[43m,\u001b[49m\u001b[43m \u001b[49m\u001b[43mheaders\u001b[49m\u001b[38;5;241;43m=\u001b[39;49m\u001b[43mheaders\u001b[49m\u001b[43m,\u001b[49m\u001b[43m \u001b[49m\u001b[43mdata\u001b[49m\u001b[38;5;241;43m=\u001b[39;49m\u001b[43mdata\u001b[49m\u001b[43m,\u001b[49m\u001b[43m \u001b[49m\u001b[43mtimeout\u001b[49m\u001b[38;5;241;43m=\u001b[39;49m\u001b[43mtimeout\u001b[49m\n\u001b[0;32m    381\u001b[0m \u001b[43m    \u001b[49m\u001b[43m)\u001b[49m\n",
      "File \u001b[1;32mc:\\sw\\py310nb_env\\Lib\\site-packages\\google\\auth\\transport\\requests.py:549\u001b[0m, in \u001b[0;36mAuthorizedSession.request\u001b[1;34m(self, method, url, data, headers, max_allowed_time, timeout, **kwargs)\u001b[0m\n\u001b[0;32m    546\u001b[0m remaining_time \u001b[38;5;241m=\u001b[39m guard\u001b[38;5;241m.\u001b[39mremaining_timeout\n\u001b[0;32m    548\u001b[0m \u001b[38;5;28;01mwith\u001b[39;00m TimeoutGuard(remaining_time) \u001b[38;5;28;01mas\u001b[39;00m guard:\n\u001b[1;32m--> 549\u001b[0m     response \u001b[38;5;241m=\u001b[39m \u001b[38;5;28;43msuper\u001b[39;49m\u001b[43m(\u001b[49m\u001b[43mAuthorizedSession\u001b[49m\u001b[43m,\u001b[49m\u001b[43m \u001b[49m\u001b[38;5;28;43mself\u001b[39;49m\u001b[43m)\u001b[49m\u001b[38;5;241;43m.\u001b[39;49m\u001b[43mrequest\u001b[49m\u001b[43m(\u001b[49m\n\u001b[0;32m    550\u001b[0m \u001b[43m        \u001b[49m\u001b[43mmethod\u001b[49m\u001b[43m,\u001b[49m\n\u001b[0;32m    551\u001b[0m \u001b[43m        \u001b[49m\u001b[43murl\u001b[49m\u001b[43m,\u001b[49m\n\u001b[0;32m    552\u001b[0m \u001b[43m        \u001b[49m\u001b[43mdata\u001b[49m\u001b[38;5;241;43m=\u001b[39;49m\u001b[43mdata\u001b[49m\u001b[43m,\u001b[49m\n\u001b[0;32m    553\u001b[0m \u001b[43m        \u001b[49m\u001b[43mheaders\u001b[49m\u001b[38;5;241;43m=\u001b[39;49m\u001b[43mrequest_headers\u001b[49m\u001b[43m,\u001b[49m\n\u001b[0;32m    554\u001b[0m \u001b[43m        \u001b[49m\u001b[43mtimeout\u001b[49m\u001b[38;5;241;43m=\u001b[39;49m\u001b[43mtimeout\u001b[49m\u001b[43m,\u001b[49m\n\u001b[0;32m    555\u001b[0m \u001b[43m        \u001b[49m\u001b[38;5;241;43m*\u001b[39;49m\u001b[38;5;241;43m*\u001b[39;49m\u001b[43mkwargs\u001b[49m\n\u001b[0;32m    556\u001b[0m \u001b[43m    \u001b[49m\u001b[43m)\u001b[49m\n\u001b[0;32m    557\u001b[0m remaining_time \u001b[38;5;241m=\u001b[39m guard\u001b[38;5;241m.\u001b[39mremaining_timeout\n\u001b[0;32m    559\u001b[0m \u001b[38;5;66;03m# If the response indicated that the credentials needed to be\u001b[39;00m\n\u001b[0;32m    560\u001b[0m \u001b[38;5;66;03m# refreshed, then refresh the credentials and re-attempt the\u001b[39;00m\n\u001b[0;32m    561\u001b[0m \u001b[38;5;66;03m# request.\u001b[39;00m\n\u001b[0;32m    562\u001b[0m \u001b[38;5;66;03m# A stored token may expire between the time it is retrieved and\u001b[39;00m\n\u001b[0;32m    563\u001b[0m \u001b[38;5;66;03m# the time the request is made, so we may need to try twice.\u001b[39;00m\n",
      "File \u001b[1;32mc:\\sw\\py310nb_env\\Lib\\site-packages\\requests\\sessions.py:587\u001b[0m, in \u001b[0;36mSession.request\u001b[1;34m(self, method, url, params, data, headers, cookies, files, auth, timeout, allow_redirects, proxies, hooks, stream, verify, cert, json)\u001b[0m\n\u001b[0;32m    582\u001b[0m send_kwargs \u001b[38;5;241m=\u001b[39m {\n\u001b[0;32m    583\u001b[0m     \u001b[38;5;124m\"\u001b[39m\u001b[38;5;124mtimeout\u001b[39m\u001b[38;5;124m\"\u001b[39m: timeout,\n\u001b[0;32m    584\u001b[0m     \u001b[38;5;124m\"\u001b[39m\u001b[38;5;124mallow_redirects\u001b[39m\u001b[38;5;124m\"\u001b[39m: allow_redirects,\n\u001b[0;32m    585\u001b[0m }\n\u001b[0;32m    586\u001b[0m send_kwargs\u001b[38;5;241m.\u001b[39mupdate(settings)\n\u001b[1;32m--> 587\u001b[0m resp \u001b[38;5;241m=\u001b[39m \u001b[38;5;28;43mself\u001b[39;49m\u001b[38;5;241;43m.\u001b[39;49m\u001b[43msend\u001b[49m\u001b[43m(\u001b[49m\u001b[43mprep\u001b[49m\u001b[43m,\u001b[49m\u001b[43m \u001b[49m\u001b[38;5;241;43m*\u001b[39;49m\u001b[38;5;241;43m*\u001b[39;49m\u001b[43msend_kwargs\u001b[49m\u001b[43m)\u001b[49m\n\u001b[0;32m    589\u001b[0m \u001b[38;5;28;01mreturn\u001b[39;00m resp\n",
      "File \u001b[1;32mc:\\sw\\py310nb_env\\Lib\\site-packages\\requests\\sessions.py:701\u001b[0m, in \u001b[0;36mSession.send\u001b[1;34m(self, request, **kwargs)\u001b[0m\n\u001b[0;32m    698\u001b[0m start \u001b[38;5;241m=\u001b[39m preferred_clock()\n\u001b[0;32m    700\u001b[0m \u001b[38;5;66;03m# Send the request\u001b[39;00m\n\u001b[1;32m--> 701\u001b[0m r \u001b[38;5;241m=\u001b[39m \u001b[43madapter\u001b[49m\u001b[38;5;241;43m.\u001b[39;49m\u001b[43msend\u001b[49m\u001b[43m(\u001b[49m\u001b[43mrequest\u001b[49m\u001b[43m,\u001b[49m\u001b[43m \u001b[49m\u001b[38;5;241;43m*\u001b[39;49m\u001b[38;5;241;43m*\u001b[39;49m\u001b[43mkwargs\u001b[49m\u001b[43m)\u001b[49m\n\u001b[0;32m    703\u001b[0m \u001b[38;5;66;03m# Total elapsed time of the request (approximately)\u001b[39;00m\n\u001b[0;32m    704\u001b[0m elapsed \u001b[38;5;241m=\u001b[39m preferred_clock() \u001b[38;5;241m-\u001b[39m start\n",
      "File \u001b[1;32mc:\\sw\\py310nb_env\\Lib\\site-packages\\requests\\adapters.py:489\u001b[0m, in \u001b[0;36mHTTPAdapter.send\u001b[1;34m(self, request, stream, timeout, verify, cert, proxies)\u001b[0m\n\u001b[0;32m    487\u001b[0m \u001b[38;5;28;01mtry\u001b[39;00m:\n\u001b[0;32m    488\u001b[0m     \u001b[38;5;28;01mif\u001b[39;00m \u001b[38;5;129;01mnot\u001b[39;00m chunked:\n\u001b[1;32m--> 489\u001b[0m         resp \u001b[38;5;241m=\u001b[39m \u001b[43mconn\u001b[49m\u001b[38;5;241;43m.\u001b[39;49m\u001b[43murlopen\u001b[49m\u001b[43m(\u001b[49m\n\u001b[0;32m    490\u001b[0m \u001b[43m            \u001b[49m\u001b[43mmethod\u001b[49m\u001b[38;5;241;43m=\u001b[39;49m\u001b[43mrequest\u001b[49m\u001b[38;5;241;43m.\u001b[39;49m\u001b[43mmethod\u001b[49m\u001b[43m,\u001b[49m\n\u001b[0;32m    491\u001b[0m \u001b[43m            \u001b[49m\u001b[43murl\u001b[49m\u001b[38;5;241;43m=\u001b[39;49m\u001b[43murl\u001b[49m\u001b[43m,\u001b[49m\n\u001b[0;32m    492\u001b[0m \u001b[43m            \u001b[49m\u001b[43mbody\u001b[49m\u001b[38;5;241;43m=\u001b[39;49m\u001b[43mrequest\u001b[49m\u001b[38;5;241;43m.\u001b[39;49m\u001b[43mbody\u001b[49m\u001b[43m,\u001b[49m\n\u001b[0;32m    493\u001b[0m \u001b[43m            \u001b[49m\u001b[43mheaders\u001b[49m\u001b[38;5;241;43m=\u001b[39;49m\u001b[43mrequest\u001b[49m\u001b[38;5;241;43m.\u001b[39;49m\u001b[43mheaders\u001b[49m\u001b[43m,\u001b[49m\n\u001b[0;32m    494\u001b[0m \u001b[43m            \u001b[49m\u001b[43mredirect\u001b[49m\u001b[38;5;241;43m=\u001b[39;49m\u001b[38;5;28;43;01mFalse\u001b[39;49;00m\u001b[43m,\u001b[49m\n\u001b[0;32m    495\u001b[0m \u001b[43m            \u001b[49m\u001b[43massert_same_host\u001b[49m\u001b[38;5;241;43m=\u001b[39;49m\u001b[38;5;28;43;01mFalse\u001b[39;49;00m\u001b[43m,\u001b[49m\n\u001b[0;32m    496\u001b[0m \u001b[43m            \u001b[49m\u001b[43mpreload_content\u001b[49m\u001b[38;5;241;43m=\u001b[39;49m\u001b[38;5;28;43;01mFalse\u001b[39;49;00m\u001b[43m,\u001b[49m\n\u001b[0;32m    497\u001b[0m \u001b[43m            \u001b[49m\u001b[43mdecode_content\u001b[49m\u001b[38;5;241;43m=\u001b[39;49m\u001b[38;5;28;43;01mFalse\u001b[39;49;00m\u001b[43m,\u001b[49m\n\u001b[0;32m    498\u001b[0m \u001b[43m            \u001b[49m\u001b[43mretries\u001b[49m\u001b[38;5;241;43m=\u001b[39;49m\u001b[38;5;28;43mself\u001b[39;49m\u001b[38;5;241;43m.\u001b[39;49m\u001b[43mmax_retries\u001b[49m\u001b[43m,\u001b[49m\n\u001b[0;32m    499\u001b[0m \u001b[43m            \u001b[49m\u001b[43mtimeout\u001b[49m\u001b[38;5;241;43m=\u001b[39;49m\u001b[43mtimeout\u001b[49m\u001b[43m,\u001b[49m\n\u001b[0;32m    500\u001b[0m \u001b[43m        \u001b[49m\u001b[43m)\u001b[49m\n\u001b[0;32m    502\u001b[0m     \u001b[38;5;66;03m# Send the request.\u001b[39;00m\n\u001b[0;32m    503\u001b[0m     \u001b[38;5;28;01melse\u001b[39;00m:\n\u001b[0;32m    504\u001b[0m         \u001b[38;5;28;01mif\u001b[39;00m \u001b[38;5;28mhasattr\u001b[39m(conn, \u001b[38;5;124m\"\u001b[39m\u001b[38;5;124mproxy_pool\u001b[39m\u001b[38;5;124m\"\u001b[39m):\n",
      "File \u001b[1;32mc:\\sw\\py310nb_env\\Lib\\site-packages\\urllib3\\connectionpool.py:703\u001b[0m, in \u001b[0;36mHTTPConnectionPool.urlopen\u001b[1;34m(self, method, url, body, headers, retries, redirect, assert_same_host, timeout, pool_timeout, release_conn, chunked, body_pos, **response_kw)\u001b[0m\n\u001b[0;32m    700\u001b[0m     \u001b[38;5;28mself\u001b[39m\u001b[38;5;241m.\u001b[39m_prepare_proxy(conn)\n\u001b[0;32m    702\u001b[0m \u001b[38;5;66;03m# Make the request on the httplib connection object.\u001b[39;00m\n\u001b[1;32m--> 703\u001b[0m httplib_response \u001b[38;5;241m=\u001b[39m \u001b[38;5;28;43mself\u001b[39;49m\u001b[38;5;241;43m.\u001b[39;49m\u001b[43m_make_request\u001b[49m\u001b[43m(\u001b[49m\n\u001b[0;32m    704\u001b[0m \u001b[43m    \u001b[49m\u001b[43mconn\u001b[49m\u001b[43m,\u001b[49m\n\u001b[0;32m    705\u001b[0m \u001b[43m    \u001b[49m\u001b[43mmethod\u001b[49m\u001b[43m,\u001b[49m\n\u001b[0;32m    706\u001b[0m \u001b[43m    \u001b[49m\u001b[43murl\u001b[49m\u001b[43m,\u001b[49m\n\u001b[0;32m    707\u001b[0m \u001b[43m    \u001b[49m\u001b[43mtimeout\u001b[49m\u001b[38;5;241;43m=\u001b[39;49m\u001b[43mtimeout_obj\u001b[49m\u001b[43m,\u001b[49m\n\u001b[0;32m    708\u001b[0m \u001b[43m    \u001b[49m\u001b[43mbody\u001b[49m\u001b[38;5;241;43m=\u001b[39;49m\u001b[43mbody\u001b[49m\u001b[43m,\u001b[49m\n\u001b[0;32m    709\u001b[0m \u001b[43m    \u001b[49m\u001b[43mheaders\u001b[49m\u001b[38;5;241;43m=\u001b[39;49m\u001b[43mheaders\u001b[49m\u001b[43m,\u001b[49m\n\u001b[0;32m    710\u001b[0m \u001b[43m    \u001b[49m\u001b[43mchunked\u001b[49m\u001b[38;5;241;43m=\u001b[39;49m\u001b[43mchunked\u001b[49m\u001b[43m,\u001b[49m\n\u001b[0;32m    711\u001b[0m \u001b[43m\u001b[49m\u001b[43m)\u001b[49m\n\u001b[0;32m    713\u001b[0m \u001b[38;5;66;03m# If we're going to release the connection in ``finally:``, then\u001b[39;00m\n\u001b[0;32m    714\u001b[0m \u001b[38;5;66;03m# the response doesn't need to know about the connection. Otherwise\u001b[39;00m\n\u001b[0;32m    715\u001b[0m \u001b[38;5;66;03m# it will also try to release it and we'll have a double-release\u001b[39;00m\n\u001b[0;32m    716\u001b[0m \u001b[38;5;66;03m# mess.\u001b[39;00m\n\u001b[0;32m    717\u001b[0m response_conn \u001b[38;5;241m=\u001b[39m conn \u001b[38;5;28;01mif\u001b[39;00m \u001b[38;5;129;01mnot\u001b[39;00m release_conn \u001b[38;5;28;01melse\u001b[39;00m \u001b[38;5;28;01mNone\u001b[39;00m\n",
      "File \u001b[1;32mc:\\sw\\py310nb_env\\Lib\\site-packages\\urllib3\\connectionpool.py:449\u001b[0m, in \u001b[0;36mHTTPConnectionPool._make_request\u001b[1;34m(self, conn, method, url, timeout, chunked, **httplib_request_kw)\u001b[0m\n\u001b[0;32m    444\u001b[0m             httplib_response \u001b[38;5;241m=\u001b[39m conn\u001b[38;5;241m.\u001b[39mgetresponse()\n\u001b[0;32m    445\u001b[0m         \u001b[38;5;28;01mexcept\u001b[39;00m \u001b[38;5;167;01mBaseException\u001b[39;00m \u001b[38;5;28;01mas\u001b[39;00m e:\n\u001b[0;32m    446\u001b[0m             \u001b[38;5;66;03m# Remove the TypeError from the exception chain in\u001b[39;00m\n\u001b[0;32m    447\u001b[0m             \u001b[38;5;66;03m# Python 3 (including for exceptions like SystemExit).\u001b[39;00m\n\u001b[0;32m    448\u001b[0m             \u001b[38;5;66;03m# Otherwise it looks like a bug in the code.\u001b[39;00m\n\u001b[1;32m--> 449\u001b[0m             \u001b[43msix\u001b[49m\u001b[38;5;241;43m.\u001b[39;49m\u001b[43mraise_from\u001b[49m\u001b[43m(\u001b[49m\u001b[43me\u001b[49m\u001b[43m,\u001b[49m\u001b[43m \u001b[49m\u001b[38;5;28;43;01mNone\u001b[39;49;00m\u001b[43m)\u001b[49m\n\u001b[0;32m    450\u001b[0m \u001b[38;5;28;01mexcept\u001b[39;00m (SocketTimeout, BaseSSLError, SocketError) \u001b[38;5;28;01mas\u001b[39;00m e:\n\u001b[0;32m    451\u001b[0m     \u001b[38;5;28mself\u001b[39m\u001b[38;5;241m.\u001b[39m_raise_timeout(err\u001b[38;5;241m=\u001b[39me, url\u001b[38;5;241m=\u001b[39murl, timeout_value\u001b[38;5;241m=\u001b[39mread_timeout)\n",
      "File \u001b[1;32m<string>:3\u001b[0m, in \u001b[0;36mraise_from\u001b[1;34m(value, from_value)\u001b[0m\n",
      "File \u001b[1;32mc:\\sw\\py310nb_env\\Lib\\site-packages\\urllib3\\connectionpool.py:444\u001b[0m, in \u001b[0;36mHTTPConnectionPool._make_request\u001b[1;34m(self, conn, method, url, timeout, chunked, **httplib_request_kw)\u001b[0m\n\u001b[0;32m    441\u001b[0m \u001b[38;5;28;01mexcept\u001b[39;00m \u001b[38;5;167;01mTypeError\u001b[39;00m:\n\u001b[0;32m    442\u001b[0m     \u001b[38;5;66;03m# Python 3\u001b[39;00m\n\u001b[0;32m    443\u001b[0m     \u001b[38;5;28;01mtry\u001b[39;00m:\n\u001b[1;32m--> 444\u001b[0m         httplib_response \u001b[38;5;241m=\u001b[39m \u001b[43mconn\u001b[49m\u001b[38;5;241;43m.\u001b[39;49m\u001b[43mgetresponse\u001b[49m\u001b[43m(\u001b[49m\u001b[43m)\u001b[49m\n\u001b[0;32m    445\u001b[0m     \u001b[38;5;28;01mexcept\u001b[39;00m \u001b[38;5;167;01mBaseException\u001b[39;00m \u001b[38;5;28;01mas\u001b[39;00m e:\n\u001b[0;32m    446\u001b[0m         \u001b[38;5;66;03m# Remove the TypeError from the exception chain in\u001b[39;00m\n\u001b[0;32m    447\u001b[0m         \u001b[38;5;66;03m# Python 3 (including for exceptions like SystemExit).\u001b[39;00m\n\u001b[0;32m    448\u001b[0m         \u001b[38;5;66;03m# Otherwise it looks like a bug in the code.\u001b[39;00m\n\u001b[0;32m    449\u001b[0m         six\u001b[38;5;241m.\u001b[39mraise_from(e, \u001b[38;5;28;01mNone\u001b[39;00m)\n",
      "File \u001b[1;32mc:\\sw\\py310nb_env\\Lib\\http\\client.py:1374\u001b[0m, in \u001b[0;36mHTTPConnection.getresponse\u001b[1;34m(self)\u001b[0m\n\u001b[0;32m   1372\u001b[0m \u001b[38;5;28;01mtry\u001b[39;00m:\n\u001b[0;32m   1373\u001b[0m     \u001b[38;5;28;01mtry\u001b[39;00m:\n\u001b[1;32m-> 1374\u001b[0m         \u001b[43mresponse\u001b[49m\u001b[38;5;241;43m.\u001b[39;49m\u001b[43mbegin\u001b[49m\u001b[43m(\u001b[49m\u001b[43m)\u001b[49m\n\u001b[0;32m   1375\u001b[0m     \u001b[38;5;28;01mexcept\u001b[39;00m \u001b[38;5;167;01mConnectionError\u001b[39;00m:\n\u001b[0;32m   1376\u001b[0m         \u001b[38;5;28mself\u001b[39m\u001b[38;5;241m.\u001b[39mclose()\n",
      "File \u001b[1;32mc:\\sw\\py310nb_env\\Lib\\http\\client.py:318\u001b[0m, in \u001b[0;36mHTTPResponse.begin\u001b[1;34m(self)\u001b[0m\n\u001b[0;32m    316\u001b[0m \u001b[38;5;66;03m# read until we get a non-100 response\u001b[39;00m\n\u001b[0;32m    317\u001b[0m \u001b[38;5;28;01mwhile\u001b[39;00m \u001b[38;5;28;01mTrue\u001b[39;00m:\n\u001b[1;32m--> 318\u001b[0m     version, status, reason \u001b[38;5;241m=\u001b[39m \u001b[38;5;28;43mself\u001b[39;49m\u001b[38;5;241;43m.\u001b[39;49m\u001b[43m_read_status\u001b[49m\u001b[43m(\u001b[49m\u001b[43m)\u001b[49m\n\u001b[0;32m    319\u001b[0m     \u001b[38;5;28;01mif\u001b[39;00m status \u001b[38;5;241m!=\u001b[39m CONTINUE:\n\u001b[0;32m    320\u001b[0m         \u001b[38;5;28;01mbreak\u001b[39;00m\n",
      "File \u001b[1;32mc:\\sw\\py310nb_env\\Lib\\http\\client.py:279\u001b[0m, in \u001b[0;36mHTTPResponse._read_status\u001b[1;34m(self)\u001b[0m\n\u001b[0;32m    278\u001b[0m \u001b[38;5;28;01mdef\u001b[39;00m \u001b[38;5;21m_read_status\u001b[39m(\u001b[38;5;28mself\u001b[39m):\n\u001b[1;32m--> 279\u001b[0m     line \u001b[38;5;241m=\u001b[39m \u001b[38;5;28mstr\u001b[39m(\u001b[38;5;28mself\u001b[39m\u001b[38;5;241m.\u001b[39mfp\u001b[38;5;241m.\u001b[39mreadline(_MAXLINE \u001b[38;5;241m+\u001b[39m \u001b[38;5;241m1\u001b[39m), \u001b[38;5;124m\"\u001b[39m\u001b[38;5;124miso-8859-1\u001b[39m\u001b[38;5;124m\"\u001b[39m)\n\u001b[0;32m    280\u001b[0m     \u001b[38;5;28;01mif\u001b[39;00m \u001b[38;5;28mlen\u001b[39m(line) \u001b[38;5;241m>\u001b[39m _MAXLINE:\n\u001b[0;32m    281\u001b[0m         \u001b[38;5;28;01mraise\u001b[39;00m LineTooLong(\u001b[38;5;124m\"\u001b[39m\u001b[38;5;124mstatus line\u001b[39m\u001b[38;5;124m\"\u001b[39m)\n",
      "File \u001b[1;32mc:\\sw\\py310nb_env\\Lib\\socket.py:705\u001b[0m, in \u001b[0;36mSocketIO.readinto\u001b[1;34m(self, b)\u001b[0m\n\u001b[0;32m    703\u001b[0m \u001b[38;5;28;01mwhile\u001b[39;00m \u001b[38;5;28;01mTrue\u001b[39;00m:\n\u001b[0;32m    704\u001b[0m     \u001b[38;5;28;01mtry\u001b[39;00m:\n\u001b[1;32m--> 705\u001b[0m         \u001b[38;5;28;01mreturn\u001b[39;00m \u001b[38;5;28;43mself\u001b[39;49m\u001b[38;5;241;43m.\u001b[39;49m\u001b[43m_sock\u001b[49m\u001b[38;5;241;43m.\u001b[39;49m\u001b[43mrecv_into\u001b[49m\u001b[43m(\u001b[49m\u001b[43mb\u001b[49m\u001b[43m)\u001b[49m\n\u001b[0;32m    706\u001b[0m     \u001b[38;5;28;01mexcept\u001b[39;00m timeout:\n\u001b[0;32m    707\u001b[0m         \u001b[38;5;28mself\u001b[39m\u001b[38;5;241m.\u001b[39m_timeout_occurred \u001b[38;5;241m=\u001b[39m \u001b[38;5;28;01mTrue\u001b[39;00m\n",
      "File \u001b[1;32mc:\\sw\\py310nb_env\\Lib\\ssl.py:1278\u001b[0m, in \u001b[0;36mSSLSocket.recv_into\u001b[1;34m(self, buffer, nbytes, flags)\u001b[0m\n\u001b[0;32m   1274\u001b[0m     \u001b[38;5;28;01mif\u001b[39;00m flags \u001b[38;5;241m!=\u001b[39m \u001b[38;5;241m0\u001b[39m:\n\u001b[0;32m   1275\u001b[0m         \u001b[38;5;28;01mraise\u001b[39;00m \u001b[38;5;167;01mValueError\u001b[39;00m(\n\u001b[0;32m   1276\u001b[0m           \u001b[38;5;124m\"\u001b[39m\u001b[38;5;124mnon-zero flags not allowed in calls to recv_into() on \u001b[39m\u001b[38;5;132;01m%s\u001b[39;00m\u001b[38;5;124m\"\u001b[39m \u001b[38;5;241m%\u001b[39m\n\u001b[0;32m   1277\u001b[0m           \u001b[38;5;28mself\u001b[39m\u001b[38;5;241m.\u001b[39m\u001b[38;5;18m__class__\u001b[39m)\n\u001b[1;32m-> 1278\u001b[0m     \u001b[38;5;28;01mreturn\u001b[39;00m \u001b[38;5;28;43mself\u001b[39;49m\u001b[38;5;241;43m.\u001b[39;49m\u001b[43mread\u001b[49m\u001b[43m(\u001b[49m\u001b[43mnbytes\u001b[49m\u001b[43m,\u001b[49m\u001b[43m \u001b[49m\u001b[43mbuffer\u001b[49m\u001b[43m)\u001b[49m\n\u001b[0;32m   1279\u001b[0m \u001b[38;5;28;01melse\u001b[39;00m:\n\u001b[0;32m   1280\u001b[0m     \u001b[38;5;28;01mreturn\u001b[39;00m \u001b[38;5;28msuper\u001b[39m()\u001b[38;5;241m.\u001b[39mrecv_into(buffer, nbytes, flags)\n",
      "File \u001b[1;32mc:\\sw\\py310nb_env\\Lib\\ssl.py:1134\u001b[0m, in \u001b[0;36mSSLSocket.read\u001b[1;34m(self, len, buffer)\u001b[0m\n\u001b[0;32m   1132\u001b[0m \u001b[38;5;28;01mtry\u001b[39;00m:\n\u001b[0;32m   1133\u001b[0m     \u001b[38;5;28;01mif\u001b[39;00m buffer \u001b[38;5;129;01mis\u001b[39;00m \u001b[38;5;129;01mnot\u001b[39;00m \u001b[38;5;28;01mNone\u001b[39;00m:\n\u001b[1;32m-> 1134\u001b[0m         \u001b[38;5;28;01mreturn\u001b[39;00m \u001b[38;5;28;43mself\u001b[39;49m\u001b[38;5;241;43m.\u001b[39;49m\u001b[43m_sslobj\u001b[49m\u001b[38;5;241;43m.\u001b[39;49m\u001b[43mread\u001b[49m\u001b[43m(\u001b[49m\u001b[38;5;28;43mlen\u001b[39;49m\u001b[43m,\u001b[49m\u001b[43m \u001b[49m\u001b[43mbuffer\u001b[49m\u001b[43m)\u001b[49m\n\u001b[0;32m   1135\u001b[0m     \u001b[38;5;28;01melse\u001b[39;00m:\n\u001b[0;32m   1136\u001b[0m         \u001b[38;5;28;01mreturn\u001b[39;00m \u001b[38;5;28mself\u001b[39m\u001b[38;5;241m.\u001b[39m_sslobj\u001b[38;5;241m.\u001b[39mread(\u001b[38;5;28mlen\u001b[39m)\n",
      "\u001b[1;31mKeyboardInterrupt\u001b[0m: "
     ]
    }
   ],
   "source": [
    "\"\"\"\n",
    "Manually rename to retrigger the processing...\n",
    "- You can change waypoint from venue to general\n",
    "\"\"\"\n",
    "\"* Storage: /uploads/race/time~wpt~user~loc~file    # uploaded images\"\n",
    "i=0\n",
    "folder=f'uploads/{raceId}/'\n",
    "import concurrent.futures \n",
    "def getNewfileName(file,\n",
    "                   user=cfg['uploads'][raceId]['userid'],\n",
    "                   place=cfg['uploads'][raceId]['waypoint']):\n",
    "    return \"~\".join([getFileIsoDate(file),place,user,getFileName(file)])\n",
    "\n",
    "def uploadFile(root,name):\n",
    "    path=os.path.join(root, name)\n",
    "    new=folder+getNewfileName(path)\n",
    "    # blob=bucket.blob(folder+name) #used when renaming to diff filenames\n",
    "    blob=bucket.blob(new)\n",
    "\n",
    "    if blob.exists():\n",
    "        print(stats['files'],'blob exists/rewriting',name,new)\n",
    "        blob.rewrite(blob)\n",
    "    else:\n",
    "        threads.append({new:executor.submit(blob.upload_from_filename,path)})\n",
    "        print(stats['files'],f'uploading {path} to {new}', )\n",
    "        # blob.upload_from_filename(path)\n",
    "        \n",
    "\n",
    "stats={\"files\":0,'upl':0}\n",
    "prefix=f'processed/{raceId}'\n",
    "\n",
    "all_blobs_l=[blob.name.split(\"~\")[-1] for blob in bucket.list_blobs(prefix=prefix)]\n",
    "executor=concurrent.futures.ThreadPoolExecutor(max_workers=5)\n",
    "threads=[]\n",
    "\n",
    "for lot in cfg['uploads'].keys():\n",
    "    _dir=cfg['uploads'][lot]['path'].lower()\n",
    "    print(\"raceId\",lot,_dir,f\"{len(all_blobs_l)} in {prefix}  ====================\")\n",
    "    # for root, dirs, files in os.walk(cfg['uploads'][lot]['path'], topdown=False):\n",
    "    for i,d in df_dir.query(f\"(type=='file') and (root.str.lower() == @_dir)\"\n",
    "                             ).iterrows():\n",
    "        stats['files']+=1\n",
    "        if not d.path in all_blobs_l:\n",
    "            uploadFile(d.root,d.path)\n",
    "            stats['upl']+=1\n",
    "        else:\n",
    "            print(prefix,d.path ,\"found\")\n",
    "            pass\n",
    "        # if (stats['files']>20): raise  #stopper\n",
    "    print(f\"{lot}: {stats['files']} files\")\n",
    "print(stats)"
   ]
  },
  {
   "cell_type": "code",
   "execution_count": null,
   "id": "583c78d4-7c5c-4e9a-b62b-3fe4eb736e4c",
   "metadata": {},
   "outputs": [],
   "source": [
    "\"\"\"\n",
    "    find object from gcs\n",
    "    \n",
    "\"\"\"\n",
    "display(Markdown(\"## rename blob\"))\n",
    "# bucket.blob('uploads/werun2023/_L3A3192.jpg').rewrite\n",
    "# blob.rewrite?\n",
    "bname='2023-03-13T19:23:14.739819~general~vaibhav~_L3A2997.jpg'\n",
    "def renameBlob(bname):\n",
    "    bucket.rename_blob(bucket.blob(bname),folder+bname)\n",
    "# renameBlob(bname) \n",
    "\"use 2: existence check\"\n",
    "bucket.blob('error in getDownloadURL thumbs/werun2023/2023-03-13T19:23:42.882584~general~vaibhav~_L3A3007.jpg').exists()"
   ]
  },
  {
   "cell_type": "markdown",
   "id": "42bc901d-b835-4167-9ff4-d13f54bbeb19",
   "metadata": {},
   "source": [
    "## check storage file (which folder?)"
   ]
  },
  {
   "cell_type": "code",
   "execution_count": null,
   "id": "eda2194b-0a52-46f1-bf49-a5f1f9bc8f8d",
   "metadata": {},
   "outputs": [],
   "source": [
    "# check existance\n",
    "# _path=r\"processed/mychoice23feb/2023-02-12T01:28:29.364Z^venue^avinashmane$gmail.com^20230212_065828.jpg\"\n",
    "_path=\"processed/werun2023/2023-03-13T19:25:41.041091~general~vaibhav~_L3A3047.jpg\"\n",
    "[_,_raceId,_name]=_path.split(\"/\")\n",
    "\n",
    "print(_,_raceId,_name,)\n",
    "for r in ['default',_raceId]:\n",
    "    for t in 'processed thumbs uploads'.split():\n",
    "        newName=\"/\".join([t,r,_name])\n",
    "        _blob=bucket.blob(newName)\n",
    "        print(newName,_blob.exists() )\n"
   ]
  },
  {
   "cell_type": "markdown",
   "id": "8f2468ca-49d1-4d13-8249-f3c8a9892695",
   "metadata": {},
   "source": [
    "## check all images in the race"
   ]
  },
  {
   "cell_type": "code",
   "execution_count": null,
   "id": "8d4857ab-aadd-41ac-a337-ebfc7388af6f",
   "metadata": {},
   "outputs": [],
   "source": [
    "df_images=fs2Df(f'races/{raceId}/images')\n",
    "df_images.shape"
   ]
  },
  {
   "cell_type": "code",
   "execution_count": null,
   "id": "fad3cbe4-61ea-4119-a083-28715764d150",
   "metadata": {},
   "outputs": [],
   "source": [
    "# df_images['imagePath'].value_counts()\n",
    "def checkBlobs(x,types=['processed','thumbs']):\n",
    "    return [bucket.blob(f'{typ}/{raceId}/{x}').exists() \n",
    "                                        for typ in types]\n",
    "def moveBlob(x,typ='thumbs'): #'processed',\n",
    "    correctName=f'{typ}/{raceId}/{x}'\n",
    "    if not bucket.blob(correctName).exists() :\n",
    "        defaultThumb=bucket.blob(f'{typ}/default/{x}')\n",
    "        \n",
    "        if defaultThumb.exists():\n",
    "            bucket.rename_blob(defaultThumb,f'{typ}/{raceId}/{x}')\n",
    "            print(f\"{correctName} not exists, moving from default\")\n",
    "        else:\n",
    "            procBlob=bucket.blob(f'uploads/{raceId}/{x}')\n",
    "            if procBlob.exists():\n",
    "                print(f\"{procBlob.name} rename the blob to retrigger functions\")\n",
    "                procBlob.rewrite(procBlob)\n",
    "                \n",
    "            else:\n",
    "                procBlob.upload_from_filename(path4file+x.split(\"~\")[-1])\n",
    "                print(f\"need to upload {x}\")\n",
    "    else:\n",
    "        print(f\"{correctName} exists\")\n",
    "\n",
    "path4file=r\"D:\\We Run 2023\\JPEG\\\\\"\n",
    "display(raceId, path4file)\n",
    "df_images['imagePath'].apply(lambda x: moveBlob(x))"
   ]
  },
  {
   "cell_type": "code",
   "execution_count": null,
   "id": "c63abc60-ff96-4234-89f1-583182863bc4",
   "metadata": {},
   "outputs": [],
   "source": [
    "def deleteFSimages4missingBlobs(x,types=['processed','thumbs']):\n",
    "    chk = checkBlobs(x.imagePath)\n",
    "    if not any(chk):\n",
    "        print(chk,x,x.imagePath)\n",
    "        x.ref.delete()\n",
    "df_images.apply(deleteFSimages4missingBlobs ,axis=1)"
   ]
  },
  {
   "cell_type": "code",
   "execution_count": null,
   "id": "a0d4acd9-3ebd-4f58-8e78-5393b7ca5911",
   "metadata": {},
   "outputs": [],
   "source": [
    "df_blob.query(\"name.str.contains('G017')\")"
   ]
  },
  {
   "cell_type": "markdown",
   "id": "19824f9e-ae30-4cd1-83ff-b792e8498f5d",
   "metadata": {},
   "source": [
    "# Other"
   ]
  },
  {
   "cell_type": "code",
   "execution_count": null,
   "id": "5d27839f-5c4c-4a68-8f97-526a2ab0ce73",
   "metadata": {},
   "outputs": [],
   "source": [
    "bucket.blob('processed/werun2023/2023-03-13T19:25:41.041091~general~vaibhav~_L3A3047.jpg').public_url"
   ]
  },
  {
   "cell_type": "markdown",
   "id": "a82a505f-b15e-44c1-96c0-afcedcd6338e",
   "metadata": {},
   "source": [
    "#Files to be deleted\n",
    "\n",
    "raceId mychoice23feb d:\\umesh\\d k d  2023 2\\untitled export 3 in processed/mychoice23feb\n",
    "1 uploading D:\\umesh\\D K D  2023 2\\Untitled Export\\1P6A5534.jpg to uploads/werun2023/2023-03-16T13:57:47.954854~general~bcoconut~1P6A5534.jpg\n",
    "2 uploading D:\\umesh\\D K D  2023 2\\Untitled Export\\1P6A5535.jpg to uploads/werun2023/2023-03-16T13:57:48.517336~general~bcoconut~1P6A5535.jpg\n",
    "3 uploading D:\\umesh\\D K D  2023 2\\Untitled Export\\1P6A5536.jpg to uploads/werun2023/2023-03-16T13:57:48.861077~general~bcoconut~1P6A5536.jpg\n",
    "4 uploading D:\\umesh\\D K D  2023 2\\Untitled Export\\1P6A5537.jpg to uploads/werun2023/2023-03-16T13:57:49.329810~general~bcoconut~1P6A5537.jpg\n",
    "5 uploading D:\\umesh\\D K D  2023 2\\Untitled Export\\1P6A5538.jpg to uploads/werun2023/2023-03-16T13:57:49.829797~general~bcoconut~1P6A5538.jpg\n",
    "6 uploading D:\\umesh\\D K D  2023 2\\Untitled Export\\1P6A5539.jpg to uploads/werun2023/2023-03-16T13:57:50.673521~general~bcoconut~1P6A5539.jpg\n",
    "7 uploading D:\\umesh\\D K D  2023 2\\Untitled Export\\1P6A5540.jpg to uploads/werun2023/2023-03-16T13:57:51.251623~general~bcoconut~1P6A5540.jpg\n",
    "8 uploading D:\\umesh\\D K D  2023 2\\Untitled Export\\1P6A5541.jpg to uploads/werun2023/2023-03-16T13:57:52.095346~general~bcoconut~1P6A5541.jpg\n",
    "9 uploading D:\\umesh\\D K D  2023 2\\Untitled Export\\1P6A5542.jpg to uploads/werun2023/2023-03-16T13:57:52.798449~general~bcoconut~1P6A5542.jpg\n",
    "10 uploading D:\\umesh\\D K D  2023 2\\Untitled Export\\1P6A5543.jpg to uploads/werun2023/2023-03-16T13:57:53.782791~general~bcoconut~1P6A5543.jpg\n",
    "11 uploading D:\\umesh\\D K D  2023 2\\Untitled Export\\1P6A5544.jpg to uploads/werun2023/2023-03-16T13:57:54.360898~general~bcoconut~1P6A5544.jpg\n",
    "12 uploading D:\\umesh\\D K D  2023 2\\Untitled Export\\1P6A5545.jpg to uploads/werun2023/2023-03-16T13:57:54.907755~general~bcoconut~1P6A5545.jpg\n",
    "13 uploading D:\\umesh\\D K D  2023 2\\Untitled Export\\1P6A5546.jpg to uploads/werun2023/2023-03-16T13:57:55.392115~general~bcoconut~1P6A5546.jpg\n",
    "14 uploading D:\\umesh\\D K D  2023 2\\Untitled Export\\1P6A5547.jpg to uploads/werun2023/2023-03-16T13:57:55.892099~general~bcoconut~1P6A5547.jpg\n",
    "15 uploading D:\\umesh\\D K D  2023 2\\Untitled Export\\1P6A5548.jpg to uploads/werun2023/2023-03-16T13:57:56.204588~general~bcoconut~1P6A5548.jpg\n",
    "16 uploading D:\\umesh\\D K D  2023 2\\Untitled Export\\1P6A5549.jpg to uploads/werun2023/2023-03-16T13:57:56.626450~general~bcoconut~1P6A5549.jpg\n",
    "17 uploading D:\\umesh\\D K D  2023 2\\Untitled Export\\1P6A5550.jpg to uploads/werun2023/2023-03-16T13:57:57.032689~general~bcoconut~1P6A5550.jpg\n",
    "18 uploading D:\\umesh\\D K D  2023 2\\Untitled Export\\1P6A5551.jpg to uploads/werun2023/2023-03-16T13:57:57.501423~general~bcoconut~1P6A5551.jpg\n",
    "19 uploading D:\\umesh\\D K D  2023 2\\Untitled Export\\1P6A5552.jpg to uploads/werun2023/2023-03-16T13:57:57.938908~general~bcoconut~1P6A5552.jpg\n",
    "20 uploading D:\\umesh\\D K D  2023 2\\Untitled Export\\1P6A5553.jpg to uploads/werun2023/2023-03-16T13:57:58.438893~general~bcoconut~1P6A5553.jpg\n",
    "21 uploading D:\\umesh\\D K D  2023 2\\Untitled Export\\1P6A5554.jpg to uploads/werun2023/2023-03-16T13:57:59.110745~general~bcoconut~1P6A5554.jpg\n",
    "22 uploading D:\\umesh\\D K D  2023 2\\Untitled Export\\1P6A5555.jpg to uploads/werun2023/2023-03-16T13:57:59.876345~general~bcoconut~1P6A5555.jpg\n",
    "23 uploading D:\\umesh\\D K D  2023 2\\Untitled Export\\1P6A5556.jpg to uploads/werun2023/2023-03-16T13:58:00.516953~general~bcoconut~1P6A5556.jpg\n",
    "24 uploading D:\\umesh\\D K D  2023 2\\Untitled Export\\1P6A5557.jpg to uploads/werun2023/2023-03-16T13:58:00.923188~general~bcoconut~1P6A5557.jpg\n",
    "25 uploading D:\\umesh\\D K D  2023 2\\Untitled Export\\1P6A5558.jpg to uploads/werun2023/2023-03-16T13:58:01.376301~general~bcoconut~1P6A5558.jpg\n",
    "26 uploading D:\\umesh\\D K D  2023 2\\Untitled Export\\1P6A5559.jpg to uploads/werun2023/2023-03-16T13:58:01.907535~general~bcoconut~1P6A5559.jpg\n",
    "27 uploading D:\\umesh\\D K D  2023 2\\Untitled Export\\1P6A5560.jpg to uploads/werun2023/2023-03-16T13:58:02.610633~general~bcoconut~1P6A5560.jpg\n",
    "28 uploading D:\\umesh\\D K D  2023 2\\Untitled Export\\1P6A5561.jpg to uploads/werun2023/2023-03-16T13:58:03.048121~general~bcoconut~1P6A5561.jpg\n",
    "29 uploading D:\\umesh\\D K D  2023 2\\Untitled Export\\1P6A5562.jpg to uploads/werun2023/2023-03-16T13:58:03.532478~general~bcoconut~1P6A5562.jpg\n",
    "30 uploading D:\\umesh\\D K D  2023 2\\Untitled Export\\1P6A5563.jpg to uploads/werun2023/2023-03-16T13:58:03.969964~general~bcoconut~1P6A5563.jpg\n",
    "31 uploading D:\\umesh\\D K D  2023 2\\Untitled Export\\1P6A5564.jpg to uploads/werun2023/2023-03-16T13:58:04.469950~general~bcoconut~1P6A5564.jpg\n",
    "32 uploading D:\\umesh\\D K D  2023 2\\Untitled Export\\1P6A5565.jpg to uploads/werun2023/2023-03-16T13:58:05.126179~general~bcoconut~1P6A5565.jpg\n",
    "33 uploading D:\\umesh\\D K D  2023 2\\Untitled Export\\1P6A5566.jpg to uploads/werun2023/2023-03-16T13:58:05.501164~general~bcoconut~1P6A5566.jpg\n",
    "34 uploading D:\\umesh\\D K D  2023 2\\Untitled Export\\1P6A5567.jpg to uploads/werun2023/2023-03-16T13:58:05.923026~general~bcoconut~1P6A5567.jpg\n",
    "35 uploading D:\\umesh\\D K D  2023 2\\Untitled Export\\1P6A5568.jpg to uploads/werun2023/2023-03-16T13:58:06.313642~general~bcoconut~1P6A5568.jpg\n",
    "36 uploading D:\\umesh\\D K D  2023 2\\Untitled Export\\1P6A5569.jpg to uploads/werun2023/2023-03-16T13:58:06.766748~general~bcoconut~1P6A5569.jpg\n",
    "37 uploading D:\\umesh\\D K D  2023 2\\Untitled Export\\1P6A5570.jpg to uploads/werun2023/2023-03-16T13:58:07.094863~general~bcoconut~1P6A5570.jpg\n",
    "38 uploading D:\\umesh\\D K D  2023 2\\Untitled Export\\1P6A5571.jpg to uploads/werun2023/2023-03-16T13:58:07.594847~general~bcoconut~1P6A5571.jpg\n",
    "39 uploading D:\\umesh\\D K D  2023 2\\Untitled Export\\1P6A5572.jpg to uploads/werun2023/2023-03-16T13:58:07.938586~general~bcoconut~1P6A5572.jpg\n",
    "40 uploading D:\\umesh\\D K D  2023 2\\Untitled Export\\1P6A5573.jpg to uploads/werun2023/2023-03-16T13:58:08.282328~general~bcoconut~1P6A5573.jpg\n",
    "41 uploading D:\\umesh\\D K D  2023 2\\Untitled Export\\1P6A5575.jpg to uploads/werun2023/2023-03-16T13:58:08.735436~general~bcoconut~1P6A5575.jpg\n",
    "42 uploading D:\\umesh\\D K D  2023 2\\Untitled Export\\1P6A5576.jpg to uploads/werun2023/2023-03-16T13:58:09.141680~general~bcoconut~1P6A5576.jpg\n",
    "43 uploading D:\\umesh\\D K D  2023 2\\Untitled Export\\1P6A5577.jpg to uploads/werun2023/2023-03-16T13:58:09.672905~general~bcoconut~1P6A5577.jpg\n",
    "44 uploading D:\\umesh\\D K D  2023 2\\Untitled Export\\1P6A5579.jpg to uploads/werun2023/2023-03-16T13:58:10.047894~general~bcoconut~1P6A5579.jpg\n",
    "45 uploading D:\\umesh\\D K D  2023 2\\Untitled Export\\1P6A5580.jpg to uploads/werun2023/2023-03-16T13:58:10.376008~general~bcoconut~1P6A5580.jpg\n",
    "46 uploading D:\\umesh\\D K D  2023 2\\Untitled Export\\1P6A5581.jpg to uploads/werun2023/2023-03-16T13:58:10.704123~general~bcoconut~1P6A5581.jpg\n",
    "47 uploading D:\\umesh\\D K D  2023 2\\Untitled Export\\1P6A5582.jpg to uploads/werun2023/2023-03-16T13:58:11.110360~general~bcoconut~1P6A5582.jpg\n",
    "48 uploading D:\\umesh\\D K D  2023 2\\Untitled Export\\1P6A5583.jpg to uploads/werun2023/2023-03-16T13:58:11.454099~general~bcoconut~1P6A5583.jpg\n",
    "49 uploading D:\\umesh\\D K D  2023 2\\Untitled Export\\1P6A5585.jpg to uploads/werun2023/2023-03-16T13:58:11.922834~general~bcoconut~1P6A5585.jpg\n",
    "50 uploading D:\\umesh\\D K D  2023 2\\Untitled Export\\1P6A5586.jpg to uploads/werun2023/2023-03-16T13:58:12.297822~general~bcoconut~1P6A5586.jpg\n",
    "51 uploading D:\\umesh\\D K D  2023 2\\Untitled Export\\1P6A5587.jpg to uploads/werun2023/2023-03-16T13:58:12.657186~general~bcoconut~1P6A5587.jpg\n",
    "52 uploading D:\\umesh\\D K D  2023 2\\Untitled Export\\1P6A5588.jpg to uploads/werun2023/2023-03-16T13:58:12.969674~general~bcoconut~1P6A5588.jpg\n",
    "53 uploading D:\\umesh\\D K D  2023 2\\Untitled Export\\1P6A5589.jpg to uploads/werun2023/2023-03-16T13:58:13.438409~general~bcoconut~1P6A5589.jpg\n",
    "54 uploading D:\\umesh\\D K D  2023 2\\Untitled Export\\1P6A5590.jpg to uploads/werun2023/2023-03-16T13:58:13.735275~general~bcoconut~1P6A5590.jpg\n",
    "55 uploading D:\\umesh\\D K D  2023 2\\Untitled Export\\1P6A5591.jpg to uploads/werun2023/2023-03-16T13:58:14.079020~general~bcoconut~1P6A5591.jpg\n",
    "56 uploading D:\\umesh\\D K D  2023 2\\Untitled Export\\1P6A5592.jpg to uploads/werun2023/2023-03-16T13:58:14.407129~general~bcoconut~1P6A5592.jpg\n",
    "57 uploading D:\\umesh\\D K D  2023 2\\Untitled Export\\1P6A5594.jpg to uploads/werun2023/2023-03-16T13:58:14.703994~general~bcoconut~1P6A5594.jpg\n",
    "58 uploading D:\\umesh\\D K D  2023 2\\Untitled Export\\1P6A5595.jpg to uploads/werun2023/2023-03-16T13:58:15.000858~general~bcoconut~1P6A5595.jpg\n",
    "59 uploading D:\\umesh\\D K D  2023 2\\Untitled Export\\1P6A5596.jpg to uploads/werun2023/2023-03-16T13:58:15.391475~general~bcoconut~1P6A5596.jpg\n",
    "60 uploading D:\\umesh\\D K D  2023 2\\Untitled Export\\1P6A5597.jpg to uploads/werun2023/2023-03-16T13:58:15.813334~general~bcoconut~1P6A5597.jpg\n",
    "61 uploading D:\\umesh\\D K D  2023 2\\Untitled Export\\1P6A5598.jpg to uploads/werun2023/2023-03-16T13:58:16.360190~general~bcoconut~1P6A5598.jpg\n",
    "62 uploading D:\\umesh\\D K D  2023 2\\Untitled Export\\1P6A5599.jpg to uploads/werun2023/2023-03-16T13:58:16.703928~general~bcoconut~1P6A5599.jpg\n",
    "63 uploading D:\\umesh\\D K D  2023 2\\Untitled Export\\1P6A5600.jpg to uploads/werun2023/2023-03-16T13:58:16.953921~general~bcoconut~1P6A5600.jpg\n",
    "64 uploading D:\\umesh\\D K D  2023 2\\Untitled Export\\1P6A5601.jpg to uploads/werun2023/2023-03-16T13:58:17.250787~general~bcoconut~1P6A5601.jpg\n",
    "65 uploading D:\\umesh\\D K D  2023 2\\Untitled Export\\1P6A5602.jpg to uploads/werun2023/2023-03-16T13:58:17.563277~general~bcoconut~1P6A5602.jpg\n",
    "66 uploading D:\\umesh\\D K D  2023 2\\Untitled Export\\1P6A5603.jpg to uploads/werun2023/2023-03-16T13:58:17.844517~general~bcoconut~1P6A5603.jpg\n",
    "67 uploading D:\\umesh\\D K D  2023 2\\Untitled Export\\1P6A5604.jpg to uploads/werun2023/2023-03-16T13:58:18.219508~general~bcoconut~1P6A5604.jpg\n",
    "68 uploading D:\\umesh\\D K D  2023 2\\Untitled Export\\1P6A5605.jpg to uploads/werun2023/2023-03-16T13:58:18.516370~general~bcoconut~1P6A5605.jpg"
   ]
  }
 ],
 "metadata": {
  "interpreter": {
   "hash": "f26c6c3e6779aa43ee1c2715d332bcf59648a29de16f854ab6767dd41ea1d325"
  },
  "kernelspec": {
   "display_name": "Python 3 (ipykernel)",
   "language": "python",
   "name": "python3"
  },
  "language_info": {
   "codemirror_mode": {
    "name": "ipython",
    "version": 3
   },
   "file_extension": ".py",
   "mimetype": "text/x-python",
   "name": "python",
   "nbconvert_exporter": "python",
   "pygments_lexer": "ipython3",
   "version": "3.11.0"
  }
 },
 "nbformat": 4,
 "nbformat_minor": 5
}
